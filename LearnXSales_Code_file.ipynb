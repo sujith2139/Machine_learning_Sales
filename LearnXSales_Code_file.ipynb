{
 "cells": [
  {
   "cell_type": "code",
   "execution_count": 1,
   "metadata": {},
   "outputs": [],
   "source": [
    "#Importing the necessary modules and libraries\n",
    "import numpy as np\n",
    "import pandas as pd\n",
    "#Matplot and Seaborn for visualisation\n",
    "import matplotlib.pyplot as plt\n",
    "import seaborn as sns\n",
    "import scipy.stats as stats\n",
    "from scipy.stats import norm, skew\n",
    "import statsmodels.api as sm"
   ]
  },
  {
   "cell_type": "code",
   "execution_count": 2,
   "metadata": {},
   "outputs": [],
   "source": [
    "#Read the csv Files\n",
    "df_test_LearnX=pd.read_csv('test.csv')\n",
    "df_train_LearnX=pd.read_csv('train.csv')"
   ]
  },
  {
   "cell_type": "code",
   "execution_count": 3,
   "metadata": {},
   "outputs": [
    {
     "data": {
      "text/html": [
       "<div>\n",
       "<style scoped>\n",
       "    .dataframe tbody tr th:only-of-type {\n",
       "        vertical-align: middle;\n",
       "    }\n",
       "\n",
       "    .dataframe tbody tr th {\n",
       "        vertical-align: top;\n",
       "    }\n",
       "\n",
       "    .dataframe thead th {\n",
       "        text-align: right;\n",
       "    }\n",
       "</style>\n",
       "<table border=\"1\" class=\"dataframe\">\n",
       "  <thead>\n",
       "    <tr style=\"text-align: right;\">\n",
       "      <th></th>\n",
       "      <th>ID</th>\n",
       "      <th>Day_No</th>\n",
       "      <th>Course_ID</th>\n",
       "      <th>Course_Domain</th>\n",
       "      <th>Course_Type</th>\n",
       "      <th>Short_Promotion</th>\n",
       "      <th>Public_Holiday</th>\n",
       "      <th>Long_Promotion</th>\n",
       "      <th>Competition_Metric</th>\n",
       "    </tr>\n",
       "  </thead>\n",
       "  <tbody>\n",
       "    <tr>\n",
       "      <td>0</td>\n",
       "      <td>883</td>\n",
       "      <td>883</td>\n",
       "      <td>1</td>\n",
       "      <td>Development</td>\n",
       "      <td>Course</td>\n",
       "      <td>1</td>\n",
       "      <td>0</td>\n",
       "      <td>1</td>\n",
       "      <td>0.007</td>\n",
       "    </tr>\n",
       "    <tr>\n",
       "      <td>1</td>\n",
       "      <td>884</td>\n",
       "      <td>884</td>\n",
       "      <td>1</td>\n",
       "      <td>Development</td>\n",
       "      <td>Course</td>\n",
       "      <td>1</td>\n",
       "      <td>0</td>\n",
       "      <td>1</td>\n",
       "      <td>0.007</td>\n",
       "    </tr>\n",
       "    <tr>\n",
       "      <td>2</td>\n",
       "      <td>885</td>\n",
       "      <td>885</td>\n",
       "      <td>1</td>\n",
       "      <td>Development</td>\n",
       "      <td>Course</td>\n",
       "      <td>1</td>\n",
       "      <td>0</td>\n",
       "      <td>1</td>\n",
       "      <td>0.007</td>\n",
       "    </tr>\n",
       "    <tr>\n",
       "      <td>3</td>\n",
       "      <td>886</td>\n",
       "      <td>886</td>\n",
       "      <td>1</td>\n",
       "      <td>Development</td>\n",
       "      <td>Course</td>\n",
       "      <td>1</td>\n",
       "      <td>0</td>\n",
       "      <td>1</td>\n",
       "      <td>0.007</td>\n",
       "    </tr>\n",
       "    <tr>\n",
       "      <td>4</td>\n",
       "      <td>887</td>\n",
       "      <td>887</td>\n",
       "      <td>1</td>\n",
       "      <td>Development</td>\n",
       "      <td>Course</td>\n",
       "      <td>0</td>\n",
       "      <td>0</td>\n",
       "      <td>1</td>\n",
       "      <td>0.007</td>\n",
       "    </tr>\n",
       "  </tbody>\n",
       "</table>\n",
       "</div>"
      ],
      "text/plain": [
       "    ID  Day_No  Course_ID Course_Domain Course_Type  Short_Promotion  \\\n",
       "0  883     883          1   Development      Course                1   \n",
       "1  884     884          1   Development      Course                1   \n",
       "2  885     885          1   Development      Course                1   \n",
       "3  886     886          1   Development      Course                1   \n",
       "4  887     887          1   Development      Course                0   \n",
       "\n",
       "   Public_Holiday  Long_Promotion  Competition_Metric  \n",
       "0               0               1               0.007  \n",
       "1               0               1               0.007  \n",
       "2               0               1               0.007  \n",
       "3               0               1               0.007  \n",
       "4               0               1               0.007  "
      ]
     },
     "execution_count": 3,
     "metadata": {},
     "output_type": "execute_result"
    }
   ],
   "source": [
    "#Code to retreive the top 5 rows of the test dataset\n",
    "df_test_LearnX.head()"
   ]
  },
  {
   "cell_type": "code",
   "execution_count": 4,
   "metadata": {},
   "outputs": [
    {
     "data": {
      "text/html": [
       "<div>\n",
       "<style scoped>\n",
       "    .dataframe tbody tr th:only-of-type {\n",
       "        vertical-align: middle;\n",
       "    }\n",
       "\n",
       "    .dataframe tbody tr th {\n",
       "        vertical-align: top;\n",
       "    }\n",
       "\n",
       "    .dataframe thead th {\n",
       "        text-align: right;\n",
       "    }\n",
       "</style>\n",
       "<table border=\"1\" class=\"dataframe\">\n",
       "  <thead>\n",
       "    <tr style=\"text-align: right;\">\n",
       "      <th></th>\n",
       "      <th>ID</th>\n",
       "      <th>Day_No</th>\n",
       "      <th>Course_ID</th>\n",
       "      <th>Course_Domain</th>\n",
       "      <th>Course_Type</th>\n",
       "      <th>Short_Promotion</th>\n",
       "      <th>Public_Holiday</th>\n",
       "      <th>Long_Promotion</th>\n",
       "      <th>User_Traffic</th>\n",
       "      <th>Competition_Metric</th>\n",
       "      <th>Sales</th>\n",
       "    </tr>\n",
       "  </thead>\n",
       "  <tbody>\n",
       "    <tr>\n",
       "      <td>0</td>\n",
       "      <td>1</td>\n",
       "      <td>1</td>\n",
       "      <td>1</td>\n",
       "      <td>Development</td>\n",
       "      <td>Course</td>\n",
       "      <td>0</td>\n",
       "      <td>1</td>\n",
       "      <td>1</td>\n",
       "      <td>11004</td>\n",
       "      <td>0.007</td>\n",
       "      <td>81</td>\n",
       "    </tr>\n",
       "    <tr>\n",
       "      <td>1</td>\n",
       "      <td>2</td>\n",
       "      <td>2</td>\n",
       "      <td>1</td>\n",
       "      <td>Development</td>\n",
       "      <td>Course</td>\n",
       "      <td>0</td>\n",
       "      <td>0</td>\n",
       "      <td>1</td>\n",
       "      <td>13650</td>\n",
       "      <td>0.007</td>\n",
       "      <td>79</td>\n",
       "    </tr>\n",
       "    <tr>\n",
       "      <td>2</td>\n",
       "      <td>3</td>\n",
       "      <td>3</td>\n",
       "      <td>1</td>\n",
       "      <td>Development</td>\n",
       "      <td>Course</td>\n",
       "      <td>0</td>\n",
       "      <td>0</td>\n",
       "      <td>1</td>\n",
       "      <td>11655</td>\n",
       "      <td>0.007</td>\n",
       "      <td>75</td>\n",
       "    </tr>\n",
       "    <tr>\n",
       "      <td>3</td>\n",
       "      <td>4</td>\n",
       "      <td>4</td>\n",
       "      <td>1</td>\n",
       "      <td>Development</td>\n",
       "      <td>Course</td>\n",
       "      <td>0</td>\n",
       "      <td>0</td>\n",
       "      <td>1</td>\n",
       "      <td>12054</td>\n",
       "      <td>0.007</td>\n",
       "      <td>80</td>\n",
       "    </tr>\n",
       "    <tr>\n",
       "      <td>4</td>\n",
       "      <td>5</td>\n",
       "      <td>5</td>\n",
       "      <td>1</td>\n",
       "      <td>Development</td>\n",
       "      <td>Course</td>\n",
       "      <td>0</td>\n",
       "      <td>0</td>\n",
       "      <td>1</td>\n",
       "      <td>6804</td>\n",
       "      <td>0.007</td>\n",
       "      <td>41</td>\n",
       "    </tr>\n",
       "  </tbody>\n",
       "</table>\n",
       "</div>"
      ],
      "text/plain": [
       "   ID  Day_No  Course_ID Course_Domain Course_Type  Short_Promotion  \\\n",
       "0   1       1          1   Development      Course                0   \n",
       "1   2       2          1   Development      Course                0   \n",
       "2   3       3          1   Development      Course                0   \n",
       "3   4       4          1   Development      Course                0   \n",
       "4   5       5          1   Development      Course                0   \n",
       "\n",
       "   Public_Holiday  Long_Promotion  User_Traffic  Competition_Metric  Sales  \n",
       "0               1               1         11004               0.007     81  \n",
       "1               0               1         13650               0.007     79  \n",
       "2               0               1         11655               0.007     75  \n",
       "3               0               1         12054               0.007     80  \n",
       "4               0               1          6804               0.007     41  "
      ]
     },
     "execution_count": 4,
     "metadata": {},
     "output_type": "execute_result"
    }
   ],
   "source": [
    "#Code to retreive the top 5 rows of the train dataset\n",
    "df_train_LearnX.head()"
   ]
  },
  {
   "cell_type": "markdown",
   "metadata": {},
   "source": [
    "### Data Description"
   ]
  },
  {
   "cell_type": "markdown",
   "metadata": {},
   "source": [
    "1. ID--------------------------Unique Identifier for a row\n",
    "2. Day_No------------------Day Number\n",
    "3. Course_ID---------------Unique ID for a course\n",
    "4. Course_Domain--------Course Domain (Development, Finance etc.)\n",
    "5. Course_Type-----------Course/Program/Degree\n",
    "6. Short_Promotion-------Whether Short Term Promotion is Live\n",
    "7. Public_Holiday---------Regional/Public Holiday\n",
    "8. Long_Promotion--------Whether Long Term Promotion is Live for the course\n",
    "9. User_Traffic-------------Number of customers landing on the course page\n",
    "10. Competition_Metric----A metric defining the strength of competition \n",
    "11. Sales(Target)------------Total Course Sales"
   ]
  },
  {
   "cell_type": "code",
   "execution_count": 5,
   "metadata": {},
   "outputs": [],
   "source": [
    "#We need to predict Sales for given test data\n",
    "#lets first merge the train and test data for Exploratory Data Analysis\n",
    "df_train_LearnX['source'] = 'train'\n",
    "df_test_LearnX['source'] = 'test'\n",
    "df_test_LearnX['Sales'] = 0\n",
    "data = pd.concat([df_train_LearnX, df_test_LearnX], sort = False)\n",
    "#print(train.shape, test.shape, data.shape)"
   ]
  },
  {
   "cell_type": "code",
   "execution_count": 6,
   "metadata": {},
   "outputs": [
    {
     "name": "stdout",
     "output_type": "stream",
     "text": [
      "Train dataset contain 548087 rwos and 12 columns\n"
     ]
    }
   ],
   "source": [
    "#Get the number of rows and columns of the dataset\n",
    "print('Train dataset contain {} rwos and {} columns'.format(data.shape[0],data.shape[1]))"
   ]
  },
  {
   "cell_type": "code",
   "execution_count": 7,
   "metadata": {},
   "outputs": [
    {
     "name": "stdout",
     "output_type": "stream",
     "text": [
      "<class 'pandas.core.frame.DataFrame'>\n",
      "Int64Index: 548087 entries, 0 to 35999\n",
      "Data columns (total 12 columns):\n",
      "ID                    548087 non-null int64\n",
      "Day_No                548087 non-null int64\n",
      "Course_ID             548087 non-null int64\n",
      "Course_Domain         548087 non-null object\n",
      "Course_Type           548087 non-null object\n",
      "Short_Promotion       548087 non-null int64\n",
      "Public_Holiday        548087 non-null int64\n",
      "Long_Promotion        548087 non-null int64\n",
      "User_Traffic          512087 non-null float64\n",
      "Competition_Metric    546203 non-null float64\n",
      "Sales                 548087 non-null int64\n",
      "source                548087 non-null object\n",
      "dtypes: float64(2), int64(7), object(3)\n",
      "memory usage: 54.4+ MB\n"
     ]
    }
   ],
   "source": [
    "data.info()"
   ]
  },
  {
   "cell_type": "markdown",
   "metadata": {},
   "source": [
    "The dataset have 9 numerical columns (ID, Day_No, Course_ID, Short_Promotion, Public_Holiday, Long_Promotion, User_Traffic, Competition_Metric and Sales) and 3 categorical columns(Course_Domain, Course_Type and source)"
   ]
  },
  {
   "cell_type": "code",
   "execution_count": 8,
   "metadata": {},
   "outputs": [
    {
     "data": {
      "text/plain": [
       "Index(['Course_Domain', 'Course_Type', 'source'], dtype='object')"
      ]
     },
     "execution_count": 8,
     "metadata": {},
     "output_type": "execute_result"
    }
   ],
   "source": [
    "#Code to get the categorical columns of the dataset\n",
    "categorial_features = data.select_dtypes(include=[np.object]).columns\n",
    "categorial_features"
   ]
  },
  {
   "cell_type": "code",
   "execution_count": 9,
   "metadata": {},
   "outputs": [
    {
     "data": {
      "text/plain": [
       "Index(['ID', 'Day_No', 'Course_ID', 'Short_Promotion', 'Public_Holiday',\n",
       "       'Long_Promotion', 'User_Traffic', 'Competition_Metric', 'Sales'],\n",
       "      dtype='object')"
      ]
     },
     "execution_count": 9,
     "metadata": {},
     "output_type": "execute_result"
    }
   ],
   "source": [
    "#Code to get the Numerical columns of the dataset\n",
    "numerical_features = data.select_dtypes(include=[np.number]).columns\n",
    "numerical_features"
   ]
  },
  {
   "cell_type": "markdown",
   "metadata": {},
   "source": [
    "###  Check the data.describe()"
   ]
  },
  {
   "cell_type": "code",
   "execution_count": 10,
   "metadata": {},
   "outputs": [
    {
     "data": {
      "text/html": [
       "<div>\n",
       "<style scoped>\n",
       "    .dataframe tbody tr th:only-of-type {\n",
       "        vertical-align: middle;\n",
       "    }\n",
       "\n",
       "    .dataframe tbody tr th {\n",
       "        vertical-align: top;\n",
       "    }\n",
       "\n",
       "    .dataframe thead th {\n",
       "        text-align: right;\n",
       "    }\n",
       "</style>\n",
       "<table border=\"1\" class=\"dataframe\">\n",
       "  <thead>\n",
       "    <tr style=\"text-align: right;\">\n",
       "      <th></th>\n",
       "      <th>ID</th>\n",
       "      <th>Day_No</th>\n",
       "      <th>Course_ID</th>\n",
       "      <th>Short_Promotion</th>\n",
       "      <th>Public_Holiday</th>\n",
       "      <th>Long_Promotion</th>\n",
       "      <th>User_Traffic</th>\n",
       "      <th>Competition_Metric</th>\n",
       "      <th>Sales</th>\n",
       "    </tr>\n",
       "  </thead>\n",
       "  <tbody>\n",
       "    <tr>\n",
       "      <td>count</td>\n",
       "      <td>548087.000000</td>\n",
       "      <td>548087.000000</td>\n",
       "      <td>548087.000000</td>\n",
       "      <td>548087.000000</td>\n",
       "      <td>548087.000000</td>\n",
       "      <td>548087.000000</td>\n",
       "      <td>512087.000000</td>\n",
       "      <td>546203.000000</td>\n",
       "      <td>548087.000000</td>\n",
       "    </tr>\n",
       "    <tr>\n",
       "      <td>mean</td>\n",
       "      <td>274044.000000</td>\n",
       "      <td>466.286898</td>\n",
       "      <td>300.395678</td>\n",
       "      <td>0.381542</td>\n",
       "      <td>0.030282</td>\n",
       "      <td>0.489802</td>\n",
       "      <td>15375.101198</td>\n",
       "      <td>0.073318</td>\n",
       "      <td>112.890649</td>\n",
       "    </tr>\n",
       "    <tr>\n",
       "      <td>std</td>\n",
       "      <td>158219.232832</td>\n",
       "      <td>274.352901</td>\n",
       "      <td>173.355222</td>\n",
       "      <td>0.485765</td>\n",
       "      <td>0.171361</td>\n",
       "      <td>0.499896</td>\n",
       "      <td>7727.231205</td>\n",
       "      <td>0.100069</td>\n",
       "      <td>60.467897</td>\n",
       "    </tr>\n",
       "    <tr>\n",
       "      <td>min</td>\n",
       "      <td>1.000000</td>\n",
       "      <td>1.000000</td>\n",
       "      <td>1.000000</td>\n",
       "      <td>0.000000</td>\n",
       "      <td>0.000000</td>\n",
       "      <td>0.000000</td>\n",
       "      <td>168.000000</td>\n",
       "      <td>0.000000</td>\n",
       "      <td>0.000000</td>\n",
       "    </tr>\n",
       "    <tr>\n",
       "      <td>25%</td>\n",
       "      <td>137022.500000</td>\n",
       "      <td>229.000000</td>\n",
       "      <td>150.000000</td>\n",
       "      <td>0.000000</td>\n",
       "      <td>0.000000</td>\n",
       "      <td>0.000000</td>\n",
       "      <td>10584.000000</td>\n",
       "      <td>0.010000</td>\n",
       "      <td>78.000000</td>\n",
       "    </tr>\n",
       "    <tr>\n",
       "      <td>50%</td>\n",
       "      <td>274044.000000</td>\n",
       "      <td>457.000000</td>\n",
       "      <td>300.000000</td>\n",
       "      <td>0.000000</td>\n",
       "      <td>0.000000</td>\n",
       "      <td>0.000000</td>\n",
       "      <td>13776.000000</td>\n",
       "      <td>0.035000</td>\n",
       "      <td>107.000000</td>\n",
       "    </tr>\n",
       "    <tr>\n",
       "      <td>75%</td>\n",
       "      <td>411065.500000</td>\n",
       "      <td>711.000000</td>\n",
       "      <td>451.000000</td>\n",
       "      <td>1.000000</td>\n",
       "      <td>0.000000</td>\n",
       "      <td>1.000000</td>\n",
       "      <td>18123.000000</td>\n",
       "      <td>0.094000</td>\n",
       "      <td>143.000000</td>\n",
       "    </tr>\n",
       "    <tr>\n",
       "      <td>max</td>\n",
       "      <td>548087.000000</td>\n",
       "      <td>942.000000</td>\n",
       "      <td>600.000000</td>\n",
       "      <td>1.000000</td>\n",
       "      <td>1.000000</td>\n",
       "      <td>1.000000</td>\n",
       "      <td>100002.000000</td>\n",
       "      <td>0.768000</td>\n",
       "      <td>682.000000</td>\n",
       "    </tr>\n",
       "  </tbody>\n",
       "</table>\n",
       "</div>"
      ],
      "text/plain": [
       "                  ID         Day_No      Course_ID  Short_Promotion  \\\n",
       "count  548087.000000  548087.000000  548087.000000    548087.000000   \n",
       "mean   274044.000000     466.286898     300.395678         0.381542   \n",
       "std    158219.232832     274.352901     173.355222         0.485765   \n",
       "min         1.000000       1.000000       1.000000         0.000000   \n",
       "25%    137022.500000     229.000000     150.000000         0.000000   \n",
       "50%    274044.000000     457.000000     300.000000         0.000000   \n",
       "75%    411065.500000     711.000000     451.000000         1.000000   \n",
       "max    548087.000000     942.000000     600.000000         1.000000   \n",
       "\n",
       "       Public_Holiday  Long_Promotion   User_Traffic  Competition_Metric  \\\n",
       "count   548087.000000   548087.000000  512087.000000       546203.000000   \n",
       "mean         0.030282        0.489802   15375.101198            0.073318   \n",
       "std          0.171361        0.499896    7727.231205            0.100069   \n",
       "min          0.000000        0.000000     168.000000            0.000000   \n",
       "25%          0.000000        0.000000   10584.000000            0.010000   \n",
       "50%          0.000000        0.000000   13776.000000            0.035000   \n",
       "75%          0.000000        1.000000   18123.000000            0.094000   \n",
       "max          1.000000        1.000000  100002.000000            0.768000   \n",
       "\n",
       "               Sales  \n",
       "count  548087.000000  \n",
       "mean      112.890649  \n",
       "std        60.467897  \n",
       "min         0.000000  \n",
       "25%        78.000000  \n",
       "50%       107.000000  \n",
       "75%       143.000000  \n",
       "max       682.000000  "
      ]
     },
     "execution_count": 10,
     "metadata": {},
     "output_type": "execute_result"
    }
   ],
   "source": [
    "data.describe()"
   ]
  },
  {
   "cell_type": "code",
   "execution_count": 158,
   "metadata": {},
   "outputs": [
    {
     "data": {
      "text/plain": [
       "Text(0.5, 1.0, 'Sales Distribution')"
      ]
     },
     "execution_count": 158,
     "metadata": {},
     "output_type": "execute_result"
    },
    {
     "data": {
      "image/png": "[encoded data removed]",
      "text/plain": [
       "<Figure size 432x288 with 1 Axes>"
      ]
     },
     "metadata": {
      "needs_background": "light"
     },
     "output_type": "display_data"
    }
   ],
   "source": [
    "sns.distplot(data['Sales'])\n",
    "plt.title('Sales Distribution')"
   ]
  },
  {
   "cell_type": "markdown",
   "metadata": {},
   "source": [
    "Observation from the Sales distribution graph:\n",
    "1. Deviate from the normal distribution.\n",
    "2. Have appreciable positive skewness.\n",
    "3. The graph shows peakedness."
   ]
  },
  {
   "cell_type": "code",
   "execution_count": 61,
   "metadata": {},
   "outputs": [
    {
     "name": "stdout",
     "output_type": "stream",
     "text": [
      "Skewness: 0.804940\n",
      "Kurtsis: 2.398177\n"
     ]
    }
   ],
   "source": [
    "print('Skewness: %f' % data['Sales'].skew())\n",
    "print('Kurtsis: %f' %data['Sales'].kurt())"
   ]
  },
  {
   "cell_type": "markdown",
   "metadata": {},
   "source": [
    "Skewness: 0.804940 i.e, Sales distribution is slightly right skewed.\n",
    "Kurtsis: 2.398177 i.e, Sales distribution is shorter, tails are thinner than the normal distribution."
   ]
  },
  {
   "cell_type": "markdown",
   "metadata": {},
   "source": [
    "### Checking for missing values:"
   ]
  },
  {
   "cell_type": "code",
   "execution_count": 11,
   "metadata": {},
   "outputs": [
    {
     "data": {
      "text/plain": [
       "ID                        0\n",
       "Day_No                    0\n",
       "Course_ID                 0\n",
       "Course_Domain             0\n",
       "Course_Type               0\n",
       "Short_Promotion           0\n",
       "Public_Holiday            0\n",
       "Long_Promotion            0\n",
       "User_Traffic          36000\n",
       "Competition_Metric     1884\n",
       "Sales                     0\n",
       "source                    0\n",
       "dtype: int64"
      ]
     },
     "execution_count": 11,
     "metadata": {},
     "output_type": "execute_result"
    }
   ],
   "source": [
    "#Code to check the columns with number of missing values\n",
    "data.apply(lambda x: sum(x.isnull()))"
   ]
  },
  {
   "cell_type": "code",
   "execution_count": 12,
   "metadata": {},
   "outputs": [
    {
     "data": {
      "text/plain": [
       "User_Traffic          6.568300\n",
       "Competition_Metric    0.343741\n",
       "source                0.000000\n",
       "Sales                 0.000000\n",
       "Long_Promotion        0.000000\n",
       "Public_Holiday        0.000000\n",
       "Short_Promotion       0.000000\n",
       "Course_Type           0.000000\n",
       "Course_Domain         0.000000\n",
       "Course_ID             0.000000\n",
       "Day_No                0.000000\n",
       "ID                    0.000000\n",
       "dtype: float64"
      ]
     },
     "execution_count": 12,
     "metadata": {},
     "output_type": "execute_result"
    }
   ],
   "source": [
    "#missing values in terms of percentage\n",
    "(data.isnull().sum() *100/ len(data)).sort_values(ascending=False)[:20]"
   ]
  },
  {
   "cell_type": "markdown",
   "metadata": {},
   "source": [
    "There are 1764(0.343741%) missing values in Competition_Metric and 36000 (6.568300 %) missing values in User_Traffic."
   ]
  },
  {
   "cell_type": "code",
   "execution_count": 13,
   "metadata": {},
   "outputs": [
    {
     "data": {
      "text/plain": [
       "ID                    548087\n",
       "Day_No                   942\n",
       "Course_ID                600\n",
       "Course_Domain              4\n",
       "Course_Type                3\n",
       "Short_Promotion            2\n",
       "Public_Holiday             2\n",
       "Long_Promotion             2\n",
       "User_Traffic            3476\n",
       "Competition_Metric       197\n",
       "Sales                    544\n",
       "source                     2\n",
       "dtype: int64"
      ]
     },
     "execution_count": 13,
     "metadata": {},
     "output_type": "execute_result"
    }
   ],
   "source": [
    "#Code to check the number of unique values in each columns\n",
    "data.apply(lambda x : len(x.unique()))"
   ]
  },
  {
   "cell_type": "markdown",
   "metadata": {},
   "source": [
    "This tells us that there are 548087 IDs, 4 Course_Domains and 3 course_type. Another thing that should catch attention is that Short_Promotion, Public_Holiday, Long_Promotionhas have 2 unique values. Let’s explore further using the frequency of different categories in each nominal variable."
   ]
  },
  {
   "cell_type": "markdown",
   "metadata": {},
   "source": [
    "#### Lets start looking Course_domain and Course_Type distribution in Sales"
   ]
  },
  {
   "cell_type": "code",
   "execution_count": 14,
   "metadata": {},
   "outputs": [
    {
     "data": {
      "image/png": "[encoded data removed]",
      "text/plain": [
       "<Figure size 720x360 with 2 Axes>"
      ]
     },
     "metadata": {
      "needs_background": "light"
     },
     "output_type": "display_data"
    }
   ],
   "source": [
    "#Code to plot boxplot of sales vs each Course Domain\n",
    "plt.figure(figsize = (10,5))\n",
    "plt.subplot(211)\n",
    "sns.boxplot(x='Course_Domain', y='Sales', data=data, palette=\"Set1\")\n",
    "\n",
    "#Code to plot boxplot of sales vs each Course Type\n",
    "plt.subplot(212)\n",
    "sns.boxplot(x='Course_Type', y='Sales', data=data, palette=\"Set1\")\n",
    "\n",
    "plt.subplots_adjust(wspace = 0.2, hspace = 0.4,top = 1.5)\n",
    "\n",
    "plt.show()"
   ]
  },
  {
   "cell_type": "markdown",
   "metadata": {},
   "source": [
    "### Imputing Missing values:"
   ]
  },
  {
   "cell_type": "code",
   "execution_count": 15,
   "metadata": {},
   "outputs": [
    {
     "data": {
      "text/plain": [
       "Course_Domain\n",
       "Business                0.012200\n",
       "Development             0.068960\n",
       "Finance & Accounting    0.043276\n",
       "Software Marketing      0.095883\n",
       "Name: Competition_Metric, dtype: float64"
      ]
     },
     "execution_count": 15,
     "metadata": {},
     "output_type": "execute_result"
    }
   ],
   "source": [
    "#imputing Competition_metric column\n",
    "data.groupby('Course_Domain')['Competition_Metric'].mean()"
   ]
  },
  {
   "cell_type": "markdown",
   "metadata": {},
   "source": [
    "Imputing the 'Competition_Metric' field with the mean Competition_Metric value of each course_domain"
   ]
  },
  {
   "cell_type": "code",
   "execution_count": 16,
   "metadata": {},
   "outputs": [],
   "source": [
    "def impute_Competition_metric(cols):\n",
    "    Competition_Metric=cols[0]\n",
    "    course_domain=cols[1]\n",
    "    \n",
    "    if pd.isnull(Competition_Metric):\n",
    "        if course_domain=='Business':\n",
    "            return (0.012200) #replacing Competition_metric with the mean Competition_metric of course_domain 'Business'\n",
    "        elif course_domain=='Development':\n",
    "            return (0.068994)  #replacing Competition_metric with the mean Competition_metric of course_domain 'Development'\n",
    "        elif course_domain=='Finance & Accounting':\n",
    "            ##replacing Competition_metric with the mean Competition_metric of course_domain 'Finance & Accounting'\n",
    "            return 0.043276\n",
    "        else:\n",
    "            return (0.095883) #replacing Competition_metric with the mean Competition_metric of course_domain 'Program'\n",
    "    else:\n",
    "        return Competition_Metric # if the Competition_Metric is not null then return the original Competition_Metric value\n",
    "        "
   ]
  },
  {
   "cell_type": "code",
   "execution_count": 17,
   "metadata": {},
   "outputs": [],
   "source": [
    "data['Competition_Metric']=data[['Competition_Metric','Course_Domain']].apply(impute_Competition_metric,axis=1)"
   ]
  },
  {
   "cell_type": "code",
   "execution_count": 18,
   "metadata": {},
   "outputs": [
    {
     "data": {
      "text/plain": [
       "ID                        0\n",
       "Day_No                    0\n",
       "Course_ID                 0\n",
       "Course_Domain             0\n",
       "Course_Type               0\n",
       "Short_Promotion           0\n",
       "Public_Holiday            0\n",
       "Long_Promotion            0\n",
       "User_Traffic          36000\n",
       "Competition_Metric        0\n",
       "Sales                     0\n",
       "source                    0\n",
       "dtype: int64"
      ]
     },
     "execution_count": 18,
     "metadata": {},
     "output_type": "execute_result"
    }
   ],
   "source": [
    "data.apply(lambda x: sum(x.isnull()))"
   ]
  },
  {
   "cell_type": "markdown",
   "metadata": {},
   "source": [
    "This confirms that the 'Competition_Metric' column has no missing values now."
   ]
  },
  {
   "cell_type": "code",
   "execution_count": 19,
   "metadata": {},
   "outputs": [
    {
     "data": {
      "text/html": [
       "<div>\n",
       "<style scoped>\n",
       "    .dataframe tbody tr th:only-of-type {\n",
       "        vertical-align: middle;\n",
       "    }\n",
       "\n",
       "    .dataframe tbody tr th {\n",
       "        vertical-align: top;\n",
       "    }\n",
       "\n",
       "    .dataframe thead th {\n",
       "        text-align: right;\n",
       "    }\n",
       "</style>\n",
       "<table border=\"1\" class=\"dataframe\">\n",
       "  <thead>\n",
       "    <tr style=\"text-align: right;\">\n",
       "      <th></th>\n",
       "      <th>Development</th>\n",
       "      <th>Software Marketing</th>\n",
       "      <th>Finance &amp; Accounting</th>\n",
       "      <th>Business</th>\n",
       "    </tr>\n",
       "  </thead>\n",
       "  <tbody>\n",
       "    <tr>\n",
       "      <td>0</td>\n",
       "      <td>13671.0</td>\n",
       "      <td>10647.0</td>\n",
       "      <td>15372.0</td>\n",
       "      <td>51618.0</td>\n",
       "    </tr>\n",
       "    <tr>\n",
       "      <td>1</td>\n",
       "      <td>NaN</td>\n",
       "      <td>10857.0</td>\n",
       "      <td>NaN</td>\n",
       "      <td>NaN</td>\n",
       "    </tr>\n",
       "  </tbody>\n",
       "</table>\n",
       "</div>"
      ],
      "text/plain": [
       "   Development  Software Marketing  Finance & Accounting  Business\n",
       "0      13671.0             10647.0               15372.0   51618.0\n",
       "1          NaN             10857.0                   NaN       NaN"
      ]
     },
     "execution_count": 19,
     "metadata": {},
     "output_type": "execute_result"
    }
   ],
   "source": [
    "#Imputing User Traffic column with mode(frequesntly user traffic number) user_traffic value of each course_Domain\n",
    "cols=list(data.Course_Domain.unique())\n",
    "cols\n",
    "mode={}\n",
    "for domains in cols:\n",
    "    mode[domains] =data.User_Traffic[data.Course_Domain==domains].mode()\n",
    "pd.DataFrame(mode)"
   ]
  },
  {
   "cell_type": "code",
   "execution_count": 20,
   "metadata": {},
   "outputs": [],
   "source": [
    "def impute_User_Traffic(cols):\n",
    "    User_Traffic=cols[0]\n",
    "    course_domain=cols[1]\n",
    "    \n",
    "    if pd.isnull(User_Traffic):\n",
    "        if course_domain=='Business':\n",
    "            return (51618.0) #replacing Competition_metric with the mean Competition_metric of course_domain 'Business'\n",
    "        elif course_domain=='Development':\n",
    "            return (13671.0)  #replacing Competition_metric with the mean Competition_metric of course_domain 'Development'\n",
    "        elif course_domain=='Finance & Accounting':\n",
    "            ##replacing Competition_metric with the mean Competition_metric of course_domain 'Finance & Accounting'\n",
    "            return 15372.0\n",
    "        else:\n",
    "            return (10857.0) #replacing Competition_metric with the mean Competition_metric of course_domain 'Program'\n",
    "    else:\n",
    "        return User_Traffic # if the Competition_Metric is not null then return the original Competition_Metric value\n",
    "        "
   ]
  },
  {
   "cell_type": "code",
   "execution_count": 21,
   "metadata": {},
   "outputs": [],
   "source": [
    "data['User_Traffic']=data[['User_Traffic','Course_Domain']].apply(impute_User_Traffic,axis=1)"
   ]
  },
  {
   "cell_type": "code",
   "execution_count": 22,
   "metadata": {},
   "outputs": [
    {
     "data": {
      "text/plain": [
       "ID                    0\n",
       "Day_No                0\n",
       "Course_ID             0\n",
       "Course_Domain         0\n",
       "Course_Type           0\n",
       "Short_Promotion       0\n",
       "Public_Holiday        0\n",
       "Long_Promotion        0\n",
       "User_Traffic          0\n",
       "Competition_Metric    0\n",
       "Sales                 0\n",
       "source                0\n",
       "dtype: int64"
      ]
     },
     "execution_count": 22,
     "metadata": {},
     "output_type": "execute_result"
    }
   ],
   "source": [
    "data.apply(lambda x: sum(x.isnull()))"
   ]
  },
  {
   "cell_type": "markdown",
   "metadata": {},
   "source": [
    "This confirms that the columns has no missing values now."
   ]
  },
  {
   "cell_type": "markdown",
   "metadata": {},
   "source": [
    "## Exploratory Data Analysis"
   ]
  },
  {
   "cell_type": "markdown",
   "metadata": {},
   "source": [
    "### Univariate Analysis"
   ]
  },
  {
   "cell_type": "code",
   "execution_count": 23,
   "metadata": {},
   "outputs": [
    {
     "data": {
      "text/html": [
       "<div>\n",
       "<style scoped>\n",
       "    .dataframe tbody tr th:only-of-type {\n",
       "        vertical-align: middle;\n",
       "    }\n",
       "\n",
       "    .dataframe tbody tr th {\n",
       "        vertical-align: top;\n",
       "    }\n",
       "\n",
       "    .dataframe thead th {\n",
       "        text-align: right;\n",
       "    }\n",
       "</style>\n",
       "<table border=\"1\" class=\"dataframe\">\n",
       "  <thead>\n",
       "    <tr style=\"text-align: right;\">\n",
       "      <th></th>\n",
       "      <th>ID</th>\n",
       "      <th>Day_No</th>\n",
       "      <th>Course_ID</th>\n",
       "      <th>Course_Domain</th>\n",
       "      <th>Course_Type</th>\n",
       "      <th>Short_Promotion</th>\n",
       "      <th>Public_Holiday</th>\n",
       "      <th>Long_Promotion</th>\n",
       "      <th>User_Traffic</th>\n",
       "      <th>Competition_Metric</th>\n",
       "      <th>Sales</th>\n",
       "      <th>source</th>\n",
       "    </tr>\n",
       "  </thead>\n",
       "  <tbody>\n",
       "    <tr>\n",
       "      <td>0</td>\n",
       "      <td>1</td>\n",
       "      <td>1</td>\n",
       "      <td>1</td>\n",
       "      <td>Development</td>\n",
       "      <td>Course</td>\n",
       "      <td>0</td>\n",
       "      <td>1</td>\n",
       "      <td>1</td>\n",
       "      <td>11004.0</td>\n",
       "      <td>0.007</td>\n",
       "      <td>81</td>\n",
       "      <td>train</td>\n",
       "    </tr>\n",
       "    <tr>\n",
       "      <td>1</td>\n",
       "      <td>2</td>\n",
       "      <td>2</td>\n",
       "      <td>1</td>\n",
       "      <td>Development</td>\n",
       "      <td>Course</td>\n",
       "      <td>0</td>\n",
       "      <td>0</td>\n",
       "      <td>1</td>\n",
       "      <td>13650.0</td>\n",
       "      <td>0.007</td>\n",
       "      <td>79</td>\n",
       "      <td>train</td>\n",
       "    </tr>\n",
       "    <tr>\n",
       "      <td>2</td>\n",
       "      <td>3</td>\n",
       "      <td>3</td>\n",
       "      <td>1</td>\n",
       "      <td>Development</td>\n",
       "      <td>Course</td>\n",
       "      <td>0</td>\n",
       "      <td>0</td>\n",
       "      <td>1</td>\n",
       "      <td>11655.0</td>\n",
       "      <td>0.007</td>\n",
       "      <td>75</td>\n",
       "      <td>train</td>\n",
       "    </tr>\n",
       "    <tr>\n",
       "      <td>3</td>\n",
       "      <td>4</td>\n",
       "      <td>4</td>\n",
       "      <td>1</td>\n",
       "      <td>Development</td>\n",
       "      <td>Course</td>\n",
       "      <td>0</td>\n",
       "      <td>0</td>\n",
       "      <td>1</td>\n",
       "      <td>12054.0</td>\n",
       "      <td>0.007</td>\n",
       "      <td>80</td>\n",
       "      <td>train</td>\n",
       "    </tr>\n",
       "    <tr>\n",
       "      <td>4</td>\n",
       "      <td>5</td>\n",
       "      <td>5</td>\n",
       "      <td>1</td>\n",
       "      <td>Development</td>\n",
       "      <td>Course</td>\n",
       "      <td>0</td>\n",
       "      <td>0</td>\n",
       "      <td>1</td>\n",
       "      <td>6804.0</td>\n",
       "      <td>0.007</td>\n",
       "      <td>41</td>\n",
       "      <td>train</td>\n",
       "    </tr>\n",
       "  </tbody>\n",
       "</table>\n",
       "</div>"
      ],
      "text/plain": [
       "   ID  Day_No  Course_ID Course_Domain Course_Type  Short_Promotion  \\\n",
       "0   1       1          1   Development      Course                0   \n",
       "1   2       2          1   Development      Course                0   \n",
       "2   3       3          1   Development      Course                0   \n",
       "3   4       4          1   Development      Course                0   \n",
       "4   5       5          1   Development      Course                0   \n",
       "\n",
       "   Public_Holiday  Long_Promotion  User_Traffic  Competition_Metric  Sales  \\\n",
       "0               1               1       11004.0               0.007     81   \n",
       "1               0               1       13650.0               0.007     79   \n",
       "2               0               1       11655.0               0.007     75   \n",
       "3               0               1       12054.0               0.007     80   \n",
       "4               0               1        6804.0               0.007     41   \n",
       "\n",
       "  source  \n",
       "0  train  \n",
       "1  train  \n",
       "2  train  \n",
       "3  train  \n",
       "4  train  "
      ]
     },
     "execution_count": 23,
     "metadata": {},
     "output_type": "execute_result"
    }
   ],
   "source": [
    "data.head()"
   ]
  },
  {
   "cell_type": "code",
   "execution_count": 159,
   "metadata": {},
   "outputs": [
    {
     "data": {
      "text/plain": [
       "Text(0.5, 1.0, 'Sales Distribution')"
      ]
     },
     "execution_count": 159,
     "metadata": {},
     "output_type": "execute_result"
    },
    {
     "data": {
      "image/png": "[encoded data removed]",
      "text/plain": [
       "<Figure size 432x288 with 1 Axes>"
      ]
     },
     "metadata": {
      "needs_background": "light"
     },
     "output_type": "display_data"
    }
   ],
   "source": [
    "#Analysis of Sales:\n",
    "sns.distplot(data.Sales,kde=False)\n",
    "plt.axvline(x=data.Sales.mean(),color='r',linestyle='--')\n",
    "plt.axvline(x=data.Sales.median(),color='g',linestyle='--')\n",
    "plt.title('Sales Distribution')"
   ]
  },
  {
   "cell_type": "markdown",
   "metadata": {},
   "source": [
    "- The most of the sales of the LearnX in this dataset are in the age range of 95-120. \n",
    "- In this case we are measuring Sales. We can safely say based on visual observation that most of the sales present on the data are less than 200.\n",
    "- There are a very few sales that are more than 200. Once we pass the 300 point the number of observations drops further.\n",
    "- From the above figure we can see the the mean is represented by the red line. The median is represented by the green line.\n",
    "- We can see from the above figure that the mode and the mean are very close to each other and that the median is lower than both."
   ]
  },
  {
   "cell_type": "markdown",
   "metadata": {},
   "source": [
    "### Sales Based on 'Course_type'"
   ]
  },
  {
   "cell_type": "code",
   "execution_count": 160,
   "metadata": {},
   "outputs": [
    {
     "data": {
      "text/plain": [
       "Text(0.5, 1.0, 'Sales Distribution of each Course Type')"
      ]
     },
     "execution_count": 160,
     "metadata": {},
     "output_type": "execute_result"
    },
    {
     "data": {
      "image/png": "[encoded data removed]",
      "text/plain": [
       "<Figure size 432x288 with 1 Axes>"
      ]
     },
     "metadata": {
      "needs_background": "light"
     },
     "output_type": "display_data"
    }
   ],
   "source": [
    "sns.kdeplot(data.Sales[data.Course_Type=='Course'],label='Course')\n",
    "sns.kdeplot(data.Sales[data.Course_Type=='Degree'],label='Degree',color='r')\n",
    "sns.kdeplot(data.Sales[data.Course_Type=='Program'],label='Program',color='g')\n",
    "plt.title('Sales Distribution of each Course Type')"
   ]
  },
  {
   "cell_type": "markdown",
   "metadata": {},
   "source": [
    "Sales of Course_Type 'Degree' is more compared to 'Course' and 'Program' course_types."
   ]
  },
  {
   "cell_type": "markdown",
   "metadata": {},
   "source": [
    "### Sales Based on Course_Domain"
   ]
  },
  {
   "cell_type": "code",
   "execution_count": 161,
   "metadata": {},
   "outputs": [
    {
     "data": {
      "text/plain": [
       "Text(0.5, 1.0, 'Average Sales plot of each Course Domain')"
      ]
     },
     "execution_count": 161,
     "metadata": {},
     "output_type": "execute_result"
    },
    {
     "data": {
      "text/plain": [
       "<Figure size 576x360 with 0 Axes>"
      ]
     },
     "metadata": {},
     "output_type": "display_data"
    },
    {
     "data": {
      "image/png": "[encoded data removed]",
      "text/plain": [
       "<Figure size 432x288 with 1 Axes>"
      ]
     },
     "metadata": {
      "needs_background": "light"
     },
     "output_type": "display_data"
    }
   ],
   "source": [
    "plt.figure(figsize=(8,5))\n",
    "data.groupby('Course_Domain')['Sales'].mean().reset_index().sort_values(['Sales'],\n",
    "                    ascending=True).plot(x='Course_Domain',y='Sales',kind='bar')\n",
    "plt.title('Average Sales plot of each Course Domain')"
   ]
  },
  {
   "cell_type": "markdown",
   "metadata": {},
   "source": [
    "Based on the above graph sales of 'Business' domain is more than the other three domains."
   ]
  },
  {
   "cell_type": "code",
   "execution_count": 61,
   "metadata": {},
   "outputs": [
    {
     "data": {
      "text/plain": [
       "Course_Type\n",
       "Course     105.913559\n",
       "Degree     172.337580\n",
       "Program    119.879297\n",
       "Name: Sales, dtype: float64"
      ]
     },
     "execution_count": 61,
     "metadata": {},
     "output_type": "execute_result"
    }
   ],
   "source": [
    "data.groupby('Course_Type')['Sales'].mean()"
   ]
  },
  {
   "cell_type": "code",
   "execution_count": 162,
   "metadata": {},
   "outputs": [
    {
     "data": {
      "text/plain": [
       "Text(0.5, 1.0, 'Average Sales plot of each Course Type')"
      ]
     },
     "execution_count": 162,
     "metadata": {},
     "output_type": "execute_result"
    },
    {
     "data": {
      "text/plain": [
       "<Figure size 576x360 with 0 Axes>"
      ]
     },
     "metadata": {},
     "output_type": "display_data"
    },
    {
     "data": {
      "image/png": "[encoded data removed]",
      "text/plain": [
       "<Figure size 432x288 with 1 Axes>"
      ]
     },
     "metadata": {
      "needs_background": "light"
     },
     "output_type": "display_data"
    }
   ],
   "source": [
    "plt.figure(figsize=(8,5))\n",
    "data.groupby('Course_Type')['Sales'].mean().reset_index().sort_values(['Sales'],\n",
    "                    ascending=True).plot(x='Course_Type',y='Sales',kind='bar')\n",
    "plt.title('Average Sales plot of each Course Type')"
   ]
  },
  {
   "cell_type": "markdown",
   "metadata": {},
   "source": [
    "From the above visulisation, the average sales of 'Degree' course is higher than the other two courses."
   ]
  },
  {
   "cell_type": "code",
   "execution_count": 63,
   "metadata": {},
   "outputs": [
    {
     "data": {
      "text/plain": [
       "<matplotlib.axes._subplots.AxesSubplot at 0x2010028188>"
      ]
     },
     "execution_count": 63,
     "metadata": {},
     "output_type": "execute_result"
    },
    {
     "data": {
      "image/png": "[encoded data removed]",
      "text/plain": [
       "<Figure size 432x288 with 1 Axes>"
      ]
     },
     "metadata": {
      "needs_background": "light"
     },
     "output_type": "display_data"
    }
   ],
   "source": [
    "sns.boxplot(x=data.Course_Type, y=data.Sales)"
   ]
  },
  {
   "cell_type": "markdown",
   "metadata": {},
   "source": [
    "###  Day wise sales"
   ]
  },
  {
   "cell_type": "code",
   "execution_count": 64,
   "metadata": {},
   "outputs": [
    {
     "data": {
      "text/plain": [
       "Day_No\n",
       "350    152273\n",
       "357    140128\n",
       "546    129645\n",
       "351    126690\n",
       "336    125989\n",
       "        ...  \n",
       "912         0\n",
       "911         0\n",
       "910         0\n",
       "909         0\n",
       "942         0\n",
       "Name: Sales, Length: 942, dtype: int64"
      ]
     },
     "execution_count": 64,
     "metadata": {},
     "output_type": "execute_result"
    }
   ],
   "source": [
    "data.groupby('Day_No')['Sales'].sum().sort_values(ascending=False)"
   ]
  },
  {
   "cell_type": "code",
   "execution_count": 66,
   "metadata": {},
   "outputs": [
    {
     "data": {
      "text/plain": [
       "Text(0.5, 1.0, 'Top 10 sales by days')"
      ]
     },
     "execution_count": 66,
     "metadata": {},
     "output_type": "execute_result"
    },
    {
     "data": {
      "image/png": "[encoded data removed]",
      "text/plain": [
       "<Figure size 432x288 with 1 Axes>"
      ]
     },
     "metadata": {
      "needs_background": "light"
     },
     "output_type": "display_data"
    }
   ],
   "source": [
    "df_train_LearnX.groupby('Day_No')['Sales'].sum().sort_values(ascending=False).nlargest(10).plot(kind='bar')\n",
    "plt.title('Top 10 sales by days')"
   ]
  },
  {
   "cell_type": "markdown",
   "metadata": {},
   "source": [
    "minimum sale is 8285 on day 366 and maximum sale is 152273 on day 350"
   ]
  },
  {
   "cell_type": "markdown",
   "metadata": {},
   "source": [
    "### Sales based on promotions"
   ]
  },
  {
   "cell_type": "code",
   "execution_count": 25,
   "metadata": {},
   "outputs": [
    {
     "data": {
      "text/plain": [
       "['Short_Promotion', 'Public_Holiday', 'Long_Promotion']"
      ]
     },
     "execution_count": 25,
     "metadata": {},
     "output_type": "execute_result"
    }
   ],
   "source": [
    "num_features=df_train_LearnX.select_dtypes(include='number').columns\n",
    "cols=[i for i in num_features if len(df_train_LearnX[i].value_counts().index)<10]\n",
    "cols"
   ]
  },
  {
   "cell_type": "code",
   "execution_count": 26,
   "metadata": {},
   "outputs": [
    {
     "data": {
      "image/png": "[encoded data removed]",
      "text/plain": [
       "<Figure size 432x288 with 1 Axes>"
      ]
     },
     "metadata": {
      "needs_background": "light"
     },
     "output_type": "display_data"
    },
    {
     "data": {
      "image/png": "[encoded data removed]",
      "text/plain": [
       "<Figure size 432x288 with 1 Axes>"
      ]
     },
     "metadata": {
      "needs_background": "light"
     },
     "output_type": "display_data"
    },
    {
     "data": {
      "image/png": "[encoded data removed]",
      "text/plain": [
       "<Figure size 432x288 with 1 Axes>"
      ]
     },
     "metadata": {
      "needs_background": "light"
     },
     "output_type": "display_data"
    }
   ],
   "source": [
    "for features in cols:\n",
    "    df_train_LearnX.groupby(features)['Sales'].mean().plot(kind='bar')\n",
    "    plt.title(features+' wise Sales')\n",
    "    plt.show()"
   ]
  },
  {
   "cell_type": "code",
   "execution_count": 27,
   "metadata": {},
   "outputs": [
    {
     "data": {
      "text/plain": [
       "Public_Holiday  Short_Promotion\n",
       "0               0                  106.393908\n",
       "                1                  147.661997\n",
       "1               0                   70.597255\n",
       "                1                   99.757859\n",
       "Name: Sales, dtype: float64"
      ]
     },
     "execution_count": 27,
     "metadata": {},
     "output_type": "execute_result"
    }
   ],
   "source": [
    "df_train_LearnX.groupby(['Public_Holiday','Short_Promotion'])['Sales'].mean()"
   ]
  },
  {
   "cell_type": "markdown",
   "metadata": {},
   "source": [
    "Inferences:\n",
    "1. Average Sales is high when there is a short promotion of the course.\n",
    "2. Average Sales is high when there is no Long promotion of the course.\n",
    "3. Average Sales in public holidays is high compared to other days."
   ]
  },
  {
   "cell_type": "code",
   "execution_count": 64,
   "metadata": {},
   "outputs": [
    {
     "data": {
      "text/html": [
       "<div>\n",
       "<style scoped>\n",
       "    .dataframe tbody tr th:only-of-type {\n",
       "        vertical-align: middle;\n",
       "    }\n",
       "\n",
       "    .dataframe tbody tr th {\n",
       "        vertical-align: top;\n",
       "    }\n",
       "\n",
       "    .dataframe thead th {\n",
       "        text-align: right;\n",
       "    }\n",
       "</style>\n",
       "<table border=\"1\" class=\"dataframe\">\n",
       "  <thead>\n",
       "    <tr style=\"text-align: right;\">\n",
       "      <th></th>\n",
       "      <th></th>\n",
       "      <th>Sales</th>\n",
       "    </tr>\n",
       "    <tr>\n",
       "      <th>Course_Domain</th>\n",
       "      <th>Short_Promotion</th>\n",
       "      <th></th>\n",
       "    </tr>\n",
       "  </thead>\n",
       "  <tbody>\n",
       "    <tr>\n",
       "      <td rowspan=\"2\" valign=\"top\">Business</td>\n",
       "      <td>0</td>\n",
       "      <td>160.360137</td>\n",
       "    </tr>\n",
       "    <tr>\n",
       "      <td>1</td>\n",
       "      <td>197.903889</td>\n",
       "    </tr>\n",
       "    <tr>\n",
       "      <td rowspan=\"2\" valign=\"top\">Development</td>\n",
       "      <td>0</td>\n",
       "      <td>96.852832</td>\n",
       "    </tr>\n",
       "    <tr>\n",
       "      <td>1</td>\n",
       "      <td>136.995274</td>\n",
       "    </tr>\n",
       "    <tr>\n",
       "      <td rowspan=\"2\" valign=\"top\">Finance &amp; Accounting</td>\n",
       "      <td>0</td>\n",
       "      <td>103.548405</td>\n",
       "    </tr>\n",
       "    <tr>\n",
       "      <td>1</td>\n",
       "      <td>137.375135</td>\n",
       "    </tr>\n",
       "    <tr>\n",
       "      <td rowspan=\"2\" valign=\"top\">Software Marketing</td>\n",
       "      <td>0</td>\n",
       "      <td>97.042278</td>\n",
       "    </tr>\n",
       "    <tr>\n",
       "      <td>1</td>\n",
       "      <td>132.968251</td>\n",
       "    </tr>\n",
       "  </tbody>\n",
       "</table>\n",
       "</div>"
      ],
      "text/plain": [
       "                                           Sales\n",
       "Course_Domain        Short_Promotion            \n",
       "Business             0                160.360137\n",
       "                     1                197.903889\n",
       "Development          0                 96.852832\n",
       "                     1                136.995274\n",
       "Finance & Accounting 0                103.548405\n",
       "                     1                137.375135\n",
       "Software Marketing   0                 97.042278\n",
       "                     1                132.968251"
      ]
     },
     "execution_count": 64,
     "metadata": {},
     "output_type": "execute_result"
    }
   ],
   "source": [
    "df_promotion=pd.DataFrame(data.groupby(['Course_Domain','Short_Promotion'])['Sales'].mean())\n",
    "df_promotion"
   ]
  },
  {
   "cell_type": "code",
   "execution_count": 65,
   "metadata": {},
   "outputs": [
    {
     "data": {
      "text/plain": [
       "<matplotlib.axes._subplots.AxesSubplot at 0x9d23db8688>"
      ]
     },
     "execution_count": 65,
     "metadata": {},
     "output_type": "execute_result"
    },
    {
     "data": {
      "image/png": "[encoded data removed]",
      "text/plain": [
       "<Figure size 432x288 with 1 Axes>"
      ]
     },
     "metadata": {
      "needs_background": "light"
     },
     "output_type": "display_data"
    }
   ],
   "source": [
    "df_promotion.plot(kind='bar')"
   ]
  },
  {
   "cell_type": "markdown",
   "metadata": {},
   "source": [
    "From the above graph, it can clearly interpreted that average sales is higher when a short promotion of the course is done."
   ]
  },
  {
   "cell_type": "markdown",
   "metadata": {},
   "source": [
    "### Assumption 1: Checking for multicolinearity. There should not be any multicolinearity between the independent variables"
   ]
  },
  {
   "cell_type": "code",
   "execution_count": 26,
   "metadata": {},
   "outputs": [
    {
     "data": {
      "text/plain": [
       "<matplotlib.axes._subplots.AxesSubplot at 0x9d0e5f55c8>"
      ]
     },
     "execution_count": 26,
     "metadata": {},
     "output_type": "execute_result"
    },
    {
     "data": {
      "image/png": "[encoded data removed]",
      "text/plain": [
       "<Figure size 864x576 with 2 Axes>"
      ]
     },
     "metadata": {
      "needs_background": "light"
     },
     "output_type": "display_data"
    }
   ],
   "source": [
    "plt.figure(figsize=(12,8))\n",
    "sns.heatmap(data.corr(),annot=True)"
   ]
  },
  {
   "cell_type": "code",
   "execution_count": 32,
   "metadata": {},
   "outputs": [
    {
     "data": {
      "text/html": [
       "<div>\n",
       "<style scoped>\n",
       "    .dataframe tbody tr th:only-of-type {\n",
       "        vertical-align: middle;\n",
       "    }\n",
       "\n",
       "    .dataframe tbody tr th {\n",
       "        vertical-align: top;\n",
       "    }\n",
       "\n",
       "    .dataframe thead th {\n",
       "        text-align: right;\n",
       "    }\n",
       "</style>\n",
       "<table border=\"1\" class=\"dataframe\">\n",
       "  <thead>\n",
       "    <tr style=\"text-align: right;\">\n",
       "      <th></th>\n",
       "      <th>ID</th>\n",
       "      <th>Day_No</th>\n",
       "      <th>Course_ID</th>\n",
       "      <th>Short_Promotion</th>\n",
       "      <th>Public_Holiday</th>\n",
       "      <th>Long_Promotion</th>\n",
       "      <th>User_Traffic</th>\n",
       "      <th>Competition_Metric</th>\n",
       "      <th>Sales</th>\n",
       "      <th>Course_Domain_Development</th>\n",
       "      <th>Course_Domain_Finance &amp; Accounting</th>\n",
       "      <th>Course_Domain_Software Marketing</th>\n",
       "      <th>Course_Type_Degree</th>\n",
       "      <th>Course_Type_Program</th>\n",
       "      <th>source_train</th>\n",
       "    </tr>\n",
       "  </thead>\n",
       "  <tbody>\n",
       "    <tr>\n",
       "      <td>0</td>\n",
       "      <td>1</td>\n",
       "      <td>1</td>\n",
       "      <td>1</td>\n",
       "      <td>0</td>\n",
       "      <td>1</td>\n",
       "      <td>1</td>\n",
       "      <td>11004.0</td>\n",
       "      <td>0.007</td>\n",
       "      <td>81</td>\n",
       "      <td>1</td>\n",
       "      <td>0</td>\n",
       "      <td>0</td>\n",
       "      <td>0</td>\n",
       "      <td>0</td>\n",
       "      <td>1</td>\n",
       "    </tr>\n",
       "    <tr>\n",
       "      <td>1</td>\n",
       "      <td>2</td>\n",
       "      <td>2</td>\n",
       "      <td>1</td>\n",
       "      <td>0</td>\n",
       "      <td>0</td>\n",
       "      <td>1</td>\n",
       "      <td>13650.0</td>\n",
       "      <td>0.007</td>\n",
       "      <td>79</td>\n",
       "      <td>1</td>\n",
       "      <td>0</td>\n",
       "      <td>0</td>\n",
       "      <td>0</td>\n",
       "      <td>0</td>\n",
       "      <td>1</td>\n",
       "    </tr>\n",
       "    <tr>\n",
       "      <td>2</td>\n",
       "      <td>3</td>\n",
       "      <td>3</td>\n",
       "      <td>1</td>\n",
       "      <td>0</td>\n",
       "      <td>0</td>\n",
       "      <td>1</td>\n",
       "      <td>11655.0</td>\n",
       "      <td>0.007</td>\n",
       "      <td>75</td>\n",
       "      <td>1</td>\n",
       "      <td>0</td>\n",
       "      <td>0</td>\n",
       "      <td>0</td>\n",
       "      <td>0</td>\n",
       "      <td>1</td>\n",
       "    </tr>\n",
       "    <tr>\n",
       "      <td>3</td>\n",
       "      <td>4</td>\n",
       "      <td>4</td>\n",
       "      <td>1</td>\n",
       "      <td>0</td>\n",
       "      <td>0</td>\n",
       "      <td>1</td>\n",
       "      <td>12054.0</td>\n",
       "      <td>0.007</td>\n",
       "      <td>80</td>\n",
       "      <td>1</td>\n",
       "      <td>0</td>\n",
       "      <td>0</td>\n",
       "      <td>0</td>\n",
       "      <td>0</td>\n",
       "      <td>1</td>\n",
       "    </tr>\n",
       "    <tr>\n",
       "      <td>4</td>\n",
       "      <td>5</td>\n",
       "      <td>5</td>\n",
       "      <td>1</td>\n",
       "      <td>0</td>\n",
       "      <td>0</td>\n",
       "      <td>1</td>\n",
       "      <td>6804.0</td>\n",
       "      <td>0.007</td>\n",
       "      <td>41</td>\n",
       "      <td>1</td>\n",
       "      <td>0</td>\n",
       "      <td>0</td>\n",
       "      <td>0</td>\n",
       "      <td>0</td>\n",
       "      <td>1</td>\n",
       "    </tr>\n",
       "    <tr>\n",
       "      <td>...</td>\n",
       "      <td>...</td>\n",
       "      <td>...</td>\n",
       "      <td>...</td>\n",
       "      <td>...</td>\n",
       "      <td>...</td>\n",
       "      <td>...</td>\n",
       "      <td>...</td>\n",
       "      <td>...</td>\n",
       "      <td>...</td>\n",
       "      <td>...</td>\n",
       "      <td>...</td>\n",
       "      <td>...</td>\n",
       "      <td>...</td>\n",
       "      <td>...</td>\n",
       "      <td>...</td>\n",
       "    </tr>\n",
       "    <tr>\n",
       "      <td>35995</td>\n",
       "      <td>548083</td>\n",
       "      <td>938</td>\n",
       "      <td>600</td>\n",
       "      <td>1</td>\n",
       "      <td>0</td>\n",
       "      <td>1</td>\n",
       "      <td>10857.0</td>\n",
       "      <td>0.070</td>\n",
       "      <td>0</td>\n",
       "      <td>0</td>\n",
       "      <td>0</td>\n",
       "      <td>1</td>\n",
       "      <td>0</td>\n",
       "      <td>1</td>\n",
       "      <td>0</td>\n",
       "    </tr>\n",
       "    <tr>\n",
       "      <td>35996</td>\n",
       "      <td>548084</td>\n",
       "      <td>939</td>\n",
       "      <td>600</td>\n",
       "      <td>1</td>\n",
       "      <td>0</td>\n",
       "      <td>1</td>\n",
       "      <td>10857.0</td>\n",
       "      <td>0.070</td>\n",
       "      <td>0</td>\n",
       "      <td>0</td>\n",
       "      <td>0</td>\n",
       "      <td>1</td>\n",
       "      <td>0</td>\n",
       "      <td>1</td>\n",
       "      <td>0</td>\n",
       "    </tr>\n",
       "    <tr>\n",
       "      <td>35997</td>\n",
       "      <td>548085</td>\n",
       "      <td>940</td>\n",
       "      <td>600</td>\n",
       "      <td>1</td>\n",
       "      <td>0</td>\n",
       "      <td>1</td>\n",
       "      <td>10857.0</td>\n",
       "      <td>0.070</td>\n",
       "      <td>0</td>\n",
       "      <td>0</td>\n",
       "      <td>0</td>\n",
       "      <td>1</td>\n",
       "      <td>0</td>\n",
       "      <td>1</td>\n",
       "      <td>0</td>\n",
       "    </tr>\n",
       "    <tr>\n",
       "      <td>35998</td>\n",
       "      <td>548086</td>\n",
       "      <td>941</td>\n",
       "      <td>600</td>\n",
       "      <td>1</td>\n",
       "      <td>0</td>\n",
       "      <td>1</td>\n",
       "      <td>10857.0</td>\n",
       "      <td>0.070</td>\n",
       "      <td>0</td>\n",
       "      <td>0</td>\n",
       "      <td>0</td>\n",
       "      <td>1</td>\n",
       "      <td>0</td>\n",
       "      <td>1</td>\n",
       "      <td>0</td>\n",
       "    </tr>\n",
       "    <tr>\n",
       "      <td>35999</td>\n",
       "      <td>548087</td>\n",
       "      <td>942</td>\n",
       "      <td>600</td>\n",
       "      <td>1</td>\n",
       "      <td>0</td>\n",
       "      <td>1</td>\n",
       "      <td>10857.0</td>\n",
       "      <td>0.070</td>\n",
       "      <td>0</td>\n",
       "      <td>0</td>\n",
       "      <td>0</td>\n",
       "      <td>1</td>\n",
       "      <td>0</td>\n",
       "      <td>1</td>\n",
       "      <td>0</td>\n",
       "    </tr>\n",
       "  </tbody>\n",
       "</table>\n",
       "<p>548087 rows × 15 columns</p>\n",
       "</div>"
      ],
      "text/plain": [
       "           ID  Day_No  Course_ID  Short_Promotion  Public_Holiday  \\\n",
       "0           1       1          1                0               1   \n",
       "1           2       2          1                0               0   \n",
       "2           3       3          1                0               0   \n",
       "3           4       4          1                0               0   \n",
       "4           5       5          1                0               0   \n",
       "...       ...     ...        ...              ...             ...   \n",
       "35995  548083     938        600                1               0   \n",
       "35996  548084     939        600                1               0   \n",
       "35997  548085     940        600                1               0   \n",
       "35998  548086     941        600                1               0   \n",
       "35999  548087     942        600                1               0   \n",
       "\n",
       "       Long_Promotion  User_Traffic  Competition_Metric  Sales  \\\n",
       "0                   1       11004.0               0.007     81   \n",
       "1                   1       13650.0               0.007     79   \n",
       "2                   1       11655.0               0.007     75   \n",
       "3                   1       12054.0               0.007     80   \n",
       "4                   1        6804.0               0.007     41   \n",
       "...               ...           ...                 ...    ...   \n",
       "35995               1       10857.0               0.070      0   \n",
       "35996               1       10857.0               0.070      0   \n",
       "35997               1       10857.0               0.070      0   \n",
       "35998               1       10857.0               0.070      0   \n",
       "35999               1       10857.0               0.070      0   \n",
       "\n",
       "       Course_Domain_Development  Course_Domain_Finance & Accounting  \\\n",
       "0                              1                                   0   \n",
       "1                              1                                   0   \n",
       "2                              1                                   0   \n",
       "3                              1                                   0   \n",
       "4                              1                                   0   \n",
       "...                          ...                                 ...   \n",
       "35995                          0                                   0   \n",
       "35996                          0                                   0   \n",
       "35997                          0                                   0   \n",
       "35998                          0                                   0   \n",
       "35999                          0                                   0   \n",
       "\n",
       "       Course_Domain_Software Marketing  Course_Type_Degree  \\\n",
       "0                                     0                   0   \n",
       "1                                     0                   0   \n",
       "2                                     0                   0   \n",
       "3                                     0                   0   \n",
       "4                                     0                   0   \n",
       "...                                 ...                 ...   \n",
       "35995                                 1                   0   \n",
       "35996                                 1                   0   \n",
       "35997                                 1                   0   \n",
       "35998                                 1                   0   \n",
       "35999                                 1                   0   \n",
       "\n",
       "       Course_Type_Program  source_train  \n",
       "0                        0             1  \n",
       "1                        0             1  \n",
       "2                        0             1  \n",
       "3                        0             1  \n",
       "4                        0             1  \n",
       "...                    ...           ...  \n",
       "35995                    1             0  \n",
       "35996                    1             0  \n",
       "35997                    1             0  \n",
       "35998                    1             0  \n",
       "35999                    1             0  \n",
       "\n",
       "[548087 rows x 15 columns]"
      ]
     },
     "execution_count": 32,
     "metadata": {},
     "output_type": "execute_result"
    }
   ],
   "source": [
    "data_dummy=pd.get_dummies(data,columns=['Course_Domain','Course_Type','source'], drop_first=True)\n",
    "data_dummy"
   ]
  },
  {
   "cell_type": "code",
   "execution_count": 42,
   "metadata": {},
   "outputs": [
    {
     "data": {
      "text/html": [
       "<table class=\"simpletable\">\n",
       "<caption>OLS Regression Results</caption>\n",
       "<tr>\n",
       "  <th>Dep. Variable:</th>          <td>Sales</td>      <th>  R-squared (uncentered):</th>       <td>   0.961</td>  \n",
       "</tr>\n",
       "<tr>\n",
       "  <th>Model:</th>                   <td>OLS</td>       <th>  Adj. R-squared (uncentered):</th>  <td>   0.961</td>  \n",
       "</tr>\n",
       "<tr>\n",
       "  <th>Method:</th>             <td>Least Squares</td>  <th>  F-statistic:       </th>           <td>1.135e+06</td> \n",
       "</tr>\n",
       "<tr>\n",
       "  <th>Date:</th>             <td>Sun, 05 Apr 2020</td> <th>  Prob (F-statistic):</th>            <td>  0.00</td>   \n",
       "</tr>\n",
       "<tr>\n",
       "  <th>Time:</th>                 <td>20:03:07</td>     <th>  Log-Likelihood:    </th>          <td>-2.5461e+06</td>\n",
       "</tr>\n",
       "<tr>\n",
       "  <th>No. Observations:</th>      <td>548087</td>      <th>  AIC:               </th>           <td>5.092e+06</td> \n",
       "</tr>\n",
       "<tr>\n",
       "  <th>Df Residuals:</th>          <td>548075</td>      <th>  BIC:               </th>           <td>5.092e+06</td> \n",
       "</tr>\n",
       "<tr>\n",
       "  <th>Df Model:</th>              <td>    12</td>      <th>                     </th>               <td> </td>     \n",
       "</tr>\n",
       "<tr>\n",
       "  <th>Covariance Type:</th>      <td>nonrobust</td>    <th>                     </th>               <td> </td>     \n",
       "</tr>\n",
       "</table>\n",
       "<table class=\"simpletable\">\n",
       "<tr>\n",
       "                   <td></td>                     <th>coef</th>     <th>std err</th>      <th>t</th>      <th>P>|t|</th>  <th>[0.025</th>    <th>0.975]</th>  \n",
       "</tr>\n",
       "<tr>\n",
       "  <th>Day_No</th>                             <td>   -0.0026</td> <td>    0.000</td> <td>  -19.086</td> <td> 0.000</td> <td>   -0.003</td> <td>   -0.002</td>\n",
       "</tr>\n",
       "<tr>\n",
       "  <th>Short_Promotion</th>                    <td>   19.4107</td> <td>    0.072</td> <td>  270.301</td> <td> 0.000</td> <td>   19.270</td> <td>   19.551</td>\n",
       "</tr>\n",
       "<tr>\n",
       "  <th>Public_Holiday</th>                     <td>  -12.6288</td> <td>    0.200</td> <td>  -63.140</td> <td> 0.000</td> <td>  -13.021</td> <td>  -12.237</td>\n",
       "</tr>\n",
       "<tr>\n",
       "  <th>Long_Promotion</th>                     <td>    3.3905</td> <td>    0.071</td> <td>   47.941</td> <td> 0.000</td> <td>    3.252</td> <td>    3.529</td>\n",
       "</tr>\n",
       "<tr>\n",
       "  <th>User_Traffic</th>                       <td>    0.0060</td> <td> 5.08e-06</td> <td> 1178.333</td> <td> 0.000</td> <td>    0.006</td> <td>    0.006</td>\n",
       "</tr>\n",
       "<tr>\n",
       "  <th>Competition_Metric</th>                 <td>   31.4589</td> <td>    0.356</td> <td>   88.422</td> <td> 0.000</td> <td>   30.762</td> <td>   32.156</td>\n",
       "</tr>\n",
       "<tr>\n",
       "  <th>Course_Domain_Development</th>          <td>  -85.9171</td> <td>    0.188</td> <td> -457.157</td> <td> 0.000</td> <td>  -86.285</td> <td>  -85.549</td>\n",
       "</tr>\n",
       "<tr>\n",
       "  <th>Course_Domain_Finance & Accounting</th> <td>  -88.0470</td> <td>    0.203</td> <td> -434.111</td> <td> 0.000</td> <td>  -88.445</td> <td>  -87.649</td>\n",
       "</tr>\n",
       "<tr>\n",
       "  <th>Course_Domain_Software Marketing</th>   <td>  -67.6212</td> <td>    0.194</td> <td> -348.395</td> <td> 0.000</td> <td>  -68.002</td> <td>  -67.241</td>\n",
       "</tr>\n",
       "<tr>\n",
       "  <th>Course_Type_Degree</th>                 <td> -267.2316</td> <td>    0.658</td> <td> -406.377</td> <td> 0.000</td> <td> -268.521</td> <td> -265.943</td>\n",
       "</tr>\n",
       "<tr>\n",
       "  <th>Course_Type_Program</th>                <td>    6.2063</td> <td>    0.071</td> <td>   87.734</td> <td> 0.000</td> <td>    6.068</td> <td>    6.345</td>\n",
       "</tr>\n",
       "<tr>\n",
       "  <th>source_train</th>                       <td>   96.3543</td> <td>    0.147</td> <td>  657.140</td> <td> 0.000</td> <td>   96.067</td> <td>   96.642</td>\n",
       "</tr>\n",
       "</table>\n",
       "<table class=\"simpletable\">\n",
       "<tr>\n",
       "  <th>Omnibus:</th>       <td>152650.589</td> <th>  Durbin-Watson:     </th>  <td>   0.432</td>  \n",
       "</tr>\n",
       "<tr>\n",
       "  <th>Prob(Omnibus):</th>   <td> 0.000</td>   <th>  Jarque-Bera (JB):  </th> <td>6078012.146</td>\n",
       "</tr>\n",
       "<tr>\n",
       "  <th>Skew:</th>            <td>-0.634</td>   <th>  Prob(JB):          </th>  <td>    0.00</td>  \n",
       "</tr>\n",
       "<tr>\n",
       "  <th>Kurtosis:</th>        <td>19.265</td>   <th>  Cond. No.          </th>  <td>3.35e+05</td>  \n",
       "</tr>\n",
       "</table><br/><br/>Warnings:<br/>[1] Standard Errors assume that the covariance matrix of the errors is correctly specified.<br/>[2] The condition number is large, 3.35e+05. This might indicate that there are<br/>strong multicollinearity or other numerical problems."
      ],
      "text/plain": [
       "<class 'statsmodels.iolib.summary.Summary'>\n",
       "\"\"\"\n",
       "                                 OLS Regression Results                                \n",
       "=======================================================================================\n",
       "Dep. Variable:                  Sales   R-squared (uncentered):                   0.961\n",
       "Model:                            OLS   Adj. R-squared (uncentered):              0.961\n",
       "Method:                 Least Squares   F-statistic:                          1.135e+06\n",
       "Date:                Sun, 05 Apr 2020   Prob (F-statistic):                        0.00\n",
       "Time:                        20:03:07   Log-Likelihood:                     -2.5461e+06\n",
       "No. Observations:              548087   AIC:                                  5.092e+06\n",
       "Df Residuals:                  548075   BIC:                                  5.092e+06\n",
       "Df Model:                          12                                                  \n",
       "Covariance Type:            nonrobust                                                  \n",
       "======================================================================================================\n",
       "                                         coef    std err          t      P>|t|      [0.025      0.975]\n",
       "------------------------------------------------------------------------------------------------------\n",
       "Day_No                                -0.0026      0.000    -19.086      0.000      -0.003      -0.002\n",
       "Short_Promotion                       19.4107      0.072    270.301      0.000      19.270      19.551\n",
       "Public_Holiday                       -12.6288      0.200    -63.140      0.000     -13.021     -12.237\n",
       "Long_Promotion                         3.3905      0.071     47.941      0.000       3.252       3.529\n",
       "User_Traffic                           0.0060   5.08e-06   1178.333      0.000       0.006       0.006\n",
       "Competition_Metric                    31.4589      0.356     88.422      0.000      30.762      32.156\n",
       "Course_Domain_Development            -85.9171      0.188   -457.157      0.000     -86.285     -85.549\n",
       "Course_Domain_Finance & Accounting   -88.0470      0.203   -434.111      0.000     -88.445     -87.649\n",
       "Course_Domain_Software Marketing     -67.6212      0.194   -348.395      0.000     -68.002     -67.241\n",
       "Course_Type_Degree                  -267.2316      0.658   -406.377      0.000    -268.521    -265.943\n",
       "Course_Type_Program                    6.2063      0.071     87.734      0.000       6.068       6.345\n",
       "source_train                          96.3543      0.147    657.140      0.000      96.067      96.642\n",
       "==============================================================================\n",
       "Omnibus:                   152650.589   Durbin-Watson:                   0.432\n",
       "Prob(Omnibus):                  0.000   Jarque-Bera (JB):          6078012.146\n",
       "Skew:                          -0.634   Prob(JB):                         0.00\n",
       "Kurtosis:                      19.265   Cond. No.                     3.35e+05\n",
       "==============================================================================\n",
       "\n",
       "Warnings:\n",
       "[1] Standard Errors assume that the covariance matrix of the errors is correctly specified.\n",
       "[2] The condition number is large, 3.35e+05. This might indicate that there are\n",
       "strong multicollinearity or other numerical problems.\n",
       "\"\"\""
      ]
     },
     "execution_count": 42,
     "metadata": {},
     "output_type": "execute_result"
    }
   ],
   "source": [
    "X=data_dummy.drop(['Sales','ID','Course_ID'],axis=1)\n",
    "y=data_dummy['Sales']\n",
    "import statsmodels.api as sm\n",
    "model=sm.OLS(y,X).fit()\n",
    "model.summary()"
   ]
  },
  {
   "cell_type": "code",
   "execution_count": 43,
   "metadata": {},
   "outputs": [
    {
     "data": {
      "text/html": [
       "<div>\n",
       "<style scoped>\n",
       "    .dataframe tbody tr th:only-of-type {\n",
       "        vertical-align: middle;\n",
       "    }\n",
       "\n",
       "    .dataframe tbody tr th {\n",
       "        vertical-align: top;\n",
       "    }\n",
       "\n",
       "    .dataframe thead th {\n",
       "        text-align: right;\n",
       "    }\n",
       "</style>\n",
       "<table border=\"1\" class=\"dataframe\">\n",
       "  <thead>\n",
       "    <tr style=\"text-align: right;\">\n",
       "      <th></th>\n",
       "      <th>Vif</th>\n",
       "      <th>features</th>\n",
       "    </tr>\n",
       "  </thead>\n",
       "  <tbody>\n",
       "    <tr>\n",
       "      <td>0</td>\n",
       "      <td>4.538270</td>\n",
       "      <td>Day_No</td>\n",
       "    </tr>\n",
       "    <tr>\n",
       "      <td>1</td>\n",
       "      <td>1.699363</td>\n",
       "      <td>Short_Promotion</td>\n",
       "    </tr>\n",
       "    <tr>\n",
       "      <td>2</td>\n",
       "      <td>1.046291</td>\n",
       "      <td>Public_Holiday</td>\n",
       "    </tr>\n",
       "    <tr>\n",
       "      <td>3</td>\n",
       "      <td>2.115920</td>\n",
       "      <td>Long_Promotion</td>\n",
       "    </tr>\n",
       "    <tr>\n",
       "      <td>4</td>\n",
       "      <td>6.459289</td>\n",
       "      <td>User_Traffic</td>\n",
       "    </tr>\n",
       "    <tr>\n",
       "      <td>5</td>\n",
       "      <td>1.679294</td>\n",
       "      <td>Competition_Metric</td>\n",
       "    </tr>\n",
       "    <tr>\n",
       "      <td>6</td>\n",
       "      <td>15.738854</td>\n",
       "      <td>Course_Domain_Development</td>\n",
       "    </tr>\n",
       "    <tr>\n",
       "      <td>7</td>\n",
       "      <td>5.351186</td>\n",
       "      <td>Course_Domain_Finance &amp; Accounting</td>\n",
       "    </tr>\n",
       "    <tr>\n",
       "      <td>8</td>\n",
       "      <td>10.569979</td>\n",
       "      <td>Course_Domain_Software Marketing</td>\n",
       "    </tr>\n",
       "    <tr>\n",
       "      <td>9</td>\n",
       "      <td>1.283816</td>\n",
       "      <td>Course_Type_Degree</td>\n",
       "    </tr>\n",
       "    <tr>\n",
       "      <td>10</td>\n",
       "      <td>2.088557</td>\n",
       "      <td>Course_Type_Program</td>\n",
       "    </tr>\n",
       "    <tr>\n",
       "      <td>11</td>\n",
       "      <td>17.349026</td>\n",
       "      <td>source_train</td>\n",
       "    </tr>\n",
       "  </tbody>\n",
       "</table>\n",
       "</div>"
      ],
      "text/plain": [
       "          Vif                            features\n",
       "0    4.538270                              Day_No\n",
       "1    1.699363                     Short_Promotion\n",
       "2    1.046291                      Public_Holiday\n",
       "3    2.115920                      Long_Promotion\n",
       "4    6.459289                        User_Traffic\n",
       "5    1.679294                  Competition_Metric\n",
       "6   15.738854           Course_Domain_Development\n",
       "7    5.351186  Course_Domain_Finance & Accounting\n",
       "8   10.569979    Course_Domain_Software Marketing\n",
       "9    1.283816                  Course_Type_Degree\n",
       "10   2.088557                 Course_Type_Program\n",
       "11  17.349026                        source_train"
      ]
     },
     "execution_count": 43,
     "metadata": {},
     "output_type": "execute_result"
    }
   ],
   "source": [
    "from statsmodels.stats.outliers_influence import variance_inflation_factor\n",
    "vif=pd.DataFrame()\n",
    "vif['Vif']=[variance_inflation_factor(X.values, i) for i in range(X.shape[1])]\n",
    "vif[\"features\"] = X.columns\n",
    "vif"
   ]
  },
  {
   "cell_type": "markdown",
   "metadata": {},
   "source": [
    "VIF (Variance Inflation Factor) is a measure of colinearity among predictor variables within a multiple regression. We choose 15 as the VIF cutoff. Hence, we remove 'source_train' feature based on VIF."
   ]
  },
  {
   "cell_type": "markdown",
   "metadata": {},
   "source": [
    "### Feature Scaling"
   ]
  },
  {
   "cell_type": "code",
   "execution_count": 54,
   "metadata": {},
   "outputs": [
    {
     "data": {
      "text/plain": [
       "StandardScaler(copy=True, with_mean=True, with_std=True)"
      ]
     },
     "execution_count": 54,
     "metadata": {},
     "output_type": "execute_result"
    }
   ],
   "source": [
    "feature_scale=[feature for feature in data_dummy.columns if feature not in [\"ID\",\"Day_No\",\"Sales\",\"source_train\"]]\n",
    "\n",
    "#Feature scaling is a technique to standardize the independent features present in the data in a fixed range.\n",
    "from sklearn.preprocessing import StandardScaler\n",
    "scaler=StandardScaler()\n",
    "scaler.fit(data_dummy[feature_scale])"
   ]
  },
  {
   "cell_type": "code",
   "execution_count": 55,
   "metadata": {},
   "outputs": [
    {
     "data": {
      "text/plain": [
       "array([[-1.72706624, -0.78544489,  5.65890954, ..., -0.69366858,\n",
       "        -0.05873046, -0.9670179 ],\n",
       "       [-1.72706624, -0.78544489, -0.17671249, ..., -0.69366858,\n",
       "        -0.05873046, -0.9670179 ],\n",
       "       [-1.72706624, -0.78544489, -0.17671249, ..., -0.69366858,\n",
       "        -0.05873046, -0.9670179 ],\n",
       "       ...,\n",
       "       [ 1.7282698 ,  1.2731638 , -0.17671249, ...,  1.44161062,\n",
       "        -0.05873046,  1.03410702],\n",
       "       [ 1.7282698 ,  1.2731638 , -0.17671249, ...,  1.44161062,\n",
       "        -0.05873046,  1.03410702],\n",
       "       [ 1.7282698 ,  1.2731638 , -0.17671249, ...,  1.44161062,\n",
       "        -0.05873046,  1.03410702]])"
      ]
     },
     "execution_count": 55,
     "metadata": {},
     "output_type": "execute_result"
    }
   ],
   "source": [
    "scaler.transform(data_dummy[feature_scale])"
   ]
  },
  {
   "cell_type": "code",
   "execution_count": 57,
   "metadata": {},
   "outputs": [
    {
     "data": {
      "text/html": [
       "<div>\n",
       "<style scoped>\n",
       "    .dataframe tbody tr th:only-of-type {\n",
       "        vertical-align: middle;\n",
       "    }\n",
       "\n",
       "    .dataframe tbody tr th {\n",
       "        vertical-align: top;\n",
       "    }\n",
       "\n",
       "    .dataframe thead th {\n",
       "        text-align: right;\n",
       "    }\n",
       "</style>\n",
       "<table border=\"1\" class=\"dataframe\">\n",
       "  <thead>\n",
       "    <tr style=\"text-align: right;\">\n",
       "      <th></th>\n",
       "      <th>ID</th>\n",
       "      <th>Day_No</th>\n",
       "      <th>Sales</th>\n",
       "      <th>source_train</th>\n",
       "      <th>Course_ID</th>\n",
       "      <th>Short_Promotion</th>\n",
       "      <th>Public_Holiday</th>\n",
       "      <th>Long_Promotion</th>\n",
       "      <th>User_Traffic</th>\n",
       "      <th>Competition_Metric</th>\n",
       "      <th>Course_Domain_Development</th>\n",
       "      <th>Course_Domain_Finance &amp; Accounting</th>\n",
       "      <th>Course_Domain_Software Marketing</th>\n",
       "      <th>Course_Type_Degree</th>\n",
       "      <th>Course_Type_Program</th>\n",
       "    </tr>\n",
       "  </thead>\n",
       "  <tbody>\n",
       "    <tr>\n",
       "      <td>0</td>\n",
       "      <td>1</td>\n",
       "      <td>1</td>\n",
       "      <td>81</td>\n",
       "      <td>1</td>\n",
       "      <td>-1.727066</td>\n",
       "      <td>-0.785445</td>\n",
       "      <td>5.658910</td>\n",
       "      <td>1.020609</td>\n",
       "      <td>-0.560865</td>\n",
       "      <td>-0.66415</td>\n",
       "      <td>0.968630</td>\n",
       "      <td>-0.421096</td>\n",
       "      <td>-0.693669</td>\n",
       "      <td>-0.05873</td>\n",
       "      <td>-0.967018</td>\n",
       "    </tr>\n",
       "    <tr>\n",
       "      <td>1</td>\n",
       "      <td>2</td>\n",
       "      <td>2</td>\n",
       "      <td>79</td>\n",
       "      <td>1</td>\n",
       "      <td>-1.727066</td>\n",
       "      <td>-0.785445</td>\n",
       "      <td>-0.176712</td>\n",
       "      <td>1.020609</td>\n",
       "      <td>-0.210483</td>\n",
       "      <td>-0.66415</td>\n",
       "      <td>0.968630</td>\n",
       "      <td>-0.421096</td>\n",
       "      <td>-0.693669</td>\n",
       "      <td>-0.05873</td>\n",
       "      <td>-0.967018</td>\n",
       "    </tr>\n",
       "    <tr>\n",
       "      <td>2</td>\n",
       "      <td>3</td>\n",
       "      <td>3</td>\n",
       "      <td>75</td>\n",
       "      <td>1</td>\n",
       "      <td>-1.727066</td>\n",
       "      <td>-0.785445</td>\n",
       "      <td>-0.176712</td>\n",
       "      <td>1.020609</td>\n",
       "      <td>-0.474660</td>\n",
       "      <td>-0.66415</td>\n",
       "      <td>0.968630</td>\n",
       "      <td>-0.421096</td>\n",
       "      <td>-0.693669</td>\n",
       "      <td>-0.05873</td>\n",
       "      <td>-0.967018</td>\n",
       "    </tr>\n",
       "    <tr>\n",
       "      <td>3</td>\n",
       "      <td>4</td>\n",
       "      <td>4</td>\n",
       "      <td>80</td>\n",
       "      <td>1</td>\n",
       "      <td>-1.727066</td>\n",
       "      <td>-0.785445</td>\n",
       "      <td>-0.176712</td>\n",
       "      <td>1.020609</td>\n",
       "      <td>-0.421825</td>\n",
       "      <td>-0.66415</td>\n",
       "      <td>0.968630</td>\n",
       "      <td>-0.421096</td>\n",
       "      <td>-0.693669</td>\n",
       "      <td>-0.05873</td>\n",
       "      <td>-0.967018</td>\n",
       "    </tr>\n",
       "    <tr>\n",
       "      <td>4</td>\n",
       "      <td>5</td>\n",
       "      <td>5</td>\n",
       "      <td>41</td>\n",
       "      <td>1</td>\n",
       "      <td>-1.727066</td>\n",
       "      <td>-0.785445</td>\n",
       "      <td>-0.176712</td>\n",
       "      <td>1.020609</td>\n",
       "      <td>-1.117027</td>\n",
       "      <td>-0.66415</td>\n",
       "      <td>0.968630</td>\n",
       "      <td>-0.421096</td>\n",
       "      <td>-0.693669</td>\n",
       "      <td>-0.05873</td>\n",
       "      <td>-0.967018</td>\n",
       "    </tr>\n",
       "    <tr>\n",
       "      <td>...</td>\n",
       "      <td>...</td>\n",
       "      <td>...</td>\n",
       "      <td>...</td>\n",
       "      <td>...</td>\n",
       "      <td>...</td>\n",
       "      <td>...</td>\n",
       "      <td>...</td>\n",
       "      <td>...</td>\n",
       "      <td>...</td>\n",
       "      <td>...</td>\n",
       "      <td>...</td>\n",
       "      <td>...</td>\n",
       "      <td>...</td>\n",
       "      <td>...</td>\n",
       "      <td>...</td>\n",
       "    </tr>\n",
       "    <tr>\n",
       "      <td>548082</td>\n",
       "      <td>548083</td>\n",
       "      <td>938</td>\n",
       "      <td>0</td>\n",
       "      <td>0</td>\n",
       "      <td>1.728270</td>\n",
       "      <td>1.273164</td>\n",
       "      <td>-0.176712</td>\n",
       "      <td>1.020609</td>\n",
       "      <td>-0.580331</td>\n",
       "      <td>-0.03353</td>\n",
       "      <td>-1.032386</td>\n",
       "      <td>-0.421096</td>\n",
       "      <td>1.441611</td>\n",
       "      <td>-0.05873</td>\n",
       "      <td>1.034107</td>\n",
       "    </tr>\n",
       "    <tr>\n",
       "      <td>548083</td>\n",
       "      <td>548084</td>\n",
       "      <td>939</td>\n",
       "      <td>0</td>\n",
       "      <td>0</td>\n",
       "      <td>1.728270</td>\n",
       "      <td>1.273164</td>\n",
       "      <td>-0.176712</td>\n",
       "      <td>1.020609</td>\n",
       "      <td>-0.580331</td>\n",
       "      <td>-0.03353</td>\n",
       "      <td>-1.032386</td>\n",
       "      <td>-0.421096</td>\n",
       "      <td>1.441611</td>\n",
       "      <td>-0.05873</td>\n",
       "      <td>1.034107</td>\n",
       "    </tr>\n",
       "    <tr>\n",
       "      <td>548084</td>\n",
       "      <td>548085</td>\n",
       "      <td>940</td>\n",
       "      <td>0</td>\n",
       "      <td>0</td>\n",
       "      <td>1.728270</td>\n",
       "      <td>1.273164</td>\n",
       "      <td>-0.176712</td>\n",
       "      <td>1.020609</td>\n",
       "      <td>-0.580331</td>\n",
       "      <td>-0.03353</td>\n",
       "      <td>-1.032386</td>\n",
       "      <td>-0.421096</td>\n",
       "      <td>1.441611</td>\n",
       "      <td>-0.05873</td>\n",
       "      <td>1.034107</td>\n",
       "    </tr>\n",
       "    <tr>\n",
       "      <td>548085</td>\n",
       "      <td>548086</td>\n",
       "      <td>941</td>\n",
       "      <td>0</td>\n",
       "      <td>0</td>\n",
       "      <td>1.728270</td>\n",
       "      <td>1.273164</td>\n",
       "      <td>-0.176712</td>\n",
       "      <td>1.020609</td>\n",
       "      <td>-0.580331</td>\n",
       "      <td>-0.03353</td>\n",
       "      <td>-1.032386</td>\n",
       "      <td>-0.421096</td>\n",
       "      <td>1.441611</td>\n",
       "      <td>-0.05873</td>\n",
       "      <td>1.034107</td>\n",
       "    </tr>\n",
       "    <tr>\n",
       "      <td>548086</td>\n",
       "      <td>548087</td>\n",
       "      <td>942</td>\n",
       "      <td>0</td>\n",
       "      <td>0</td>\n",
       "      <td>1.728270</td>\n",
       "      <td>1.273164</td>\n",
       "      <td>-0.176712</td>\n",
       "      <td>1.020609</td>\n",
       "      <td>-0.580331</td>\n",
       "      <td>-0.03353</td>\n",
       "      <td>-1.032386</td>\n",
       "      <td>-0.421096</td>\n",
       "      <td>1.441611</td>\n",
       "      <td>-0.05873</td>\n",
       "      <td>1.034107</td>\n",
       "    </tr>\n",
       "  </tbody>\n",
       "</table>\n",
       "<p>548087 rows × 15 columns</p>\n",
       "</div>"
      ],
      "text/plain": [
       "            ID  Day_No  Sales  source_train  Course_ID  Short_Promotion  \\\n",
       "0            1       1     81             1  -1.727066        -0.785445   \n",
       "1            2       2     79             1  -1.727066        -0.785445   \n",
       "2            3       3     75             1  -1.727066        -0.785445   \n",
       "3            4       4     80             1  -1.727066        -0.785445   \n",
       "4            5       5     41             1  -1.727066        -0.785445   \n",
       "...        ...     ...    ...           ...        ...              ...   \n",
       "548082  548083     938      0             0   1.728270         1.273164   \n",
       "548083  548084     939      0             0   1.728270         1.273164   \n",
       "548084  548085     940      0             0   1.728270         1.273164   \n",
       "548085  548086     941      0             0   1.728270         1.273164   \n",
       "548086  548087     942      0             0   1.728270         1.273164   \n",
       "\n",
       "        Public_Holiday  Long_Promotion  User_Traffic  Competition_Metric  \\\n",
       "0             5.658910        1.020609     -0.560865            -0.66415   \n",
       "1            -0.176712        1.020609     -0.210483            -0.66415   \n",
       "2            -0.176712        1.020609     -0.474660            -0.66415   \n",
       "3            -0.176712        1.020609     -0.421825            -0.66415   \n",
       "4            -0.176712        1.020609     -1.117027            -0.66415   \n",
       "...                ...             ...           ...                 ...   \n",
       "548082       -0.176712        1.020609     -0.580331            -0.03353   \n",
       "548083       -0.176712        1.020609     -0.580331            -0.03353   \n",
       "548084       -0.176712        1.020609     -0.580331            -0.03353   \n",
       "548085       -0.176712        1.020609     -0.580331            -0.03353   \n",
       "548086       -0.176712        1.020609     -0.580331            -0.03353   \n",
       "\n",
       "        Course_Domain_Development  Course_Domain_Finance & Accounting  \\\n",
       "0                        0.968630                           -0.421096   \n",
       "1                        0.968630                           -0.421096   \n",
       "2                        0.968630                           -0.421096   \n",
       "3                        0.968630                           -0.421096   \n",
       "4                        0.968630                           -0.421096   \n",
       "...                           ...                                 ...   \n",
       "548082                  -1.032386                           -0.421096   \n",
       "548083                  -1.032386                           -0.421096   \n",
       "548084                  -1.032386                           -0.421096   \n",
       "548085                  -1.032386                           -0.421096   \n",
       "548086                  -1.032386                           -0.421096   \n",
       "\n",
       "        Course_Domain_Software Marketing  Course_Type_Degree  \\\n",
       "0                              -0.693669            -0.05873   \n",
       "1                              -0.693669            -0.05873   \n",
       "2                              -0.693669            -0.05873   \n",
       "3                              -0.693669            -0.05873   \n",
       "4                              -0.693669            -0.05873   \n",
       "...                                  ...                 ...   \n",
       "548082                          1.441611            -0.05873   \n",
       "548083                          1.441611            -0.05873   \n",
       "548084                          1.441611            -0.05873   \n",
       "548085                          1.441611            -0.05873   \n",
       "548086                          1.441611            -0.05873   \n",
       "\n",
       "        Course_Type_Program  \n",
       "0                 -0.967018  \n",
       "1                 -0.967018  \n",
       "2                 -0.967018  \n",
       "3                 -0.967018  \n",
       "4                 -0.967018  \n",
       "...                     ...  \n",
       "548082             1.034107  \n",
       "548083             1.034107  \n",
       "548084             1.034107  \n",
       "548085             1.034107  \n",
       "548086             1.034107  \n",
       "\n",
       "[548087 rows x 15 columns]"
      ]
     },
     "execution_count": 57,
     "metadata": {},
     "output_type": "execute_result"
    }
   ],
   "source": [
    "df=pd.concat([data_dummy[[\"ID\",\"Day_No\",\"Sales\",'source_train']].reset_index(drop=True),\n",
    "                    pd.DataFrame(scaler.transform(data_dummy[feature_scale]), columns=feature_scale)],\n",
    "                    axis=1)\n",
    "df"
   ]
  },
  {
   "cell_type": "markdown",
   "metadata": {},
   "source": [
    "### Feature selection"
   ]
  },
  {
   "cell_type": "code",
   "execution_count": 74,
   "metadata": {},
   "outputs": [],
   "source": [
    "X=data_dummy.drop(['Sales','ID','Course_ID','source_train'],axis=1)\n",
    "y=data_dummy['Sales']"
   ]
  },
  {
   "cell_type": "code",
   "execution_count": 82,
   "metadata": {},
   "outputs": [],
   "source": [
    "from sklearn.feature_selection import RFE\n",
    "from sklearn.model_selection import  GridSearchCV, KFold\n",
    "from sklearn.linear_model import LinearRegression\n",
    "params={'n_features_to_select': list(range(1,12))}\n",
    "kf=KFold(n_splits=3,random_state=3)\n",
    "\n",
    "lr=LinearRegression()\n",
    "rfe=RFE(lr)\n",
    "gsearch=GridSearchCV(rfe, param_grid=params,cv=kf,scoring='r2')"
   ]
  },
  {
   "cell_type": "code",
   "execution_count": 83,
   "metadata": {},
   "outputs": [
    {
     "data": {
      "text/plain": [
       "GridSearchCV(cv=KFold(n_splits=3, random_state=3, shuffle=False),\n",
       "             error_score='raise-deprecating',\n",
       "             estimator=RFE(estimator=LinearRegression(copy_X=True,\n",
       "                                                      fit_intercept=True,\n",
       "                                                      n_jobs=None,\n",
       "                                                      normalize=False),\n",
       "                           n_features_to_select=None, step=1, verbose=0),\n",
       "             iid='warn', n_jobs=None,\n",
       "             param_grid={'n_features_to_select': [1, 2, 3, 4, 5, 6, 7, 8, 9, 10,\n",
       "                                                  11]},\n",
       "             pre_dispatch='2*n_jobs', refit=True, return_train_score=False,\n",
       "             scoring='r2', verbose=0)"
      ]
     },
     "execution_count": 83,
     "metadata": {},
     "output_type": "execute_result"
    }
   ],
   "source": [
    "gsearch.fit(X,y)"
   ]
  },
  {
   "cell_type": "code",
   "execution_count": 77,
   "metadata": {},
   "outputs": [
    {
     "data": {
      "text/plain": [
       "{'n_features_to_select': 11}"
      ]
     },
     "execution_count": 77,
     "metadata": {},
     "output_type": "execute_result"
    }
   ],
   "source": [
    "gsearch.best_params_"
   ]
  },
  {
   "cell_type": "code",
   "execution_count": 84,
   "metadata": {},
   "outputs": [
    {
     "data": {
      "text/html": [
       "<div>\n",
       "<style scoped>\n",
       "    .dataframe tbody tr th:only-of-type {\n",
       "        vertical-align: middle;\n",
       "    }\n",
       "\n",
       "    .dataframe tbody tr th {\n",
       "        vertical-align: top;\n",
       "    }\n",
       "\n",
       "    .dataframe thead th {\n",
       "        text-align: right;\n",
       "    }\n",
       "</style>\n",
       "<table border=\"1\" class=\"dataframe\">\n",
       "  <thead>\n",
       "    <tr style=\"text-align: right;\">\n",
       "      <th></th>\n",
       "      <th>mean_fit_time</th>\n",
       "      <th>std_fit_time</th>\n",
       "      <th>mean_score_time</th>\n",
       "      <th>std_score_time</th>\n",
       "      <th>param_n_features_to_select</th>\n",
       "      <th>params</th>\n",
       "      <th>split0_test_score</th>\n",
       "      <th>split1_test_score</th>\n",
       "      <th>split2_test_score</th>\n",
       "      <th>mean_test_score</th>\n",
       "      <th>std_test_score</th>\n",
       "      <th>rank_test_score</th>\n",
       "    </tr>\n",
       "  </thead>\n",
       "  <tbody>\n",
       "    <tr>\n",
       "      <td>0</td>\n",
       "      <td>1.745238</td>\n",
       "      <td>0.227245</td>\n",
       "      <td>0.039028</td>\n",
       "      <td>0.004246</td>\n",
       "      <td>1</td>\n",
       "      <td>{'n_features_to_select': 1}</td>\n",
       "      <td>-0.029430</td>\n",
       "      <td>-0.092397</td>\n",
       "      <td>-0.154838</td>\n",
       "      <td>-0.092221</td>\n",
       "      <td>0.051198</td>\n",
       "      <td>11</td>\n",
       "    </tr>\n",
       "    <tr>\n",
       "      <td>1</td>\n",
       "      <td>1.317270</td>\n",
       "      <td>0.020053</td>\n",
       "      <td>0.036359</td>\n",
       "      <td>0.001701</td>\n",
       "      <td>2</td>\n",
       "      <td>{'n_features_to_select': 2}</td>\n",
       "      <td>-0.031277</td>\n",
       "      <td>-0.088068</td>\n",
       "      <td>-0.153826</td>\n",
       "      <td>-0.091057</td>\n",
       "      <td>0.050075</td>\n",
       "      <td>10</td>\n",
       "    </tr>\n",
       "    <tr>\n",
       "      <td>2</td>\n",
       "      <td>1.411671</td>\n",
       "      <td>0.080499</td>\n",
       "      <td>0.038694</td>\n",
       "      <td>0.001248</td>\n",
       "      <td>3</td>\n",
       "      <td>{'n_features_to_select': 3}</td>\n",
       "      <td>-0.016372</td>\n",
       "      <td>-0.088154</td>\n",
       "      <td>-0.148243</td>\n",
       "      <td>-0.084256</td>\n",
       "      <td>0.053907</td>\n",
       "      <td>9</td>\n",
       "    </tr>\n",
       "    <tr>\n",
       "      <td>3</td>\n",
       "      <td>1.251523</td>\n",
       "      <td>0.015597</td>\n",
       "      <td>0.040030</td>\n",
       "      <td>0.001412</td>\n",
       "      <td>4</td>\n",
       "      <td>{'n_features_to_select': 4}</td>\n",
       "      <td>0.128455</td>\n",
       "      <td>0.020824</td>\n",
       "      <td>-0.100196</td>\n",
       "      <td>0.016362</td>\n",
       "      <td>0.093400</td>\n",
       "      <td>8</td>\n",
       "    </tr>\n",
       "    <tr>\n",
       "      <td>4</td>\n",
       "      <td>1.140143</td>\n",
       "      <td>0.028214</td>\n",
       "      <td>0.042364</td>\n",
       "      <td>0.002626</td>\n",
       "      <td>5</td>\n",
       "      <td>{'n_features_to_select': 5}</td>\n",
       "      <td>0.144622</td>\n",
       "      <td>0.034008</td>\n",
       "      <td>-0.100340</td>\n",
       "      <td>0.026097</td>\n",
       "      <td>0.100162</td>\n",
       "      <td>6</td>\n",
       "    </tr>\n",
       "    <tr>\n",
       "      <td>5</td>\n",
       "      <td>1.041073</td>\n",
       "      <td>0.018422</td>\n",
       "      <td>0.042697</td>\n",
       "      <td>0.001248</td>\n",
       "      <td>6</td>\n",
       "      <td>{'n_features_to_select': 6}</td>\n",
       "      <td>0.142291</td>\n",
       "      <td>0.058718</td>\n",
       "      <td>-0.105016</td>\n",
       "      <td>0.031998</td>\n",
       "      <td>0.102715</td>\n",
       "      <td>5</td>\n",
       "    </tr>\n",
       "    <tr>\n",
       "      <td>6</td>\n",
       "      <td>0.955345</td>\n",
       "      <td>0.007592</td>\n",
       "      <td>0.043365</td>\n",
       "      <td>0.001248</td>\n",
       "      <td>7</td>\n",
       "      <td>{'n_features_to_select': 7}</td>\n",
       "      <td>0.173169</td>\n",
       "      <td>0.059470</td>\n",
       "      <td>-0.105732</td>\n",
       "      <td>0.042302</td>\n",
       "      <td>0.114506</td>\n",
       "      <td>4</td>\n",
       "    </tr>\n",
       "    <tr>\n",
       "      <td>7</td>\n",
       "      <td>0.817581</td>\n",
       "      <td>0.024362</td>\n",
       "      <td>0.045033</td>\n",
       "      <td>0.002946</td>\n",
       "      <td>8</td>\n",
       "      <td>{'n_features_to_select': 8}</td>\n",
       "      <td>0.172120</td>\n",
       "      <td>0.073736</td>\n",
       "      <td>-0.104778</td>\n",
       "      <td>0.047026</td>\n",
       "      <td>0.114610</td>\n",
       "      <td>3</td>\n",
       "    </tr>\n",
       "    <tr>\n",
       "      <td>8</td>\n",
       "      <td>0.689490</td>\n",
       "      <td>0.019456</td>\n",
       "      <td>0.049369</td>\n",
       "      <td>0.000472</td>\n",
       "      <td>9</td>\n",
       "      <td>{'n_features_to_select': 9}</td>\n",
       "      <td>0.173858</td>\n",
       "      <td>0.073616</td>\n",
       "      <td>-0.173090</td>\n",
       "      <td>0.024795</td>\n",
       "      <td>0.145787</td>\n",
       "      <td>7</td>\n",
       "    </tr>\n",
       "    <tr>\n",
       "      <td>9</td>\n",
       "      <td>0.526040</td>\n",
       "      <td>0.022560</td>\n",
       "      <td>0.051703</td>\n",
       "      <td>0.001701</td>\n",
       "      <td>10</td>\n",
       "      <td>{'n_features_to_select': 10}</td>\n",
       "      <td>0.079590</td>\n",
       "      <td>0.013261</td>\n",
       "      <td>0.245707</td>\n",
       "      <td>0.112852</td>\n",
       "      <td>0.097767</td>\n",
       "      <td>2</td>\n",
       "    </tr>\n",
       "    <tr>\n",
       "      <td>10</td>\n",
       "      <td>0.350916</td>\n",
       "      <td>0.011737</td>\n",
       "      <td>0.056374</td>\n",
       "      <td>0.001249</td>\n",
       "      <td>11</td>\n",
       "      <td>{'n_features_to_select': 11}</td>\n",
       "      <td>0.716431</td>\n",
       "      <td>0.739200</td>\n",
       "      <td>0.245707</td>\n",
       "      <td>0.567113</td>\n",
       "      <td>0.227458</td>\n",
       "      <td>1</td>\n",
       "    </tr>\n",
       "  </tbody>\n",
       "</table>\n",
       "</div>"
      ],
      "text/plain": [
       "    mean_fit_time  std_fit_time  mean_score_time  std_score_time  \\\n",
       "0        1.745238      0.227245         0.039028        0.004246   \n",
       "1        1.317270      0.020053         0.036359        0.001701   \n",
       "2        1.411671      0.080499         0.038694        0.001248   \n",
       "3        1.251523      0.015597         0.040030        0.001412   \n",
       "4        1.140143      0.028214         0.042364        0.002626   \n",
       "5        1.041073      0.018422         0.042697        0.001248   \n",
       "6        0.955345      0.007592         0.043365        0.001248   \n",
       "7        0.817581      0.024362         0.045033        0.002946   \n",
       "8        0.689490      0.019456         0.049369        0.000472   \n",
       "9        0.526040      0.022560         0.051703        0.001701   \n",
       "10       0.350916      0.011737         0.056374        0.001249   \n",
       "\n",
       "   param_n_features_to_select                        params  \\\n",
       "0                           1   {'n_features_to_select': 1}   \n",
       "1                           2   {'n_features_to_select': 2}   \n",
       "2                           3   {'n_features_to_select': 3}   \n",
       "3                           4   {'n_features_to_select': 4}   \n",
       "4                           5   {'n_features_to_select': 5}   \n",
       "5                           6   {'n_features_to_select': 6}   \n",
       "6                           7   {'n_features_to_select': 7}   \n",
       "7                           8   {'n_features_to_select': 8}   \n",
       "8                           9   {'n_features_to_select': 9}   \n",
       "9                          10  {'n_features_to_select': 10}   \n",
       "10                         11  {'n_features_to_select': 11}   \n",
       "\n",
       "    split0_test_score  split1_test_score  split2_test_score  mean_test_score  \\\n",
       "0           -0.029430          -0.092397          -0.154838        -0.092221   \n",
       "1           -0.031277          -0.088068          -0.153826        -0.091057   \n",
       "2           -0.016372          -0.088154          -0.148243        -0.084256   \n",
       "3            0.128455           0.020824          -0.100196         0.016362   \n",
       "4            0.144622           0.034008          -0.100340         0.026097   \n",
       "5            0.142291           0.058718          -0.105016         0.031998   \n",
       "6            0.173169           0.059470          -0.105732         0.042302   \n",
       "7            0.172120           0.073736          -0.104778         0.047026   \n",
       "8            0.173858           0.073616          -0.173090         0.024795   \n",
       "9            0.079590           0.013261           0.245707         0.112852   \n",
       "10           0.716431           0.739200           0.245707         0.567113   \n",
       "\n",
       "    std_test_score  rank_test_score  \n",
       "0         0.051198               11  \n",
       "1         0.050075               10  \n",
       "2         0.053907                9  \n",
       "3         0.093400                8  \n",
       "4         0.100162                6  \n",
       "5         0.102715                5  \n",
       "6         0.114506                4  \n",
       "7         0.114610                3  \n",
       "8         0.145787                7  \n",
       "9         0.097767                2  \n",
       "10        0.227458                1  "
      ]
     },
     "execution_count": 84,
     "metadata": {},
     "output_type": "execute_result"
    }
   ],
   "source": [
    "gs=pd.DataFrame(gsearch.cv_results_)\n",
    "gs"
   ]
  },
  {
   "cell_type": "code",
   "execution_count": 85,
   "metadata": {},
   "outputs": [
    {
     "data": {
      "image/png": "[encoded data removed]",
      "text/plain": [
       "<Figure size 432x288 with 1 Axes>"
      ]
     },
     "metadata": {
      "needs_background": "light"
     },
     "output_type": "display_data"
    }
   ],
   "source": [
    "plt.plot(gs['param_n_features_to_select'],gs['mean_test_score'])\n",
    "plt.xlabel('Number of features')\n",
    "plt.ylabel('r-square')\n",
    "plt.show()"
   ]
  },
  {
   "cell_type": "markdown",
   "metadata": {},
   "source": [
    "As the r-squared value is more when we select all the 11 features, hence, we will choose 11 as the optional number to keep."
   ]
  },
  {
   "cell_type": "code",
   "execution_count": 93,
   "metadata": {},
   "outputs": [
    {
     "data": {
      "text/html": [
       "<div>\n",
       "<style scoped>\n",
       "    .dataframe tbody tr th:only-of-type {\n",
       "        vertical-align: middle;\n",
       "    }\n",
       "\n",
       "    .dataframe tbody tr th {\n",
       "        vertical-align: top;\n",
       "    }\n",
       "\n",
       "    .dataframe thead th {\n",
       "        text-align: right;\n",
       "    }\n",
       "</style>\n",
       "<table border=\"1\" class=\"dataframe\">\n",
       "  <thead>\n",
       "    <tr style=\"text-align: right;\">\n",
       "      <th></th>\n",
       "      <th>ID</th>\n",
       "      <th>Day_No</th>\n",
       "      <th>Course_ID</th>\n",
       "      <th>Short_Promotion</th>\n",
       "      <th>Public_Holiday</th>\n",
       "      <th>Long_Promotion</th>\n",
       "      <th>User_Traffic</th>\n",
       "      <th>Competition_Metric</th>\n",
       "      <th>Sales</th>\n",
       "      <th>Course_Domain_Development</th>\n",
       "      <th>Course_Domain_Finance &amp; Accounting</th>\n",
       "      <th>Course_Domain_Software Marketing</th>\n",
       "      <th>Course_Type_Degree</th>\n",
       "      <th>Course_Type_Program</th>\n",
       "    </tr>\n",
       "  </thead>\n",
       "  <tbody>\n",
       "    <tr>\n",
       "      <td>0</td>\n",
       "      <td>1</td>\n",
       "      <td>1</td>\n",
       "      <td>1</td>\n",
       "      <td>0</td>\n",
       "      <td>1</td>\n",
       "      <td>1</td>\n",
       "      <td>11004.0</td>\n",
       "      <td>0.007</td>\n",
       "      <td>81</td>\n",
       "      <td>1</td>\n",
       "      <td>0</td>\n",
       "      <td>0</td>\n",
       "      <td>0</td>\n",
       "      <td>0</td>\n",
       "    </tr>\n",
       "    <tr>\n",
       "      <td>1</td>\n",
       "      <td>2</td>\n",
       "      <td>2</td>\n",
       "      <td>1</td>\n",
       "      <td>0</td>\n",
       "      <td>0</td>\n",
       "      <td>1</td>\n",
       "      <td>13650.0</td>\n",
       "      <td>0.007</td>\n",
       "      <td>79</td>\n",
       "      <td>1</td>\n",
       "      <td>0</td>\n",
       "      <td>0</td>\n",
       "      <td>0</td>\n",
       "      <td>0</td>\n",
       "    </tr>\n",
       "    <tr>\n",
       "      <td>2</td>\n",
       "      <td>3</td>\n",
       "      <td>3</td>\n",
       "      <td>1</td>\n",
       "      <td>0</td>\n",
       "      <td>0</td>\n",
       "      <td>1</td>\n",
       "      <td>11655.0</td>\n",
       "      <td>0.007</td>\n",
       "      <td>75</td>\n",
       "      <td>1</td>\n",
       "      <td>0</td>\n",
       "      <td>0</td>\n",
       "      <td>0</td>\n",
       "      <td>0</td>\n",
       "    </tr>\n",
       "    <tr>\n",
       "      <td>3</td>\n",
       "      <td>4</td>\n",
       "      <td>4</td>\n",
       "      <td>1</td>\n",
       "      <td>0</td>\n",
       "      <td>0</td>\n",
       "      <td>1</td>\n",
       "      <td>12054.0</td>\n",
       "      <td>0.007</td>\n",
       "      <td>80</td>\n",
       "      <td>1</td>\n",
       "      <td>0</td>\n",
       "      <td>0</td>\n",
       "      <td>0</td>\n",
       "      <td>0</td>\n",
       "    </tr>\n",
       "    <tr>\n",
       "      <td>4</td>\n",
       "      <td>5</td>\n",
       "      <td>5</td>\n",
       "      <td>1</td>\n",
       "      <td>0</td>\n",
       "      <td>0</td>\n",
       "      <td>1</td>\n",
       "      <td>6804.0</td>\n",
       "      <td>0.007</td>\n",
       "      <td>41</td>\n",
       "      <td>1</td>\n",
       "      <td>0</td>\n",
       "      <td>0</td>\n",
       "      <td>0</td>\n",
       "      <td>0</td>\n",
       "    </tr>\n",
       "    <tr>\n",
       "      <td>...</td>\n",
       "      <td>...</td>\n",
       "      <td>...</td>\n",
       "      <td>...</td>\n",
       "      <td>...</td>\n",
       "      <td>...</td>\n",
       "      <td>...</td>\n",
       "      <td>...</td>\n",
       "      <td>...</td>\n",
       "      <td>...</td>\n",
       "      <td>...</td>\n",
       "      <td>...</td>\n",
       "      <td>...</td>\n",
       "      <td>...</td>\n",
       "      <td>...</td>\n",
       "    </tr>\n",
       "    <tr>\n",
       "      <td>512082</td>\n",
       "      <td>548023</td>\n",
       "      <td>878</td>\n",
       "      <td>600</td>\n",
       "      <td>0</td>\n",
       "      <td>0</td>\n",
       "      <td>1</td>\n",
       "      <td>8904.0</td>\n",
       "      <td>0.070</td>\n",
       "      <td>114</td>\n",
       "      <td>0</td>\n",
       "      <td>0</td>\n",
       "      <td>1</td>\n",
       "      <td>0</td>\n",
       "      <td>1</td>\n",
       "    </tr>\n",
       "    <tr>\n",
       "      <td>512083</td>\n",
       "      <td>548024</td>\n",
       "      <td>879</td>\n",
       "      <td>600</td>\n",
       "      <td>0</td>\n",
       "      <td>0</td>\n",
       "      <td>1</td>\n",
       "      <td>10542.0</td>\n",
       "      <td>0.070</td>\n",
       "      <td>145</td>\n",
       "      <td>0</td>\n",
       "      <td>0</td>\n",
       "      <td>1</td>\n",
       "      <td>0</td>\n",
       "      <td>1</td>\n",
       "    </tr>\n",
       "    <tr>\n",
       "      <td>512084</td>\n",
       "      <td>548025</td>\n",
       "      <td>880</td>\n",
       "      <td>600</td>\n",
       "      <td>0</td>\n",
       "      <td>0</td>\n",
       "      <td>1</td>\n",
       "      <td>13671.0</td>\n",
       "      <td>0.070</td>\n",
       "      <td>167</td>\n",
       "      <td>0</td>\n",
       "      <td>0</td>\n",
       "      <td>1</td>\n",
       "      <td>0</td>\n",
       "      <td>1</td>\n",
       "    </tr>\n",
       "    <tr>\n",
       "      <td>512085</td>\n",
       "      <td>548026</td>\n",
       "      <td>881</td>\n",
       "      <td>600</td>\n",
       "      <td>0</td>\n",
       "      <td>0</td>\n",
       "      <td>1</td>\n",
       "      <td>8904.0</td>\n",
       "      <td>0.070</td>\n",
       "      <td>107</td>\n",
       "      <td>0</td>\n",
       "      <td>0</td>\n",
       "      <td>1</td>\n",
       "      <td>0</td>\n",
       "      <td>1</td>\n",
       "    </tr>\n",
       "    <tr>\n",
       "      <td>512086</td>\n",
       "      <td>548027</td>\n",
       "      <td>882</td>\n",
       "      <td>600</td>\n",
       "      <td>1</td>\n",
       "      <td>0</td>\n",
       "      <td>1</td>\n",
       "      <td>11445.0</td>\n",
       "      <td>0.070</td>\n",
       "      <td>152</td>\n",
       "      <td>0</td>\n",
       "      <td>0</td>\n",
       "      <td>1</td>\n",
       "      <td>0</td>\n",
       "      <td>1</td>\n",
       "    </tr>\n",
       "  </tbody>\n",
       "</table>\n",
       "<p>512087 rows × 14 columns</p>\n",
       "</div>"
      ],
      "text/plain": [
       "            ID  Day_No  Course_ID  Short_Promotion  Public_Holiday  \\\n",
       "0            1       1          1                0               1   \n",
       "1            2       2          1                0               0   \n",
       "2            3       3          1                0               0   \n",
       "3            4       4          1                0               0   \n",
       "4            5       5          1                0               0   \n",
       "...        ...     ...        ...              ...             ...   \n",
       "512082  548023     878        600                0               0   \n",
       "512083  548024     879        600                0               0   \n",
       "512084  548025     880        600                0               0   \n",
       "512085  548026     881        600                0               0   \n",
       "512086  548027     882        600                1               0   \n",
       "\n",
       "        Long_Promotion  User_Traffic  Competition_Metric  Sales  \\\n",
       "0                    1       11004.0               0.007     81   \n",
       "1                    1       13650.0               0.007     79   \n",
       "2                    1       11655.0               0.007     75   \n",
       "3                    1       12054.0               0.007     80   \n",
       "4                    1        6804.0               0.007     41   \n",
       "...                ...           ...                 ...    ...   \n",
       "512082               1        8904.0               0.070    114   \n",
       "512083               1       10542.0               0.070    145   \n",
       "512084               1       13671.0               0.070    167   \n",
       "512085               1        8904.0               0.070    107   \n",
       "512086               1       11445.0               0.070    152   \n",
       "\n",
       "        Course_Domain_Development  Course_Domain_Finance & Accounting  \\\n",
       "0                               1                                   0   \n",
       "1                               1                                   0   \n",
       "2                               1                                   0   \n",
       "3                               1                                   0   \n",
       "4                               1                                   0   \n",
       "...                           ...                                 ...   \n",
       "512082                          0                                   0   \n",
       "512083                          0                                   0   \n",
       "512084                          0                                   0   \n",
       "512085                          0                                   0   \n",
       "512086                          0                                   0   \n",
       "\n",
       "        Course_Domain_Software Marketing  Course_Type_Degree  \\\n",
       "0                                      0                   0   \n",
       "1                                      0                   0   \n",
       "2                                      0                   0   \n",
       "3                                      0                   0   \n",
       "4                                      0                   0   \n",
       "...                                  ...                 ...   \n",
       "512082                                 1                   0   \n",
       "512083                                 1                   0   \n",
       "512084                                 1                   0   \n",
       "512085                                 1                   0   \n",
       "512086                                 1                   0   \n",
       "\n",
       "        Course_Type_Program  \n",
       "0                         0  \n",
       "1                         0  \n",
       "2                         0  \n",
       "3                         0  \n",
       "4                         0  \n",
       "...                     ...  \n",
       "512082                    1  \n",
       "512083                    1  \n",
       "512084                    1  \n",
       "512085                    1  \n",
       "512086                    1  \n",
       "\n",
       "[512087 rows x 14 columns]"
      ]
     },
     "execution_count": 93,
     "metadata": {},
     "output_type": "execute_result"
    }
   ],
   "source": [
    "train = data_dummy.loc[data_dummy['source_train']==1]\n",
    "test = data_dummy.loc[data_dummy['source_train']==0]\n",
    "\n",
    "test.drop(['source_train'],axis=1,inplace=True)\n",
    "train.drop(['source_train'],axis=1,inplace=True)\n"
   ]
  },
  {
   "cell_type": "markdown",
   "metadata": {},
   "source": [
    "### Feature Selection using RFE selection method"
   ]
  },
  {
   "cell_type": "code",
   "execution_count": 94,
   "metadata": {},
   "outputs": [],
   "source": [
    "X=train.drop(['Sales','ID','Course_ID'],axis=1)\n",
    "y=train['Sales']"
   ]
  },
  {
   "cell_type": "code",
   "execution_count": 97,
   "metadata": {},
   "outputs": [],
   "source": [
    "from sklearn.model_selection import train_test_split\n",
    "from sklearn.metrics import r2_score,mean_squared_error\n",
    "#Splitting the feature and target into 70:30 ratio\n",
    "X_train, X_test, y_train, y_test = train_test_split(X, y, test_size=0.30, random_state=3)"
   ]
  },
  {
   "cell_type": "code",
   "execution_count": 105,
   "metadata": {},
   "outputs": [
    {
     "data": {
      "text/plain": [
       "11"
      ]
     },
     "execution_count": 105,
     "metadata": {},
     "output_type": "execute_result"
    }
   ],
   "source": [
    "no_of_cols=X.shape[1]\n",
    "score_list=[]\n",
    "rmse_list=[]\n",
    "\n",
    "for n in range(12):\n",
    "    model=LinearRegression()\n",
    "    rfe=RFE(model,n_features_to_select=n+1)\n",
    "    rfe.fit(X_train,y_train)\n",
    "    y_test_pred=rfe.predict(X_test)\n",
    "    score=r2_score(y_test,y_test_pred)\n",
    "    rmse=np.sqrt(mean_squared_error(y_test,y_test_pred))\n",
    "    score_list.append(score)\n",
    "    rmse_list.append(rmse)\n",
    "no_of_cols"
   ]
  },
  {
   "cell_type": "code",
   "execution_count": 106,
   "metadata": {},
   "outputs": [
    {
     "data": {
      "text/plain": [
       "[0.000695200107391547,\n",
       " 0.0033340719090776405,\n",
       " 0.014125783618703536,\n",
       " 0.1480731051912264,\n",
       " 0.16464907413669294,\n",
       " 0.18659550401831337,\n",
       " 0.18759215371944604,\n",
       " 0.1991117756035935,\n",
       " 0.1991178385155533,\n",
       " 0.2019936928553432,\n",
       " 0.8308039498687124,\n",
       " 0.8308039498687124]"
      ]
     },
     "execution_count": 106,
     "metadata": {},
     "output_type": "execute_result"
    }
   ],
   "source": [
    "score_list"
   ]
  },
  {
   "cell_type": "code",
   "execution_count": 108,
   "metadata": {},
   "outputs": [
    {
     "data": {
      "text/plain": [
       "Text(0.5, 1.0, 'r2_square plot')"
      ]
     },
     "execution_count": 108,
     "metadata": {},
     "output_type": "execute_result"
    },
    {
     "data": {
      "image/png": "[encoded data removed]",
      "text/plain": [
       "<Figure size 432x288 with 1 Axes>"
      ]
     },
     "metadata": {
      "needs_background": "light"
     },
     "output_type": "display_data"
    }
   ],
   "source": [
    "plt.plot(range(1,13),score_list)\n",
    "plt.xlabel('No of Features')\n",
    "plt.ylabel('r2_square values')\n",
    "plt.title('r2_square plot')"
   ]
  },
  {
   "cell_type": "markdown",
   "metadata": {},
   "source": [
    "From the above rfe rankings, r2_score plot, the result of r2 shows that we are getting values very close to maximum no of features=11. Hence, we will choose 11 as the optional number to keep."
   ]
  },
  {
   "cell_type": "markdown",
   "metadata": {},
   "source": [
    "### Building model"
   ]
  },
  {
   "cell_type": "markdown",
   "metadata": {},
   "source": [
    "#### Building Linear Regression Model"
   ]
  },
  {
   "cell_type": "code",
   "execution_count": 113,
   "metadata": {},
   "outputs": [],
   "source": [
    "X=train.drop(['Sales','ID','Course_ID'],axis=1)\n",
    "y=train['Sales']"
   ]
  },
  {
   "cell_type": "code",
   "execution_count": 134,
   "metadata": {},
   "outputs": [],
   "source": [
    "lr.fit(X_train,y_train)\n",
    "y_train_pred=lr.predict(X_train)\n",
    "y_test_pred=lr.predict(X_test)"
   ]
  },
  {
   "cell_type": "code",
   "execution_count": 116,
   "metadata": {},
   "outputs": [
    {
     "data": {
      "image/png": "[encoded data removed]",
      "text/plain": [
       "<Figure size 432x288 with 1 Axes>"
      ]
     },
     "metadata": {
      "needs_background": "light"
     },
     "output_type": "display_data"
    }
   ],
   "source": [
    "plt.scatter(y_test, y_test_pred)\n",
    "plt.plot(y_test, y_test, 'r')\n",
    "plt.title('Sales_prediction vs Sales_test')\n",
    "plt.show()\n"
   ]
  },
  {
   "cell_type": "code",
   "execution_count": 124,
   "metadata": {},
   "outputs": [
    {
     "data": {
      "text/html": [
       "<div>\n",
       "<style scoped>\n",
       "    .dataframe tbody tr th:only-of-type {\n",
       "        vertical-align: middle;\n",
       "    }\n",
       "\n",
       "    .dataframe tbody tr th {\n",
       "        vertical-align: top;\n",
       "    }\n",
       "\n",
       "    .dataframe thead th {\n",
       "        text-align: right;\n",
       "    }\n",
       "</style>\n",
       "<table border=\"1\" class=\"dataframe\">\n",
       "  <thead>\n",
       "    <tr style=\"text-align: right;\">\n",
       "      <th></th>\n",
       "      <th>Actual</th>\n",
       "      <th>Predicted</th>\n",
       "    </tr>\n",
       "  </thead>\n",
       "  <tbody>\n",
       "    <tr>\n",
       "      <td>394852</td>\n",
       "      <td>124</td>\n",
       "      <td>152.094044</td>\n",
       "    </tr>\n",
       "    <tr>\n",
       "      <td>215040</td>\n",
       "      <td>69</td>\n",
       "      <td>88.876401</td>\n",
       "    </tr>\n",
       "    <tr>\n",
       "      <td>33871</td>\n",
       "      <td>180</td>\n",
       "      <td>147.527019</td>\n",
       "    </tr>\n",
       "    <tr>\n",
       "      <td>228144</td>\n",
       "      <td>41</td>\n",
       "      <td>42.054048</td>\n",
       "    </tr>\n",
       "    <tr>\n",
       "      <td>154737</td>\n",
       "      <td>152</td>\n",
       "      <td>184.579021</td>\n",
       "    </tr>\n",
       "    <tr>\n",
       "      <td>...</td>\n",
       "      <td>...</td>\n",
       "      <td>...</td>\n",
       "    </tr>\n",
       "    <tr>\n",
       "      <td>395782</td>\n",
       "      <td>77</td>\n",
       "      <td>83.145874</td>\n",
       "    </tr>\n",
       "    <tr>\n",
       "      <td>327191</td>\n",
       "      <td>162</td>\n",
       "      <td>161.079033</td>\n",
       "    </tr>\n",
       "    <tr>\n",
       "      <td>56611</td>\n",
       "      <td>61</td>\n",
       "      <td>65.602748</td>\n",
       "    </tr>\n",
       "    <tr>\n",
       "      <td>243042</td>\n",
       "      <td>74</td>\n",
       "      <td>78.470015</td>\n",
       "    </tr>\n",
       "    <tr>\n",
       "      <td>421554</td>\n",
       "      <td>69</td>\n",
       "      <td>96.481643</td>\n",
       "    </tr>\n",
       "  </tbody>\n",
       "</table>\n",
       "<p>153627 rows × 2 columns</p>\n",
       "</div>"
      ],
      "text/plain": [
       "        Actual   Predicted\n",
       "394852     124  152.094044\n",
       "215040      69   88.876401\n",
       "33871      180  147.527019\n",
       "228144      41   42.054048\n",
       "154737     152  184.579021\n",
       "...        ...         ...\n",
       "395782      77   83.145874\n",
       "327191     162  161.079033\n",
       "56611       61   65.602748\n",
       "243042      74   78.470015\n",
       "421554      69   96.481643\n",
       "\n",
       "[153627 rows x 2 columns]"
      ]
     },
     "execution_count": 124,
     "metadata": {},
     "output_type": "execute_result"
    }
   ],
   "source": [
    "df = pd.DataFrame({'Actual': y_test, 'Predicted': y_test_pred})\n",
    "df"
   ]
  },
  {
   "cell_type": "code",
   "execution_count": 125,
   "metadata": {},
   "outputs": [
    {
     "data": {
      "image/png": "[encoded data removed]",
      "text/plain": [
       "<Figure size 720x360 with 1 Axes>"
      ]
     },
     "metadata": {
      "needs_background": "light"
     },
     "output_type": "display_data"
    }
   ],
   "source": [
    "#Note: As the number of records is huge, for representation purpose I’m taking just 25 records.\n",
    "\n",
    "df1 = df.head(25)\n",
    "df1.plot(kind='bar',figsize=(10,5))\n",
    "plt.grid(which='major', linestyle='-', linewidth='0.5', color='green')\n",
    "plt.grid(which='minor', linestyle=':', linewidth='0.5', color='black')\n",
    "plt.xticks(ticks=None)\n",
    "plt.show()"
   ]
  },
  {
   "cell_type": "markdown",
   "metadata": {},
   "source": [
    "Though our model is not very precise, the predicted percentages are close to the actual ones."
   ]
  },
  {
   "cell_type": "code",
   "execution_count": 128,
   "metadata": {},
   "outputs": [
    {
     "name": "stdout",
     "output_type": "stream",
     "text": [
      "Mean Absolute Error: 16.574449488385547\n",
      "Mean Squared Error: 499.55188482635134\n",
      "Root Mean Squared Error: 22.35065736899815\n"
     ]
    }
   ],
   "source": [
    "from sklearn.metrics import mean_absolute_error, mean_squared_error\n",
    "print('Mean Absolute Error:', mean_absolute_error(y_test, y_test_pred))  \n",
    "print('Mean Squared Error:',mean_squared_error(y_test, y_test_pred))  \n",
    "print('Root Mean Squared Error:', np.sqrt(mean_squared_error(y_test, y_test_pred)))"
   ]
  },
  {
   "cell_type": "markdown",
   "metadata": {},
   "source": [
    "We can see that the value of root mean squared error is 22.35, which is more than 18% of the mean value of the percentages of all the temperature i.e. 120.82. This means that our algorithm was not very accurate but can still make reasonably good predictions."
   ]
  },
  {
   "cell_type": "code",
   "execution_count": 135,
   "metadata": {},
   "outputs": [
    {
     "name": "stdout",
     "output_type": "stream",
     "text": [
      "r squared test 0.8308039498687124\n",
      "r squared train 0.8311709875911181\n"
     ]
    }
   ],
   "source": [
    "print('r squared test',r2_score(y_test,y_test_pred))\n",
    "print('r squared train',r2_score(y_train,y_train_pred))"
   ]
  },
  {
   "cell_type": "markdown",
   "metadata": {},
   "source": [
    "r2 Square of both test and train are alomost same. Hence, the model is a good model to predict the sales based on the selected features."
   ]
  },
  {
   "cell_type": "code",
   "execution_count": 147,
   "metadata": {},
   "outputs": [
    {
     "name": "stdout",
     "output_type": "stream",
     "text": [
      "Intercept value: -72.73192656298085\n"
     ]
    }
   ],
   "source": [
    "print('Intercept value:',lr.intercept_)"
   ]
  },
  {
   "cell_type": "code",
   "execution_count": 146,
   "metadata": {},
   "outputs": [
    {
     "data": {
      "text/html": [
       "<div>\n",
       "<style scoped>\n",
       "    .dataframe tbody tr th:only-of-type {\n",
       "        vertical-align: middle;\n",
       "    }\n",
       "\n",
       "    .dataframe tbody tr th {\n",
       "        vertical-align: top;\n",
       "    }\n",
       "\n",
       "    .dataframe thead th {\n",
       "        text-align: right;\n",
       "    }\n",
       "</style>\n",
       "<table border=\"1\" class=\"dataframe\">\n",
       "  <thead>\n",
       "    <tr style=\"text-align: right;\">\n",
       "      <th></th>\n",
       "      <th>Coefficients</th>\n",
       "    </tr>\n",
       "  </thead>\n",
       "  <tbody>\n",
       "    <tr>\n",
       "      <td>Day_No</td>\n",
       "      <td>0.008589</td>\n",
       "    </tr>\n",
       "    <tr>\n",
       "      <td>Short_Promotion</td>\n",
       "      <td>19.881259</td>\n",
       "    </tr>\n",
       "    <tr>\n",
       "      <td>Public_Holiday</td>\n",
       "      <td>-9.432220</td>\n",
       "    </tr>\n",
       "    <tr>\n",
       "      <td>Long_Promotion</td>\n",
       "      <td>6.901316</td>\n",
       "    </tr>\n",
       "    <tr>\n",
       "      <td>User_Traffic</td>\n",
       "      <td>0.006692</td>\n",
       "    </tr>\n",
       "    <tr>\n",
       "      <td>Competition_Metric</td>\n",
       "      <td>43.089108</td>\n",
       "    </tr>\n",
       "    <tr>\n",
       "      <td>Course_Domain_Development</td>\n",
       "      <td>65.230779</td>\n",
       "    </tr>\n",
       "    <tr>\n",
       "      <td>Course_Domain_Finance &amp; Accounting</td>\n",
       "      <td>63.216479</td>\n",
       "    </tr>\n",
       "    <tr>\n",
       "      <td>Course_Domain_Software Marketing</td>\n",
       "      <td>85.824394</td>\n",
       "    </tr>\n",
       "    <tr>\n",
       "      <td>Course_Type_Degree</td>\n",
       "      <td>-141.810057</td>\n",
       "    </tr>\n",
       "    <tr>\n",
       "      <td>Course_Type_Program</td>\n",
       "      <td>5.284472</td>\n",
       "    </tr>\n",
       "  </tbody>\n",
       "</table>\n",
       "</div>"
      ],
      "text/plain": [
       "                                    Coefficients\n",
       "Day_No                                  0.008589\n",
       "Short_Promotion                        19.881259\n",
       "Public_Holiday                         -9.432220\n",
       "Long_Promotion                          6.901316\n",
       "User_Traffic                            0.006692\n",
       "Competition_Metric                     43.089108\n",
       "Course_Domain_Development              65.230779\n",
       "Course_Domain_Finance & Accounting     63.216479\n",
       "Course_Domain_Software Marketing       85.824394\n",
       "Course_Type_Degree                   -141.810057\n",
       "Course_Type_Program                     5.284472"
      ]
     },
     "execution_count": 146,
     "metadata": {},
     "output_type": "execute_result"
    }
   ],
   "source": [
    "pd.DataFrame(lr.coef_, index=X.columns,columns=['Coefficients'])"
   ]
  },
  {
   "cell_type": "markdown",
   "metadata": {},
   "source": [
    "Since, we got a good R2 square (0.83), Hence, we can consider the model as a with the above coefficents of each features."
   ]
  },
  {
   "cell_type": "code",
   "execution_count": null,
   "metadata": {},
   "outputs": [],
   "source": []
  },
  {
   "cell_type": "code",
   "execution_count": null,
   "metadata": {},
   "outputs": [],
   "source": [
    "-72.73192656298085+0.008589*Day_No+19.881259*Short_Promotion+-9.432220*Public_Holiday+6.901316*Long_Promotion+0.006692*User_Traffic+Competition_Metric*43.0891+Course_Domain_Finance & Accounting*63.21647908+Course_Domain_Development*65.230779+Course_Domain_Finance & Accounting*63.216479+Course_Domain_Software Marketing*85.824394+Course_Type_Degree*-141.810057+Course_Type_Program*5.284472"
   ]
  },
  {
   "cell_type": "code",
   "execution_count": 149,
   "metadata": {},
   "outputs": [
    {
     "data": {
      "text/html": [
       "<div>\n",
       "<style scoped>\n",
       "    .dataframe tbody tr th:only-of-type {\n",
       "        vertical-align: middle;\n",
       "    }\n",
       "\n",
       "    .dataframe tbody tr th {\n",
       "        vertical-align: top;\n",
       "    }\n",
       "\n",
       "    .dataframe thead th {\n",
       "        text-align: right;\n",
       "    }\n",
       "</style>\n",
       "<table border=\"1\" class=\"dataframe\">\n",
       "  <thead>\n",
       "    <tr style=\"text-align: right;\">\n",
       "      <th></th>\n",
       "      <th>ID</th>\n",
       "      <th>Day_No</th>\n",
       "      <th>Course_ID</th>\n",
       "      <th>Short_Promotion</th>\n",
       "      <th>Public_Holiday</th>\n",
       "      <th>Long_Promotion</th>\n",
       "      <th>User_Traffic</th>\n",
       "      <th>Competition_Metric</th>\n",
       "      <th>Sales</th>\n",
       "      <th>Course_Domain_Development</th>\n",
       "      <th>Course_Domain_Finance &amp; Accounting</th>\n",
       "      <th>Course_Domain_Software Marketing</th>\n",
       "      <th>Course_Type_Degree</th>\n",
       "      <th>Course_Type_Program</th>\n",
       "    </tr>\n",
       "  </thead>\n",
       "  <tbody>\n",
       "    <tr>\n",
       "      <td>0</td>\n",
       "      <td>883</td>\n",
       "      <td>883</td>\n",
       "      <td>1</td>\n",
       "      <td>1</td>\n",
       "      <td>0</td>\n",
       "      <td>1</td>\n",
       "      <td>13671.0</td>\n",
       "      <td>0.007</td>\n",
       "      <td>0</td>\n",
       "      <td>1</td>\n",
       "      <td>0</td>\n",
       "      <td>0</td>\n",
       "      <td>0</td>\n",
       "      <td>0</td>\n",
       "    </tr>\n",
       "    <tr>\n",
       "      <td>1</td>\n",
       "      <td>884</td>\n",
       "      <td>884</td>\n",
       "      <td>1</td>\n",
       "      <td>1</td>\n",
       "      <td>0</td>\n",
       "      <td>1</td>\n",
       "      <td>13671.0</td>\n",
       "      <td>0.007</td>\n",
       "      <td>0</td>\n",
       "      <td>1</td>\n",
       "      <td>0</td>\n",
       "      <td>0</td>\n",
       "      <td>0</td>\n",
       "      <td>0</td>\n",
       "    </tr>\n",
       "    <tr>\n",
       "      <td>2</td>\n",
       "      <td>885</td>\n",
       "      <td>885</td>\n",
       "      <td>1</td>\n",
       "      <td>1</td>\n",
       "      <td>0</td>\n",
       "      <td>1</td>\n",
       "      <td>13671.0</td>\n",
       "      <td>0.007</td>\n",
       "      <td>0</td>\n",
       "      <td>1</td>\n",
       "      <td>0</td>\n",
       "      <td>0</td>\n",
       "      <td>0</td>\n",
       "      <td>0</td>\n",
       "    </tr>\n",
       "    <tr>\n",
       "      <td>3</td>\n",
       "      <td>886</td>\n",
       "      <td>886</td>\n",
       "      <td>1</td>\n",
       "      <td>1</td>\n",
       "      <td>0</td>\n",
       "      <td>1</td>\n",
       "      <td>13671.0</td>\n",
       "      <td>0.007</td>\n",
       "      <td>0</td>\n",
       "      <td>1</td>\n",
       "      <td>0</td>\n",
       "      <td>0</td>\n",
       "      <td>0</td>\n",
       "      <td>0</td>\n",
       "    </tr>\n",
       "    <tr>\n",
       "      <td>4</td>\n",
       "      <td>887</td>\n",
       "      <td>887</td>\n",
       "      <td>1</td>\n",
       "      <td>0</td>\n",
       "      <td>0</td>\n",
       "      <td>1</td>\n",
       "      <td>13671.0</td>\n",
       "      <td>0.007</td>\n",
       "      <td>0</td>\n",
       "      <td>1</td>\n",
       "      <td>0</td>\n",
       "      <td>0</td>\n",
       "      <td>0</td>\n",
       "      <td>0</td>\n",
       "    </tr>\n",
       "    <tr>\n",
       "      <td>...</td>\n",
       "      <td>...</td>\n",
       "      <td>...</td>\n",
       "      <td>...</td>\n",
       "      <td>...</td>\n",
       "      <td>...</td>\n",
       "      <td>...</td>\n",
       "      <td>...</td>\n",
       "      <td>...</td>\n",
       "      <td>...</td>\n",
       "      <td>...</td>\n",
       "      <td>...</td>\n",
       "      <td>...</td>\n",
       "      <td>...</td>\n",
       "      <td>...</td>\n",
       "    </tr>\n",
       "    <tr>\n",
       "      <td>35995</td>\n",
       "      <td>548083</td>\n",
       "      <td>938</td>\n",
       "      <td>600</td>\n",
       "      <td>1</td>\n",
       "      <td>0</td>\n",
       "      <td>1</td>\n",
       "      <td>10857.0</td>\n",
       "      <td>0.070</td>\n",
       "      <td>0</td>\n",
       "      <td>0</td>\n",
       "      <td>0</td>\n",
       "      <td>1</td>\n",
       "      <td>0</td>\n",
       "      <td>1</td>\n",
       "    </tr>\n",
       "    <tr>\n",
       "      <td>35996</td>\n",
       "      <td>548084</td>\n",
       "      <td>939</td>\n",
       "      <td>600</td>\n",
       "      <td>1</td>\n",
       "      <td>0</td>\n",
       "      <td>1</td>\n",
       "      <td>10857.0</td>\n",
       "      <td>0.070</td>\n",
       "      <td>0</td>\n",
       "      <td>0</td>\n",
       "      <td>0</td>\n",
       "      <td>1</td>\n",
       "      <td>0</td>\n",
       "      <td>1</td>\n",
       "    </tr>\n",
       "    <tr>\n",
       "      <td>35997</td>\n",
       "      <td>548085</td>\n",
       "      <td>940</td>\n",
       "      <td>600</td>\n",
       "      <td>1</td>\n",
       "      <td>0</td>\n",
       "      <td>1</td>\n",
       "      <td>10857.0</td>\n",
       "      <td>0.070</td>\n",
       "      <td>0</td>\n",
       "      <td>0</td>\n",
       "      <td>0</td>\n",
       "      <td>1</td>\n",
       "      <td>0</td>\n",
       "      <td>1</td>\n",
       "    </tr>\n",
       "    <tr>\n",
       "      <td>35998</td>\n",
       "      <td>548086</td>\n",
       "      <td>941</td>\n",
       "      <td>600</td>\n",
       "      <td>1</td>\n",
       "      <td>0</td>\n",
       "      <td>1</td>\n",
       "      <td>10857.0</td>\n",
       "      <td>0.070</td>\n",
       "      <td>0</td>\n",
       "      <td>0</td>\n",
       "      <td>0</td>\n",
       "      <td>1</td>\n",
       "      <td>0</td>\n",
       "      <td>1</td>\n",
       "    </tr>\n",
       "    <tr>\n",
       "      <td>35999</td>\n",
       "      <td>548087</td>\n",
       "      <td>942</td>\n",
       "      <td>600</td>\n",
       "      <td>1</td>\n",
       "      <td>0</td>\n",
       "      <td>1</td>\n",
       "      <td>10857.0</td>\n",
       "      <td>0.070</td>\n",
       "      <td>0</td>\n",
       "      <td>0</td>\n",
       "      <td>0</td>\n",
       "      <td>1</td>\n",
       "      <td>0</td>\n",
       "      <td>1</td>\n",
       "    </tr>\n",
       "  </tbody>\n",
       "</table>\n",
       "<p>36000 rows × 14 columns</p>\n",
       "</div>"
      ],
      "text/plain": [
       "           ID  Day_No  Course_ID  Short_Promotion  Public_Holiday  \\\n",
       "0         883     883          1                1               0   \n",
       "1         884     884          1                1               0   \n",
       "2         885     885          1                1               0   \n",
       "3         886     886          1                1               0   \n",
       "4         887     887          1                0               0   \n",
       "...       ...     ...        ...              ...             ...   \n",
       "35995  548083     938        600                1               0   \n",
       "35996  548084     939        600                1               0   \n",
       "35997  548085     940        600                1               0   \n",
       "35998  548086     941        600                1               0   \n",
       "35999  548087     942        600                1               0   \n",
       "\n",
       "       Long_Promotion  User_Traffic  Competition_Metric  Sales  \\\n",
       "0                   1       13671.0               0.007      0   \n",
       "1                   1       13671.0               0.007      0   \n",
       "2                   1       13671.0               0.007      0   \n",
       "3                   1       13671.0               0.007      0   \n",
       "4                   1       13671.0               0.007      0   \n",
       "...               ...           ...                 ...    ...   \n",
       "35995               1       10857.0               0.070      0   \n",
       "35996               1       10857.0               0.070      0   \n",
       "35997               1       10857.0               0.070      0   \n",
       "35998               1       10857.0               0.070      0   \n",
       "35999               1       10857.0               0.070      0   \n",
       "\n",
       "       Course_Domain_Development  Course_Domain_Finance & Accounting  \\\n",
       "0                              1                                   0   \n",
       "1                              1                                   0   \n",
       "2                              1                                   0   \n",
       "3                              1                                   0   \n",
       "4                              1                                   0   \n",
       "...                          ...                                 ...   \n",
       "35995                          0                                   0   \n",
       "35996                          0                                   0   \n",
       "35997                          0                                   0   \n",
       "35998                          0                                   0   \n",
       "35999                          0                                   0   \n",
       "\n",
       "       Course_Domain_Software Marketing  Course_Type_Degree  \\\n",
       "0                                     0                   0   \n",
       "1                                     0                   0   \n",
       "2                                     0                   0   \n",
       "3                                     0                   0   \n",
       "4                                     0                   0   \n",
       "...                                 ...                 ...   \n",
       "35995                                 1                   0   \n",
       "35996                                 1                   0   \n",
       "35997                                 1                   0   \n",
       "35998                                 1                   0   \n",
       "35999                                 1                   0   \n",
       "\n",
       "       Course_Type_Program  \n",
       "0                        0  \n",
       "1                        0  \n",
       "2                        0  \n",
       "3                        0  \n",
       "4                        0  \n",
       "...                    ...  \n",
       "35995                    1  \n",
       "35996                    1  \n",
       "35997                    1  \n",
       "35998                    1  \n",
       "35999                    1  \n",
       "\n",
       "[36000 rows x 14 columns]"
      ]
     },
     "execution_count": 149,
     "metadata": {},
     "output_type": "execute_result"
    }
   ],
   "source": [
    "test"
   ]
  },
  {
   "cell_type": "code",
   "execution_count": 150,
   "metadata": {},
   "outputs": [
    {
     "name": "stderr",
     "output_type": "stream",
     "text": [
      "C:\\Users\\Dell\\Anaconda3\\lib\\site-packages\\pandas\\core\\generic.py:5208: SettingWithCopyWarning: \n",
      "A value is trying to be set on a copy of a slice from a DataFrame.\n",
      "Try using .loc[row_indexer,col_indexer] = value instead\n",
      "\n",
      "See the caveats in the documentation: http://pandas.pydata.org/pandas-docs/stable/user_guide/indexing.html#returning-a-view-versus-a-copy\n",
      "  self[name] = value\n"
     ]
    }
   ],
   "source": [
    "test.Sales=-72.73192656298085+(0.008589*test.Day_No)+(19.881259*test.Short_Promotion)+(-9.432220*test.Public_Holiday)+(6.901316*test.Long_Promotion)+(0.006692*test.User_Traffic)+(test.Competition_Metric*43.0891)+(test['Course_Domain_Finance & Accounting']*63.21647908)+(test.Course_Domain_Development*65.230779)+(test['Course_Domain_Finance & Accounting']*63.216479)+(test['Course_Domain_Software Marketing']*85.824394)+(test.Course_Type_Degree*(-141.810057))+(test.Course_Type_Program*5.284472)"
   ]
  },
  {
   "cell_type": "code",
   "execution_count": 151,
   "metadata": {},
   "outputs": [
    {
     "data": {
      "text/html": [
       "<div>\n",
       "<style scoped>\n",
       "    .dataframe tbody tr th:only-of-type {\n",
       "        vertical-align: middle;\n",
       "    }\n",
       "\n",
       "    .dataframe tbody tr th {\n",
       "        vertical-align: top;\n",
       "    }\n",
       "\n",
       "    .dataframe thead th {\n",
       "        text-align: right;\n",
       "    }\n",
       "</style>\n",
       "<table border=\"1\" class=\"dataframe\">\n",
       "  <thead>\n",
       "    <tr style=\"text-align: right;\">\n",
       "      <th></th>\n",
       "      <th>ID</th>\n",
       "      <th>Day_No</th>\n",
       "      <th>Course_ID</th>\n",
       "      <th>Short_Promotion</th>\n",
       "      <th>Public_Holiday</th>\n",
       "      <th>Long_Promotion</th>\n",
       "      <th>User_Traffic</th>\n",
       "      <th>Competition_Metric</th>\n",
       "      <th>Sales</th>\n",
       "      <th>Course_Domain_Development</th>\n",
       "      <th>Course_Domain_Finance &amp; Accounting</th>\n",
       "      <th>Course_Domain_Software Marketing</th>\n",
       "      <th>Course_Type_Degree</th>\n",
       "      <th>Course_Type_Program</th>\n",
       "    </tr>\n",
       "  </thead>\n",
       "  <tbody>\n",
       "    <tr>\n",
       "      <td>0</td>\n",
       "      <td>883</td>\n",
       "      <td>883</td>\n",
       "      <td>1</td>\n",
       "      <td>1</td>\n",
       "      <td>0</td>\n",
       "      <td>1</td>\n",
       "      <td>13671.0</td>\n",
       "      <td>0.007</td>\n",
       "      <td>118.653470</td>\n",
       "      <td>1</td>\n",
       "      <td>0</td>\n",
       "      <td>0</td>\n",
       "      <td>0</td>\n",
       "      <td>0</td>\n",
       "    </tr>\n",
       "    <tr>\n",
       "      <td>1</td>\n",
       "      <td>884</td>\n",
       "      <td>884</td>\n",
       "      <td>1</td>\n",
       "      <td>1</td>\n",
       "      <td>0</td>\n",
       "      <td>1</td>\n",
       "      <td>13671.0</td>\n",
       "      <td>0.007</td>\n",
       "      <td>118.662059</td>\n",
       "      <td>1</td>\n",
       "      <td>0</td>\n",
       "      <td>0</td>\n",
       "      <td>0</td>\n",
       "      <td>0</td>\n",
       "    </tr>\n",
       "    <tr>\n",
       "      <td>2</td>\n",
       "      <td>885</td>\n",
       "      <td>885</td>\n",
       "      <td>1</td>\n",
       "      <td>1</td>\n",
       "      <td>0</td>\n",
       "      <td>1</td>\n",
       "      <td>13671.0</td>\n",
       "      <td>0.007</td>\n",
       "      <td>118.670648</td>\n",
       "      <td>1</td>\n",
       "      <td>0</td>\n",
       "      <td>0</td>\n",
       "      <td>0</td>\n",
       "      <td>0</td>\n",
       "    </tr>\n",
       "    <tr>\n",
       "      <td>3</td>\n",
       "      <td>886</td>\n",
       "      <td>886</td>\n",
       "      <td>1</td>\n",
       "      <td>1</td>\n",
       "      <td>0</td>\n",
       "      <td>1</td>\n",
       "      <td>13671.0</td>\n",
       "      <td>0.007</td>\n",
       "      <td>118.679237</td>\n",
       "      <td>1</td>\n",
       "      <td>0</td>\n",
       "      <td>0</td>\n",
       "      <td>0</td>\n",
       "      <td>0</td>\n",
       "    </tr>\n",
       "    <tr>\n",
       "      <td>4</td>\n",
       "      <td>887</td>\n",
       "      <td>887</td>\n",
       "      <td>1</td>\n",
       "      <td>0</td>\n",
       "      <td>0</td>\n",
       "      <td>1</td>\n",
       "      <td>13671.0</td>\n",
       "      <td>0.007</td>\n",
       "      <td>98.806567</td>\n",
       "      <td>1</td>\n",
       "      <td>0</td>\n",
       "      <td>0</td>\n",
       "      <td>0</td>\n",
       "      <td>0</td>\n",
       "    </tr>\n",
       "    <tr>\n",
       "      <td>...</td>\n",
       "      <td>...</td>\n",
       "      <td>...</td>\n",
       "      <td>...</td>\n",
       "      <td>...</td>\n",
       "      <td>...</td>\n",
       "      <td>...</td>\n",
       "      <td>...</td>\n",
       "      <td>...</td>\n",
       "      <td>...</td>\n",
       "      <td>...</td>\n",
       "      <td>...</td>\n",
       "      <td>...</td>\n",
       "      <td>...</td>\n",
       "      <td>...</td>\n",
       "    </tr>\n",
       "    <tr>\n",
       "      <td>35995</td>\n",
       "      <td>548083</td>\n",
       "      <td>938</td>\n",
       "      <td>600</td>\n",
       "      <td>1</td>\n",
       "      <td>0</td>\n",
       "      <td>1</td>\n",
       "      <td>10857.0</td>\n",
       "      <td>0.070</td>\n",
       "      <td>128.887277</td>\n",
       "      <td>0</td>\n",
       "      <td>0</td>\n",
       "      <td>1</td>\n",
       "      <td>0</td>\n",
       "      <td>1</td>\n",
       "    </tr>\n",
       "    <tr>\n",
       "      <td>35996</td>\n",
       "      <td>548084</td>\n",
       "      <td>939</td>\n",
       "      <td>600</td>\n",
       "      <td>1</td>\n",
       "      <td>0</td>\n",
       "      <td>1</td>\n",
       "      <td>10857.0</td>\n",
       "      <td>0.070</td>\n",
       "      <td>128.895866</td>\n",
       "      <td>0</td>\n",
       "      <td>0</td>\n",
       "      <td>1</td>\n",
       "      <td>0</td>\n",
       "      <td>1</td>\n",
       "    </tr>\n",
       "    <tr>\n",
       "      <td>35997</td>\n",
       "      <td>548085</td>\n",
       "      <td>940</td>\n",
       "      <td>600</td>\n",
       "      <td>1</td>\n",
       "      <td>0</td>\n",
       "      <td>1</td>\n",
       "      <td>10857.0</td>\n",
       "      <td>0.070</td>\n",
       "      <td>128.904455</td>\n",
       "      <td>0</td>\n",
       "      <td>0</td>\n",
       "      <td>1</td>\n",
       "      <td>0</td>\n",
       "      <td>1</td>\n",
       "    </tr>\n",
       "    <tr>\n",
       "      <td>35998</td>\n",
       "      <td>548086</td>\n",
       "      <td>941</td>\n",
       "      <td>600</td>\n",
       "      <td>1</td>\n",
       "      <td>0</td>\n",
       "      <td>1</td>\n",
       "      <td>10857.0</td>\n",
       "      <td>0.070</td>\n",
       "      <td>128.913044</td>\n",
       "      <td>0</td>\n",
       "      <td>0</td>\n",
       "      <td>1</td>\n",
       "      <td>0</td>\n",
       "      <td>1</td>\n",
       "    </tr>\n",
       "    <tr>\n",
       "      <td>35999</td>\n",
       "      <td>548087</td>\n",
       "      <td>942</td>\n",
       "      <td>600</td>\n",
       "      <td>1</td>\n",
       "      <td>0</td>\n",
       "      <td>1</td>\n",
       "      <td>10857.0</td>\n",
       "      <td>0.070</td>\n",
       "      <td>128.921633</td>\n",
       "      <td>0</td>\n",
       "      <td>0</td>\n",
       "      <td>1</td>\n",
       "      <td>0</td>\n",
       "      <td>1</td>\n",
       "    </tr>\n",
       "  </tbody>\n",
       "</table>\n",
       "<p>36000 rows × 14 columns</p>\n",
       "</div>"
      ],
      "text/plain": [
       "           ID  Day_No  Course_ID  Short_Promotion  Public_Holiday  \\\n",
       "0         883     883          1                1               0   \n",
       "1         884     884          1                1               0   \n",
       "2         885     885          1                1               0   \n",
       "3         886     886          1                1               0   \n",
       "4         887     887          1                0               0   \n",
       "...       ...     ...        ...              ...             ...   \n",
       "35995  548083     938        600                1               0   \n",
       "35996  548084     939        600                1               0   \n",
       "35997  548085     940        600                1               0   \n",
       "35998  548086     941        600                1               0   \n",
       "35999  548087     942        600                1               0   \n",
       "\n",
       "       Long_Promotion  User_Traffic  Competition_Metric       Sales  \\\n",
       "0                   1       13671.0               0.007  118.653470   \n",
       "1                   1       13671.0               0.007  118.662059   \n",
       "2                   1       13671.0               0.007  118.670648   \n",
       "3                   1       13671.0               0.007  118.679237   \n",
       "4                   1       13671.0               0.007   98.806567   \n",
       "...               ...           ...                 ...         ...   \n",
       "35995               1       10857.0               0.070  128.887277   \n",
       "35996               1       10857.0               0.070  128.895866   \n",
       "35997               1       10857.0               0.070  128.904455   \n",
       "35998               1       10857.0               0.070  128.913044   \n",
       "35999               1       10857.0               0.070  128.921633   \n",
       "\n",
       "       Course_Domain_Development  Course_Domain_Finance & Accounting  \\\n",
       "0                              1                                   0   \n",
       "1                              1                                   0   \n",
       "2                              1                                   0   \n",
       "3                              1                                   0   \n",
       "4                              1                                   0   \n",
       "...                          ...                                 ...   \n",
       "35995                          0                                   0   \n",
       "35996                          0                                   0   \n",
       "35997                          0                                   0   \n",
       "35998                          0                                   0   \n",
       "35999                          0                                   0   \n",
       "\n",
       "       Course_Domain_Software Marketing  Course_Type_Degree  \\\n",
       "0                                     0                   0   \n",
       "1                                     0                   0   \n",
       "2                                     0                   0   \n",
       "3                                     0                   0   \n",
       "4                                     0                   0   \n",
       "...                                 ...                 ...   \n",
       "35995                                 1                   0   \n",
       "35996                                 1                   0   \n",
       "35997                                 1                   0   \n",
       "35998                                 1                   0   \n",
       "35999                                 1                   0   \n",
       "\n",
       "       Course_Type_Program  \n",
       "0                        0  \n",
       "1                        0  \n",
       "2                        0  \n",
       "3                        0  \n",
       "4                        0  \n",
       "...                    ...  \n",
       "35995                    1  \n",
       "35996                    1  \n",
       "35997                    1  \n",
       "35998                    1  \n",
       "35999                    1  \n",
       "\n",
       "[36000 rows x 14 columns]"
      ]
     },
     "execution_count": 151,
     "metadata": {},
     "output_type": "execute_result"
    }
   ],
   "source": [
    "test"
   ]
  },
  {
   "cell_type": "code",
   "execution_count": 157,
   "metadata": {},
   "outputs": [],
   "source": [
    "#Saving the data to an csv file\n",
    "test.to_csv(r'C:\\Users\\Dell\\Desktop\\Python Course\\Hackathon\\Sales_Submission.csv', index=False) "
   ]
  },
  {
   "cell_type": "code",
   "execution_count": null,
   "metadata": {},
   "outputs": [],
   "source": []
  }
 ],
 "metadata": {
  "kernelspec": {
   "display_name": "Python 3",
   "language": "python",
   "name": "python3"
  },
  "language_info": {
   "codemirror_mode": {
    "name": "ipython",
    "version": 3
   },
   "file_extension": ".py",
   "mimetype": "text/x-python",
   "name": "python",
   "nbconvert_exporter": "python",
   "pygments_lexer": "ipython3",
   "version": "3.7.4"
  }
 },
 "nbformat": 4,
 "nbformat_minor": 2
}
