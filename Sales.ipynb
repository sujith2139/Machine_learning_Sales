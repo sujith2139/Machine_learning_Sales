{
 "cells": [
  {
   "cell_type": "code",
   "execution_count": 1,
   "metadata": {},
   "outputs": [],
   "source": [
    "import numpy as np\n",
    "import pandas as pd\n",
    "import seaborn as sns\n",
    "import matplotlib.pyplot as plt\n",
    "%matplotlib inline\n",
    "## Display all the columns of the dataframe\n",
    "pd.pandas.set_option('display.max_columns',None)"
   ]
  },
  {
   "cell_type": "markdown",
   "metadata": {},
   "source": [
    "### Reading a data"
   ]
  },
  {
   "cell_type": "code",
   "execution_count": 2,
   "metadata": {},
   "outputs": [],
   "source": [
    "df=pd.read_csv(\"train.csv\")"
   ]
  },
  {
   "cell_type": "code",
   "execution_count": 3,
   "metadata": {},
   "outputs": [
    {
     "data": {
      "text/html": [
       "<div>\n",
       "<style scoped>\n",
       "    .dataframe tbody tr th:only-of-type {\n",
       "        vertical-align: middle;\n",
       "    }\n",
       "\n",
       "    .dataframe tbody tr th {\n",
       "        vertical-align: top;\n",
       "    }\n",
       "\n",
       "    .dataframe thead th {\n",
       "        text-align: right;\n",
       "    }\n",
       "</style>\n",
       "<table border=\"1\" class=\"dataframe\">\n",
       "  <thead>\n",
       "    <tr style=\"text-align: right;\">\n",
       "      <th></th>\n",
       "      <th>ID</th>\n",
       "      <th>Day_No</th>\n",
       "      <th>Course_ID</th>\n",
       "      <th>Course_Domain</th>\n",
       "      <th>Course_Type</th>\n",
       "      <th>Short_Promotion</th>\n",
       "      <th>Public_Holiday</th>\n",
       "      <th>Long_Promotion</th>\n",
       "      <th>User_Traffic</th>\n",
       "      <th>Competition_Metric</th>\n",
       "      <th>Sales</th>\n",
       "    </tr>\n",
       "  </thead>\n",
       "  <tbody>\n",
       "    <tr>\n",
       "      <td>0</td>\n",
       "      <td>1</td>\n",
       "      <td>1</td>\n",
       "      <td>1</td>\n",
       "      <td>Development</td>\n",
       "      <td>Course</td>\n",
       "      <td>0</td>\n",
       "      <td>1</td>\n",
       "      <td>1</td>\n",
       "      <td>11004</td>\n",
       "      <td>0.007</td>\n",
       "      <td>81</td>\n",
       "    </tr>\n",
       "    <tr>\n",
       "      <td>1</td>\n",
       "      <td>2</td>\n",
       "      <td>2</td>\n",
       "      <td>1</td>\n",
       "      <td>Development</td>\n",
       "      <td>Course</td>\n",
       "      <td>0</td>\n",
       "      <td>0</td>\n",
       "      <td>1</td>\n",
       "      <td>13650</td>\n",
       "      <td>0.007</td>\n",
       "      <td>79</td>\n",
       "    </tr>\n",
       "    <tr>\n",
       "      <td>2</td>\n",
       "      <td>3</td>\n",
       "      <td>3</td>\n",
       "      <td>1</td>\n",
       "      <td>Development</td>\n",
       "      <td>Course</td>\n",
       "      <td>0</td>\n",
       "      <td>0</td>\n",
       "      <td>1</td>\n",
       "      <td>11655</td>\n",
       "      <td>0.007</td>\n",
       "      <td>75</td>\n",
       "    </tr>\n",
       "    <tr>\n",
       "      <td>3</td>\n",
       "      <td>4</td>\n",
       "      <td>4</td>\n",
       "      <td>1</td>\n",
       "      <td>Development</td>\n",
       "      <td>Course</td>\n",
       "      <td>0</td>\n",
       "      <td>0</td>\n",
       "      <td>1</td>\n",
       "      <td>12054</td>\n",
       "      <td>0.007</td>\n",
       "      <td>80</td>\n",
       "    </tr>\n",
       "    <tr>\n",
       "      <td>4</td>\n",
       "      <td>5</td>\n",
       "      <td>5</td>\n",
       "      <td>1</td>\n",
       "      <td>Development</td>\n",
       "      <td>Course</td>\n",
       "      <td>0</td>\n",
       "      <td>0</td>\n",
       "      <td>1</td>\n",
       "      <td>6804</td>\n",
       "      <td>0.007</td>\n",
       "      <td>41</td>\n",
       "    </tr>\n",
       "    <tr>\n",
       "      <td>...</td>\n",
       "      <td>...</td>\n",
       "      <td>...</td>\n",
       "      <td>...</td>\n",
       "      <td>...</td>\n",
       "      <td>...</td>\n",
       "      <td>...</td>\n",
       "      <td>...</td>\n",
       "      <td>...</td>\n",
       "      <td>...</td>\n",
       "      <td>...</td>\n",
       "      <td>...</td>\n",
       "    </tr>\n",
       "    <tr>\n",
       "      <td>512082</td>\n",
       "      <td>548023</td>\n",
       "      <td>878</td>\n",
       "      <td>600</td>\n",
       "      <td>Software Marketing</td>\n",
       "      <td>Program</td>\n",
       "      <td>0</td>\n",
       "      <td>0</td>\n",
       "      <td>1</td>\n",
       "      <td>8904</td>\n",
       "      <td>0.070</td>\n",
       "      <td>114</td>\n",
       "    </tr>\n",
       "    <tr>\n",
       "      <td>512083</td>\n",
       "      <td>548024</td>\n",
       "      <td>879</td>\n",
       "      <td>600</td>\n",
       "      <td>Software Marketing</td>\n",
       "      <td>Program</td>\n",
       "      <td>0</td>\n",
       "      <td>0</td>\n",
       "      <td>1</td>\n",
       "      <td>10542</td>\n",
       "      <td>0.070</td>\n",
       "      <td>145</td>\n",
       "    </tr>\n",
       "    <tr>\n",
       "      <td>512084</td>\n",
       "      <td>548025</td>\n",
       "      <td>880</td>\n",
       "      <td>600</td>\n",
       "      <td>Software Marketing</td>\n",
       "      <td>Program</td>\n",
       "      <td>0</td>\n",
       "      <td>0</td>\n",
       "      <td>1</td>\n",
       "      <td>13671</td>\n",
       "      <td>0.070</td>\n",
       "      <td>167</td>\n",
       "    </tr>\n",
       "    <tr>\n",
       "      <td>512085</td>\n",
       "      <td>548026</td>\n",
       "      <td>881</td>\n",
       "      <td>600</td>\n",
       "      <td>Software Marketing</td>\n",
       "      <td>Program</td>\n",
       "      <td>0</td>\n",
       "      <td>0</td>\n",
       "      <td>1</td>\n",
       "      <td>8904</td>\n",
       "      <td>0.070</td>\n",
       "      <td>107</td>\n",
       "    </tr>\n",
       "    <tr>\n",
       "      <td>512086</td>\n",
       "      <td>548027</td>\n",
       "      <td>882</td>\n",
       "      <td>600</td>\n",
       "      <td>Software Marketing</td>\n",
       "      <td>Program</td>\n",
       "      <td>1</td>\n",
       "      <td>0</td>\n",
       "      <td>1</td>\n",
       "      <td>11445</td>\n",
       "      <td>0.070</td>\n",
       "      <td>152</td>\n",
       "    </tr>\n",
       "  </tbody>\n",
       "</table>\n",
       "<p>512087 rows × 11 columns</p>\n",
       "</div>"
      ],
      "text/plain": [
       "            ID  Day_No  Course_ID       Course_Domain Course_Type  \\\n",
       "0            1       1          1         Development      Course   \n",
       "1            2       2          1         Development      Course   \n",
       "2            3       3          1         Development      Course   \n",
       "3            4       4          1         Development      Course   \n",
       "4            5       5          1         Development      Course   \n",
       "...        ...     ...        ...                 ...         ...   \n",
       "512082  548023     878        600  Software Marketing     Program   \n",
       "512083  548024     879        600  Software Marketing     Program   \n",
       "512084  548025     880        600  Software Marketing     Program   \n",
       "512085  548026     881        600  Software Marketing     Program   \n",
       "512086  548027     882        600  Software Marketing     Program   \n",
       "\n",
       "        Short_Promotion  Public_Holiday  Long_Promotion  User_Traffic  \\\n",
       "0                     0               1               1         11004   \n",
       "1                     0               0               1         13650   \n",
       "2                     0               0               1         11655   \n",
       "3                     0               0               1         12054   \n",
       "4                     0               0               1          6804   \n",
       "...                 ...             ...             ...           ...   \n",
       "512082                0               0               1          8904   \n",
       "512083                0               0               1         10542   \n",
       "512084                0               0               1         13671   \n",
       "512085                0               0               1          8904   \n",
       "512086                1               0               1         11445   \n",
       "\n",
       "        Competition_Metric  Sales  \n",
       "0                    0.007     81  \n",
       "1                    0.007     79  \n",
       "2                    0.007     75  \n",
       "3                    0.007     80  \n",
       "4                    0.007     41  \n",
       "...                    ...    ...  \n",
       "512082               0.070    114  \n",
       "512083               0.070    145  \n",
       "512084               0.070    167  \n",
       "512085               0.070    107  \n",
       "512086               0.070    152  \n",
       "\n",
       "[512087 rows x 11 columns]"
      ]
     },
     "execution_count": 3,
     "metadata": {},
     "output_type": "execute_result"
    }
   ],
   "source": [
    "df"
   ]
  },
  {
   "cell_type": "markdown",
   "metadata": {},
   "source": [
    "# Exploratory Data Analysis"
   ]
  },
  {
   "cell_type": "code",
   "execution_count": 4,
   "metadata": {},
   "outputs": [
    {
     "data": {
      "text/plain": [
       "(512087, 11)"
      ]
     },
     "execution_count": 4,
     "metadata": {},
     "output_type": "execute_result"
    }
   ],
   "source": [
    "df.shape"
   ]
  },
  {
   "cell_type": "code",
   "execution_count": 5,
   "metadata": {},
   "outputs": [
    {
     "data": {
      "text/plain": [
       "Index(['ID', 'Day_No', 'Course_ID', 'Course_Domain', 'Course_Type',\n",
       "       'Short_Promotion', 'Public_Holiday', 'Long_Promotion', 'User_Traffic',\n",
       "       'Competition_Metric', 'Sales'],\n",
       "      dtype='object')"
      ]
     },
     "execution_count": 5,
     "metadata": {},
     "output_type": "execute_result"
    }
   ],
   "source": [
    "df.columns"
   ]
  },
  {
   "cell_type": "code",
   "execution_count": 6,
   "metadata": {},
   "outputs": [
    {
     "data": {
      "text/plain": [
       "ID                      int64\n",
       "Day_No                  int64\n",
       "Course_ID               int64\n",
       "Course_Domain          object\n",
       "Course_Type            object\n",
       "Short_Promotion         int64\n",
       "Public_Holiday          int64\n",
       "Long_Promotion          int64\n",
       "User_Traffic            int64\n",
       "Competition_Metric    float64\n",
       "Sales                   int64\n",
       "dtype: object"
      ]
     },
     "execution_count": 6,
     "metadata": {},
     "output_type": "execute_result"
    }
   ],
   "source": [
    "df.dtypes"
   ]
  },
  {
   "cell_type": "markdown",
   "metadata": {},
   "source": [
    "#### Missing Values"
   ]
  },
  {
   "cell_type": "code",
   "execution_count": 7,
   "metadata": {},
   "outputs": [
    {
     "data": {
      "text/plain": [
       "ID                       0\n",
       "Day_No                   0\n",
       "Course_ID                0\n",
       "Course_Domain            0\n",
       "Course_Type              0\n",
       "Short_Promotion          0\n",
       "Public_Holiday           0\n",
       "Long_Promotion           0\n",
       "User_Traffic             0\n",
       "Competition_Metric    1764\n",
       "Sales                    0\n",
       "dtype: int64"
      ]
     },
     "execution_count": 7,
     "metadata": {},
     "output_type": "execute_result"
    }
   ],
   "source": [
    "df.isnull().sum()"
   ]
  },
  {
   "cell_type": "code",
   "execution_count": 8,
   "metadata": {},
   "outputs": [
    {
     "name": "stdout",
     "output_type": "stream",
     "text": [
      "Competition_Metric 0.0034 % missing values\n"
     ]
    }
   ],
   "source": [
    "### Finding the % of missing variables\n",
    "features_with_nan=[features for features in df.columns if df[features].isnull().sum()>1]\n",
    "for feature in features_with_nan:\n",
    "    print(feature,np.round(df[feature].isnull().mean(),4),\"% missing values\")"
   ]
  },
  {
   "cell_type": "code",
   "execution_count": 9,
   "metadata": {},
   "outputs": [
    {
     "data": {
      "image/png": "[encoded data removed]",
      "text/plain": [
       "<Figure size 432x288 with 1 Axes>"
      ]
     },
     "metadata": {
      "needs_background": "light"
     },
     "output_type": "display_data"
    }
   ],
   "source": [
    "for feature in features_with_nan:\n",
    "    data = df.copy()\n",
    "    \n",
    "    # let's make a variable that indicates 1 if the observation was missing or zero otherwise\n",
    "    data[feature] = np.where(data[feature].isnull(), 1, 0)\n",
    "    \n",
    "    # let's calculate the mean SalePrice where the information is missing or present\n",
    "    data.groupby(feature)['Sales'].median().plot(kind=\"bar\")\n",
    "    plt.title(feature)\n",
    "    plt.show()"
   ]
  },
  {
   "cell_type": "markdown",
   "metadata": {},
   "source": [
    "INFERENCE\n",
    "-  Since there is some importance of NAN values, we will replace in Feature Engineering."
   ]
  },
  {
   "cell_type": "markdown",
   "metadata": {},
   "source": [
    "#### Numerical Variables"
   ]
  },
  {
   "cell_type": "code",
   "execution_count": 10,
   "metadata": {},
   "outputs": [
    {
     "name": "stdout",
     "output_type": "stream",
     "text": [
      "['ID', 'Day_No', 'Course_ID', 'Short_Promotion', 'Public_Holiday', 'Long_Promotion', 'User_Traffic', 'Competition_Metric', 'Sales']\n",
      "\n",
      "Total Number of Numerical Features is: 9\n",
      "\n"
     ]
    },
    {
     "data": {
      "text/html": [
       "<div>\n",
       "<style scoped>\n",
       "    .dataframe tbody tr th:only-of-type {\n",
       "        vertical-align: middle;\n",
       "    }\n",
       "\n",
       "    .dataframe tbody tr th {\n",
       "        vertical-align: top;\n",
       "    }\n",
       "\n",
       "    .dataframe thead th {\n",
       "        text-align: right;\n",
       "    }\n",
       "</style>\n",
       "<table border=\"1\" class=\"dataframe\">\n",
       "  <thead>\n",
       "    <tr style=\"text-align: right;\">\n",
       "      <th></th>\n",
       "      <th>ID</th>\n",
       "      <th>Day_No</th>\n",
       "      <th>Course_ID</th>\n",
       "      <th>Short_Promotion</th>\n",
       "      <th>Public_Holiday</th>\n",
       "      <th>Long_Promotion</th>\n",
       "      <th>User_Traffic</th>\n",
       "      <th>Competition_Metric</th>\n",
       "      <th>Sales</th>\n",
       "    </tr>\n",
       "  </thead>\n",
       "  <tbody>\n",
       "    <tr>\n",
       "      <td>0</td>\n",
       "      <td>1</td>\n",
       "      <td>1</td>\n",
       "      <td>1</td>\n",
       "      <td>0</td>\n",
       "      <td>1</td>\n",
       "      <td>1</td>\n",
       "      <td>11004</td>\n",
       "      <td>0.007</td>\n",
       "      <td>81</td>\n",
       "    </tr>\n",
       "    <tr>\n",
       "      <td>1</td>\n",
       "      <td>2</td>\n",
       "      <td>2</td>\n",
       "      <td>1</td>\n",
       "      <td>0</td>\n",
       "      <td>0</td>\n",
       "      <td>1</td>\n",
       "      <td>13650</td>\n",
       "      <td>0.007</td>\n",
       "      <td>79</td>\n",
       "    </tr>\n",
       "    <tr>\n",
       "      <td>2</td>\n",
       "      <td>3</td>\n",
       "      <td>3</td>\n",
       "      <td>1</td>\n",
       "      <td>0</td>\n",
       "      <td>0</td>\n",
       "      <td>1</td>\n",
       "      <td>11655</td>\n",
       "      <td>0.007</td>\n",
       "      <td>75</td>\n",
       "    </tr>\n",
       "    <tr>\n",
       "      <td>3</td>\n",
       "      <td>4</td>\n",
       "      <td>4</td>\n",
       "      <td>1</td>\n",
       "      <td>0</td>\n",
       "      <td>0</td>\n",
       "      <td>1</td>\n",
       "      <td>12054</td>\n",
       "      <td>0.007</td>\n",
       "      <td>80</td>\n",
       "    </tr>\n",
       "    <tr>\n",
       "      <td>4</td>\n",
       "      <td>5</td>\n",
       "      <td>5</td>\n",
       "      <td>1</td>\n",
       "      <td>0</td>\n",
       "      <td>0</td>\n",
       "      <td>1</td>\n",
       "      <td>6804</td>\n",
       "      <td>0.007</td>\n",
       "      <td>41</td>\n",
       "    </tr>\n",
       "  </tbody>\n",
       "</table>\n",
       "</div>"
      ],
      "text/plain": [
       "   ID  Day_No  Course_ID  Short_Promotion  Public_Holiday  Long_Promotion  \\\n",
       "0   1       1          1                0               1               1   \n",
       "1   2       2          1                0               0               1   \n",
       "2   3       3          1                0               0               1   \n",
       "3   4       4          1                0               0               1   \n",
       "4   5       5          1                0               0               1   \n",
       "\n",
       "   User_Traffic  Competition_Metric  Sales  \n",
       "0         11004               0.007     81  \n",
       "1         13650               0.007     79  \n",
       "2         11655               0.007     75  \n",
       "3         12054               0.007     80  \n",
       "4          6804               0.007     41  "
      ]
     },
     "execution_count": 10,
     "metadata": {},
     "output_type": "execute_result"
    }
   ],
   "source": [
    "numerical_features=[feature for feature in df.columns if df[feature].dtypes!=\"O\"]\n",
    "print(numerical_features)\n",
    "print()\n",
    "print(\"Total Number of Numerical Features is:\",len(numerical_features))\n",
    "print()\n",
    "df[numerical_features].head()"
   ]
  },
  {
   "cell_type": "markdown",
   "metadata": {},
   "source": [
    "Numerical Variables divided into two types\n",
    "- Discrete Variables\n",
    "- Continous Variables"
   ]
  },
  {
   "cell_type": "markdown",
   "metadata": {},
   "source": [
    "#### Discrete Variables"
   ]
  },
  {
   "cell_type": "code",
   "execution_count": 11,
   "metadata": {},
   "outputs": [
    {
     "name": "stdout",
     "output_type": "stream",
     "text": [
      "['Short_Promotion', 'Public_Holiday', 'Long_Promotion']\n",
      "\n",
      "Total Number of Discrete Features is: 3\n",
      "\n"
     ]
    },
    {
     "data": {
      "text/html": [
       "<div>\n",
       "<style scoped>\n",
       "    .dataframe tbody tr th:only-of-type {\n",
       "        vertical-align: middle;\n",
       "    }\n",
       "\n",
       "    .dataframe tbody tr th {\n",
       "        vertical-align: top;\n",
       "    }\n",
       "\n",
       "    .dataframe thead th {\n",
       "        text-align: right;\n",
       "    }\n",
       "</style>\n",
       "<table border=\"1\" class=\"dataframe\">\n",
       "  <thead>\n",
       "    <tr style=\"text-align: right;\">\n",
       "      <th></th>\n",
       "      <th>Short_Promotion</th>\n",
       "      <th>Public_Holiday</th>\n",
       "      <th>Long_Promotion</th>\n",
       "    </tr>\n",
       "  </thead>\n",
       "  <tbody>\n",
       "    <tr>\n",
       "      <td>0</td>\n",
       "      <td>0</td>\n",
       "      <td>1</td>\n",
       "      <td>1</td>\n",
       "    </tr>\n",
       "    <tr>\n",
       "      <td>1</td>\n",
       "      <td>0</td>\n",
       "      <td>0</td>\n",
       "      <td>1</td>\n",
       "    </tr>\n",
       "    <tr>\n",
       "      <td>2</td>\n",
       "      <td>0</td>\n",
       "      <td>0</td>\n",
       "      <td>1</td>\n",
       "    </tr>\n",
       "    <tr>\n",
       "      <td>3</td>\n",
       "      <td>0</td>\n",
       "      <td>0</td>\n",
       "      <td>1</td>\n",
       "    </tr>\n",
       "    <tr>\n",
       "      <td>4</td>\n",
       "      <td>0</td>\n",
       "      <td>0</td>\n",
       "      <td>1</td>\n",
       "    </tr>\n",
       "  </tbody>\n",
       "</table>\n",
       "</div>"
      ],
      "text/plain": [
       "   Short_Promotion  Public_Holiday  Long_Promotion\n",
       "0                0               1               1\n",
       "1                0               0               1\n",
       "2                0               0               1\n",
       "3                0               0               1\n",
       "4                0               0               1"
      ]
     },
     "execution_count": 11,
     "metadata": {},
     "output_type": "execute_result"
    }
   ],
   "source": [
    "discrete_features=[feature for feature in numerical_features if len(df[feature].unique())<25]\n",
    "print(discrete_features)\n",
    "print()\n",
    "print(\"Total Number of Discrete Features is:\",len(discrete_features))\n",
    "print()\n",
    "df[discrete_features].head()"
   ]
  },
  {
   "cell_type": "code",
   "execution_count": 12,
   "metadata": {},
   "outputs": [
    {
     "data": {
      "image/png": "[encoded data removed]",
      "text/plain": [
       "<Figure size 432x288 with 1 Axes>"
      ]
     },
     "metadata": {
      "needs_background": "light"
     },
     "output_type": "display_data"
    },
    {
     "data": {
      "image/png": "[encoded data removed]",
      "text/plain": [
       "<Figure size 432x288 with 1 Axes>"
      ]
     },
     "metadata": {
      "needs_background": "light"
     },
     "output_type": "display_data"
    },
    {
     "data": {
      "image/png": "[encoded data removed]",
      "text/plain": [
       "<Figure size 432x288 with 1 Axes>"
      ]
     },
     "metadata": {
      "needs_background": "light"
     },
     "output_type": "display_data"
    }
   ],
   "source": [
    "## Lets Find the realtionship between them and Sale PRice\n",
    "\n",
    "for feature in discrete_features:\n",
    "    data=df.copy()\n",
    "    data.groupby(feature)[\"Sales\"].median().plot.bar()\n",
    "    plt.xlabel(feature)\n",
    "    plt.ylabel(\"Sales\")\n",
    "    plt.title(feature)\n",
    "    plt.show()"
   ]
  },
  {
   "cell_type": "markdown",
   "metadata": {},
   "source": [
    "INFERENCE\n",
    "1. When short_promotion is true then there is high in sales.\n",
    "2. when public_holiday is true then there is low in sales.\n",
    "3. When long_promotion is true then there is some low in sales.\n",
    "\n",
    " - Short_promotion is more efficient than Long_promotion."
   ]
  },
  {
   "cell_type": "markdown",
   "metadata": {},
   "source": [
    "#### Continous Variables"
   ]
  },
  {
   "cell_type": "code",
   "execution_count": 13,
   "metadata": {},
   "outputs": [
    {
     "name": "stdout",
     "output_type": "stream",
     "text": [
      "['Course_ID', 'User_Traffic', 'Competition_Metric', 'Sales']\n",
      "\n",
      "Total number of Continous Variables is: 4\n",
      "\n"
     ]
    },
    {
     "data": {
      "text/html": [
       "<div>\n",
       "<style scoped>\n",
       "    .dataframe tbody tr th:only-of-type {\n",
       "        vertical-align: middle;\n",
       "    }\n",
       "\n",
       "    .dataframe tbody tr th {\n",
       "        vertical-align: top;\n",
       "    }\n",
       "\n",
       "    .dataframe thead th {\n",
       "        text-align: right;\n",
       "    }\n",
       "</style>\n",
       "<table border=\"1\" class=\"dataframe\">\n",
       "  <thead>\n",
       "    <tr style=\"text-align: right;\">\n",
       "      <th></th>\n",
       "      <th>Course_ID</th>\n",
       "      <th>User_Traffic</th>\n",
       "      <th>Competition_Metric</th>\n",
       "      <th>Sales</th>\n",
       "    </tr>\n",
       "  </thead>\n",
       "  <tbody>\n",
       "    <tr>\n",
       "      <td>0</td>\n",
       "      <td>1</td>\n",
       "      <td>11004</td>\n",
       "      <td>0.007</td>\n",
       "      <td>81</td>\n",
       "    </tr>\n",
       "    <tr>\n",
       "      <td>1</td>\n",
       "      <td>1</td>\n",
       "      <td>13650</td>\n",
       "      <td>0.007</td>\n",
       "      <td>79</td>\n",
       "    </tr>\n",
       "    <tr>\n",
       "      <td>2</td>\n",
       "      <td>1</td>\n",
       "      <td>11655</td>\n",
       "      <td>0.007</td>\n",
       "      <td>75</td>\n",
       "    </tr>\n",
       "    <tr>\n",
       "      <td>3</td>\n",
       "      <td>1</td>\n",
       "      <td>12054</td>\n",
       "      <td>0.007</td>\n",
       "      <td>80</td>\n",
       "    </tr>\n",
       "    <tr>\n",
       "      <td>4</td>\n",
       "      <td>1</td>\n",
       "      <td>6804</td>\n",
       "      <td>0.007</td>\n",
       "      <td>41</td>\n",
       "    </tr>\n",
       "  </tbody>\n",
       "</table>\n",
       "</div>"
      ],
      "text/plain": [
       "   Course_ID  User_Traffic  Competition_Metric  Sales\n",
       "0          1         11004               0.007     81\n",
       "1          1         13650               0.007     79\n",
       "2          1         11655               0.007     75\n",
       "3          1         12054               0.007     80\n",
       "4          1          6804               0.007     41"
      ]
     },
     "execution_count": 13,
     "metadata": {},
     "output_type": "execute_result"
    }
   ],
   "source": [
    "continous_features=[feature for feature in numerical_features if feature not in discrete_features + [\"ID\",\"Day_No\"]  ]\n",
    "print(continous_features)\n",
    "print()\n",
    "print(\"Total number of Continous Variables is:\",len(continous_features))\n",
    "print()\n",
    "df[continous_features].head()"
   ]
  },
  {
   "cell_type": "markdown",
   "metadata": {},
   "source": [
    "INFERENCE\n",
    "- Since ID and Day_No is not so much important we can drop."
   ]
  },
  {
   "cell_type": "code",
   "execution_count": 14,
   "metadata": {},
   "outputs": [
    {
     "data": {
      "image/png": "[encoded data removed]",
      "text/plain": [
       "<Figure size 432x288 with 1 Axes>"
      ]
     },
     "metadata": {
      "needs_background": "light"
     },
     "output_type": "display_data"
    },
    {
     "data": {
      "image/png": "[encoded data removed]",
      "text/plain": [
       "<Figure size 432x288 with 1 Axes>"
      ]
     },
     "metadata": {
      "needs_background": "light"
     },
     "output_type": "display_data"
    },
    {
     "data": {
      "image/png": "[encoded data removed]",
      "text/plain": [
       "<Figure size 432x288 with 1 Axes>"
      ]
     },
     "metadata": {
      "needs_background": "light"
     },
     "output_type": "display_data"
    },
    {
     "data": {
      "image/png": "[encoded data removed]",
      "text/plain": [
       "<Figure size 432x288 with 1 Axes>"
      ]
     },
     "metadata": {
      "needs_background": "light"
     },
     "output_type": "display_data"
    }
   ],
   "source": [
    "## Lets analyse the continuous values by creating histograms to understand the distribution\n",
    "\n",
    "for feature in continous_features:\n",
    "    data=df.copy()\n",
    "    data[feature].hist(bins=25)\n",
    "    plt.xlabel(feature)\n",
    "    plt.ylabel(\"Count\")\n",
    "    plt.title(feature)\n",
    "    plt.show()"
   ]
  },
  {
   "cell_type": "markdown",
   "metadata": {},
   "source": [
    "INFERENCE\n",
    "- Different types of distributions, if it is skewed we will do log transform."
   ]
  },
  {
   "cell_type": "code",
   "execution_count": 15,
   "metadata": {},
   "outputs": [
    {
     "name": "stderr",
     "output_type": "stream",
     "text": [
      "C:\\Users\\Kasturi\\AppData\\Local\\Continuum\\anaconda3\\lib\\site-packages\\pandas\\core\\series.py:853: RuntimeWarning: divide by zero encountered in log\n",
      "  result = getattr(ufunc, method)(*inputs, **kwargs)\n"
     ]
    },
    {
     "data": {
      "image/png": "[encoded data removed]",
      "text/plain": [
       "<Figure size 432x288 with 1 Axes>"
      ]
     },
     "metadata": {
      "needs_background": "light"
     },
     "output_type": "display_data"
    },
    {
     "data": {
      "image/png": "[encoded data removed]",
      "text/plain": [
       "<Figure size 432x288 with 1 Axes>"
      ]
     },
     "metadata": {
      "needs_background": "light"
     },
     "output_type": "display_data"
    }
   ],
   "source": [
    "## We will be using logarithmic transformation\n",
    "\n",
    "\n",
    "\n",
    "for feature in continous_features:\n",
    "    data=df.copy()\n",
    "    if 0 in data[feature].unique():\n",
    "        pass\n",
    "    else:\n",
    "        data[feature]=np.log(data[feature])\n",
    "        data[\"Sales\"]=np.log(data[\"Sales\"])\n",
    "        plt.scatter(data[feature],data[\"Sales\"])\n",
    "        plt.xlabel(feature)\n",
    "        plt.ylabel(\"Sales\")\n",
    "        plt.title(feature)\n",
    "        plt.show()"
   ]
  },
  {
   "cell_type": "code",
   "execution_count": 16,
   "metadata": {},
   "outputs": [
    {
     "data": {
      "image/png": "[encoded data removed]",
      "text/plain": [
       "<Figure size 432x288 with 1 Axes>"
      ]
     },
     "metadata": {
      "needs_background": "light"
     },
     "output_type": "display_data"
    },
    {
     "data": {
      "image/png": "[encoded data removed]",
      "text/plain": [
       "<Figure size 432x288 with 1 Axes>"
      ]
     },
     "metadata": {
      "needs_background": "light"
     },
     "output_type": "display_data"
    },
    {
     "data": {
      "image/png": "[encoded data removed]",
      "text/plain": [
       "<Figure size 432x288 with 1 Axes>"
      ]
     },
     "metadata": {
      "needs_background": "light"
     },
     "output_type": "display_data"
    },
    {
     "data": {
      "image/png": "[encoded data removed]",
      "text/plain": [
       "<Figure size 432x288 with 1 Axes>"
      ]
     },
     "metadata": {
      "needs_background": "light"
     },
     "output_type": "display_data"
    }
   ],
   "source": [
    "for feature in continous_features:\n",
    "    data=df.copy()\n",
    "    data[\"Sales\"]=np.log(data[\"Sales\"])\n",
    "    plt.scatter(data[feature],data[\"Sales\"])\n",
    "    plt.xlabel(feature)\n",
    "    plt.ylabel(\"Sales\")\n",
    "    plt.title(feature)\n",
    "    plt.show()"
   ]
  },
  {
   "cell_type": "markdown",
   "metadata": {},
   "source": [
    "#### Categorical Variables"
   ]
  },
  {
   "cell_type": "code",
   "execution_count": 17,
   "metadata": {},
   "outputs": [
    {
     "name": "stdout",
     "output_type": "stream",
     "text": [
      "['Course_Domain', 'Course_Type']\n",
      "\n",
      "Total number of Categorical Variables are: 2\n",
      "\n"
     ]
    },
    {
     "data": {
      "text/html": [
       "<div>\n",
       "<style scoped>\n",
       "    .dataframe tbody tr th:only-of-type {\n",
       "        vertical-align: middle;\n",
       "    }\n",
       "\n",
       "    .dataframe tbody tr th {\n",
       "        vertical-align: top;\n",
       "    }\n",
       "\n",
       "    .dataframe thead th {\n",
       "        text-align: right;\n",
       "    }\n",
       "</style>\n",
       "<table border=\"1\" class=\"dataframe\">\n",
       "  <thead>\n",
       "    <tr style=\"text-align: right;\">\n",
       "      <th></th>\n",
       "      <th>Course_Domain</th>\n",
       "      <th>Course_Type</th>\n",
       "    </tr>\n",
       "  </thead>\n",
       "  <tbody>\n",
       "    <tr>\n",
       "      <td>0</td>\n",
       "      <td>Development</td>\n",
       "      <td>Course</td>\n",
       "    </tr>\n",
       "    <tr>\n",
       "      <td>1</td>\n",
       "      <td>Development</td>\n",
       "      <td>Course</td>\n",
       "    </tr>\n",
       "    <tr>\n",
       "      <td>2</td>\n",
       "      <td>Development</td>\n",
       "      <td>Course</td>\n",
       "    </tr>\n",
       "    <tr>\n",
       "      <td>3</td>\n",
       "      <td>Development</td>\n",
       "      <td>Course</td>\n",
       "    </tr>\n",
       "    <tr>\n",
       "      <td>4</td>\n",
       "      <td>Development</td>\n",
       "      <td>Course</td>\n",
       "    </tr>\n",
       "  </tbody>\n",
       "</table>\n",
       "</div>"
      ],
      "text/plain": [
       "  Course_Domain Course_Type\n",
       "0   Development      Course\n",
       "1   Development      Course\n",
       "2   Development      Course\n",
       "3   Development      Course\n",
       "4   Development      Course"
      ]
     },
     "execution_count": 17,
     "metadata": {},
     "output_type": "execute_result"
    }
   ],
   "source": [
    "categorical_features=[feature for feature in df.columns if df[feature].dtypes==\"O\"]\n",
    "print(categorical_features)\n",
    "print()\n",
    "print(\"Total number of Categorical Variables are:\",len(categorical_features))\n",
    "print()\n",
    "df[categorical_features].head()"
   ]
  },
  {
   "cell_type": "markdown",
   "metadata": {},
   "source": [
    "#### Cardinality Values (it means How many different categories we have inside in the categorical variables)"
   ]
  },
  {
   "cell_type": "code",
   "execution_count": 18,
   "metadata": {},
   "outputs": [
    {
     "name": "stdout",
     "output_type": "stream",
     "text": [
      "The feature is Course_Domain and number of categories are 4\n",
      "The feature is Course_Type and number of categories are 3\n"
     ]
    }
   ],
   "source": [
    "for feature in categorical_features:\n",
    "    print(\"The feature is {} and number of categories are {}\".format(feature,len(df[feature].unique())))"
   ]
  },
  {
   "cell_type": "markdown",
   "metadata": {},
   "source": [
    "#### Relationship between categorical variable and dependent feature SalesPrice"
   ]
  },
  {
   "cell_type": "code",
   "execution_count": 19,
   "metadata": {},
   "outputs": [
    {
     "data": {
      "image/png": "[encoded data removed]",
      "text/plain": [
       "<Figure size 432x288 with 1 Axes>"
      ]
     },
     "metadata": {
      "needs_background": "light"
     },
     "output_type": "display_data"
    },
    {
     "data": {
      "image/png": "[encoded data removed]",
      "text/plain": [
       "<Figure size 432x288 with 1 Axes>"
      ]
     },
     "metadata": {
      "needs_background": "light"
     },
     "output_type": "display_data"
    }
   ],
   "source": [
    "for feature in categorical_features:\n",
    "    data=df.copy()\n",
    "    data.groupby(feature)[\"Sales\"].median().plot.bar()\n",
    "    plt.xlabel(feature)\n",
    "    plt.ylabel(\"Sales\")\n",
    "    plt.title(feature)\n",
    "    plt.show()"
   ]
  },
  {
   "cell_type": "markdown",
   "metadata": {},
   "source": [
    "INFERENCE\n",
    "1. In Course_Domain\n",
    " - for sales Business > Finance&Accounting > Software Marketing > Development\n",
    "2. In Course_Type\n",
    " - for sales Degree > Program > Course"
   ]
  },
  {
   "cell_type": "markdown",
   "metadata": {},
   "source": [
    "#### Outliers"
   ]
  },
  {
   "cell_type": "code",
   "execution_count": 20,
   "metadata": {},
   "outputs": [
    {
     "data": {
      "text/plain": [
       "<matplotlib.axes._subplots.AxesSubplot at 0x22cbcc7dc48>"
      ]
     },
     "execution_count": 20,
     "metadata": {},
     "output_type": "execute_result"
    },
    {
     "data": {
      "image/png": "[encoded data removed]",
      "text/plain": [
       "<Figure size 1080x720 with 1 Axes>"
      ]
     },
     "metadata": {
      "needs_background": "light"
     },
     "output_type": "display_data"
    }
   ],
   "source": [
    "plt.figure(figsize=(15,10))\n",
    "sns.boxplot(data=df)"
   ]
  },
  {
   "cell_type": "markdown",
   "metadata": {},
   "source": [
    "INFERENCE\n",
    "-  There are some outliers."
   ]
  },
  {
   "cell_type": "markdown",
   "metadata": {},
   "source": [
    "# Feature Engineering"
   ]
  },
  {
   "cell_type": "markdown",
   "metadata": {},
   "source": [
    "#### Capping for outliers"
   ]
  },
  {
   "cell_type": "code",
   "execution_count": 21,
   "metadata": {},
   "outputs": [
    {
     "data": {
      "text/html": [
       "<div>\n",
       "<style scoped>\n",
       "    .dataframe tbody tr th:only-of-type {\n",
       "        vertical-align: middle;\n",
       "    }\n",
       "\n",
       "    .dataframe tbody tr th {\n",
       "        vertical-align: top;\n",
       "    }\n",
       "\n",
       "    .dataframe thead th {\n",
       "        text-align: right;\n",
       "    }\n",
       "</style>\n",
       "<table border=\"1\" class=\"dataframe\">\n",
       "  <thead>\n",
       "    <tr style=\"text-align: right;\">\n",
       "      <th></th>\n",
       "      <th>ID</th>\n",
       "      <th>Day_No</th>\n",
       "      <th>Course_ID</th>\n",
       "      <th>Short_Promotion</th>\n",
       "      <th>Public_Holiday</th>\n",
       "      <th>Long_Promotion</th>\n",
       "      <th>User_Traffic</th>\n",
       "      <th>Competition_Metric</th>\n",
       "      <th>Sales</th>\n",
       "    </tr>\n",
       "  </thead>\n",
       "  <tbody>\n",
       "    <tr>\n",
       "      <td>count</td>\n",
       "      <td>512087.000000</td>\n",
       "      <td>512087.000000</td>\n",
       "      <td>512087.000000</td>\n",
       "      <td>512087.000000</td>\n",
       "      <td>512087.000000</td>\n",
       "      <td>512087.000000</td>\n",
       "      <td>512087.000000</td>\n",
       "      <td>510323.000000</td>\n",
       "      <td>512087.000000</td>\n",
       "    </tr>\n",
       "    <tr>\n",
       "      <td>mean</td>\n",
       "      <td>274007.300650</td>\n",
       "      <td>434.917869</td>\n",
       "      <td>300.388344</td>\n",
       "      <td>0.380244</td>\n",
       "      <td>0.031639</td>\n",
       "      <td>0.488968</td>\n",
       "      <td>15375.101198</td>\n",
       "      <td>0.073345</td>\n",
       "      <td>120.826924</td>\n",
       "    </tr>\n",
       "    <tr>\n",
       "      <td>std</td>\n",
       "      <td>158228.834029</td>\n",
       "      <td>256.044161</td>\n",
       "      <td>173.365787</td>\n",
       "      <td>0.485447</td>\n",
       "      <td>0.175038</td>\n",
       "      <td>0.499879</td>\n",
       "      <td>7727.231205</td>\n",
       "      <td>0.100115</td>\n",
       "      <td>54.355258</td>\n",
       "    </tr>\n",
       "    <tr>\n",
       "      <td>min</td>\n",
       "      <td>1.000000</td>\n",
       "      <td>1.000000</td>\n",
       "      <td>1.000000</td>\n",
       "      <td>0.000000</td>\n",
       "      <td>0.000000</td>\n",
       "      <td>0.000000</td>\n",
       "      <td>168.000000</td>\n",
       "      <td>0.000000</td>\n",
       "      <td>0.000000</td>\n",
       "    </tr>\n",
       "    <tr>\n",
       "      <td>25%</td>\n",
       "      <td>136962.500000</td>\n",
       "      <td>214.000000</td>\n",
       "      <td>150.000000</td>\n",
       "      <td>0.000000</td>\n",
       "      <td>0.000000</td>\n",
       "      <td>0.000000</td>\n",
       "      <td>10584.000000</td>\n",
       "      <td>0.010000</td>\n",
       "      <td>84.000000</td>\n",
       "    </tr>\n",
       "    <tr>\n",
       "      <td>50%</td>\n",
       "      <td>273984.000000</td>\n",
       "      <td>427.000000</td>\n",
       "      <td>300.000000</td>\n",
       "      <td>0.000000</td>\n",
       "      <td>0.000000</td>\n",
       "      <td>0.000000</td>\n",
       "      <td>13776.000000</td>\n",
       "      <td>0.035000</td>\n",
       "      <td>111.000000</td>\n",
       "    </tr>\n",
       "    <tr>\n",
       "      <td>75%</td>\n",
       "      <td>411065.500000</td>\n",
       "      <td>658.000000</td>\n",
       "      <td>451.000000</td>\n",
       "      <td>1.000000</td>\n",
       "      <td>0.000000</td>\n",
       "      <td>1.000000</td>\n",
       "      <td>18123.000000</td>\n",
       "      <td>0.094000</td>\n",
       "      <td>146.000000</td>\n",
       "    </tr>\n",
       "    <tr>\n",
       "      <td>max</td>\n",
       "      <td>548027.000000</td>\n",
       "      <td>882.000000</td>\n",
       "      <td>600.000000</td>\n",
       "      <td>1.000000</td>\n",
       "      <td>1.000000</td>\n",
       "      <td>1.000000</td>\n",
       "      <td>100002.000000</td>\n",
       "      <td>0.768000</td>\n",
       "      <td>682.000000</td>\n",
       "    </tr>\n",
       "  </tbody>\n",
       "</table>\n",
       "</div>"
      ],
      "text/plain": [
       "                  ID         Day_No      Course_ID  Short_Promotion  \\\n",
       "count  512087.000000  512087.000000  512087.000000    512087.000000   \n",
       "mean   274007.300650     434.917869     300.388344         0.380244   \n",
       "std    158228.834029     256.044161     173.365787         0.485447   \n",
       "min         1.000000       1.000000       1.000000         0.000000   \n",
       "25%    136962.500000     214.000000     150.000000         0.000000   \n",
       "50%    273984.000000     427.000000     300.000000         0.000000   \n",
       "75%    411065.500000     658.000000     451.000000         1.000000   \n",
       "max    548027.000000     882.000000     600.000000         1.000000   \n",
       "\n",
       "       Public_Holiday  Long_Promotion   User_Traffic  Competition_Metric  \\\n",
       "count   512087.000000   512087.000000  512087.000000       510323.000000   \n",
       "mean         0.031639        0.488968   15375.101198            0.073345   \n",
       "std          0.175038        0.499879    7727.231205            0.100115   \n",
       "min          0.000000        0.000000     168.000000            0.000000   \n",
       "25%          0.000000        0.000000   10584.000000            0.010000   \n",
       "50%          0.000000        0.000000   13776.000000            0.035000   \n",
       "75%          0.000000        1.000000   18123.000000            0.094000   \n",
       "max          1.000000        1.000000  100002.000000            0.768000   \n",
       "\n",
       "               Sales  \n",
       "count  512087.000000  \n",
       "mean      120.826924  \n",
       "std        54.355258  \n",
       "min         0.000000  \n",
       "25%        84.000000  \n",
       "50%       111.000000  \n",
       "75%       146.000000  \n",
       "max       682.000000  "
      ]
     },
     "execution_count": 21,
     "metadata": {},
     "output_type": "execute_result"
    }
   ],
   "source": [
    "x=pd.DataFrame(df.describe())\n",
    "x"
   ]
  },
  {
   "cell_type": "code",
   "execution_count": 22,
   "metadata": {},
   "outputs": [],
   "source": [
    "for i in df[numerical_features]:\n",
    "    q1=x.loc[\"25%\",i]\n",
    "    q3=x.loc[\"75%\",i]\n",
    "    iqr = q3-q1\n",
    "    uppl = q3+(1.5*iqr)\n",
    "    lowl = q1-(1.5*iqr)\n",
    "    uppl,lowl\n",
    "    df[i] = df[i].apply(lambda x: uppl if x>uppl else x)\n",
    "    df[i] = df[i].apply(lambda x: lowl if x<lowl else x)"
   ]
  },
  {
   "cell_type": "code",
   "execution_count": 23,
   "metadata": {},
   "outputs": [
    {
     "data": {
      "text/plain": [
       "<matplotlib.axes._subplots.AxesSubplot at 0x22cbc99e308>"
      ]
     },
     "execution_count": 23,
     "metadata": {},
     "output_type": "execute_result"
    },
    {
     "data": {
      "image/png": "[encoded data removed]",
      "text/plain": [
       "<Figure size 1080x720 with 1 Axes>"
      ]
     },
     "metadata": {
      "needs_background": "light"
     },
     "output_type": "display_data"
    }
   ],
   "source": [
    "plt.figure(figsize=(15,10))\n",
    "sns.boxplot(data=df)"
   ]
  },
  {
   "cell_type": "markdown",
   "metadata": {},
   "source": [
    "INFERENCE\n",
    "-  After capping there are no outliers."
   ]
  },
  {
   "cell_type": "markdown",
   "metadata": {},
   "source": [
    "#### Imputing Missing Variables"
   ]
  },
  {
   "cell_type": "code",
   "execution_count": 24,
   "metadata": {},
   "outputs": [
    {
     "data": {
      "text/plain": [
       "<matplotlib.axes._subplots.AxesSubplot at 0x22cc51198c8>"
      ]
     },
     "execution_count": 24,
     "metadata": {},
     "output_type": "execute_result"
    },
    {
     "data": {
      "image/png": "[encoded data removed]",
      "text/plain": [
       "<Figure size 432x288 with 1 Axes>"
      ]
     },
     "metadata": {
      "needs_background": "light"
     },
     "output_type": "display_data"
    }
   ],
   "source": [
    "sns.boxplot(x='Course_Domain',y='Competition_Metric',data=df)"
   ]
  },
  {
   "cell_type": "code",
   "execution_count": 25,
   "metadata": {},
   "outputs": [
    {
     "data": {
      "text/plain": [
       "<matplotlib.axes._subplots.AxesSubplot at 0x22cbc2b8908>"
      ]
     },
     "execution_count": 25,
     "metadata": {},
     "output_type": "execute_result"
    },
    {
     "data": {
      "image/png": "[encoded data removed]",
      "text/plain": [
       "<Figure size 432x288 with 1 Axes>"
      ]
     },
     "metadata": {
      "needs_background": "light"
     },
     "output_type": "display_data"
    }
   ],
   "source": [
    "sns.boxplot(x='Course_Type',y='Competition_Metric',data=df)"
   ]
  },
  {
   "cell_type": "markdown",
   "metadata": {},
   "source": [
    "INFERENCE\n",
    "- We will use means of course_domain with respect to competition_metric to impute the missing values in competition_metric."
   ]
  },
  {
   "cell_type": "code",
   "execution_count": 26,
   "metadata": {},
   "outputs": [
    {
     "data": {
      "text/plain": [
       "Course_Domain\n",
       "Business                0.012200\n",
       "Development             0.056681\n",
       "Finance & Accounting    0.039149\n",
       "Software Marketing      0.087668\n",
       "Name: Competition_Metric, dtype: float64"
      ]
     },
     "execution_count": 26,
     "metadata": {},
     "output_type": "execute_result"
    }
   ],
   "source": [
    "df.groupby(\"Course_Domain\")[\"Competition_Metric\"].mean()"
   ]
  },
  {
   "cell_type": "code",
   "execution_count": 27,
   "metadata": {},
   "outputs": [],
   "source": [
    "def impute_competition_metric(cols):\n",
    "    Competition_Metric=cols[0]\n",
    "    Course_Domain=cols[1]\n",
    "    if pd.isnull(Competition_Metric):\n",
    "        if Course_Domain==\"Business\":\n",
    "            return 0.012200\n",
    "        elif Course_Domain==\"Development\":\n",
    "            return 0.056681\n",
    "        elif Course_Domain==\"Finance & Accounting\":\n",
    "            return 0.039149\n",
    "        else:\n",
    "            return 0.087668\n",
    "    else:\n",
    "        return Competition_Metric"
   ]
  },
  {
   "cell_type": "code",
   "execution_count": 28,
   "metadata": {},
   "outputs": [],
   "source": [
    "### Now applying the function in data\n",
    "\n",
    "df[\"Competition_Metric\"]=df[[\"Competition_Metric\",\"Course_Domain\"]].apply(impute_competition_metric,axis=1)"
   ]
  },
  {
   "cell_type": "code",
   "execution_count": 29,
   "metadata": {},
   "outputs": [
    {
     "data": {
      "text/plain": [
       "ID                    0\n",
       "Day_No                0\n",
       "Course_ID             0\n",
       "Course_Domain         0\n",
       "Course_Type           0\n",
       "Short_Promotion       0\n",
       "Public_Holiday        0\n",
       "Long_Promotion        0\n",
       "User_Traffic          0\n",
       "Competition_Metric    0\n",
       "Sales                 0\n",
       "dtype: int64"
      ]
     },
     "execution_count": 29,
     "metadata": {},
     "output_type": "execute_result"
    }
   ],
   "source": [
    "df.isnull().sum()"
   ]
  },
  {
   "cell_type": "markdown",
   "metadata": {},
   "source": [
    "#### Categorical Variables"
   ]
  },
  {
   "cell_type": "code",
   "execution_count": 30,
   "metadata": {},
   "outputs": [],
   "source": [
    "for feature in categorical_features:\n",
    "    labels_ordered=df.groupby([feature])[\"Sales\"].mean().sort_values().index\n",
    "    labels_ordered={k:i for i,k in enumerate(labels_ordered,0)}\n",
    "    df[feature]=df[feature].map(labels_ordered)"
   ]
  },
  {
   "cell_type": "code",
   "execution_count": 31,
   "metadata": {},
   "outputs": [
    {
     "data": {
      "text/html": [
       "<div>\n",
       "<style scoped>\n",
       "    .dataframe tbody tr th:only-of-type {\n",
       "        vertical-align: middle;\n",
       "    }\n",
       "\n",
       "    .dataframe tbody tr th {\n",
       "        vertical-align: top;\n",
       "    }\n",
       "\n",
       "    .dataframe thead th {\n",
       "        text-align: right;\n",
       "    }\n",
       "</style>\n",
       "<table border=\"1\" class=\"dataframe\">\n",
       "  <thead>\n",
       "    <tr style=\"text-align: right;\">\n",
       "      <th></th>\n",
       "      <th>ID</th>\n",
       "      <th>Day_No</th>\n",
       "      <th>Course_ID</th>\n",
       "      <th>Course_Domain</th>\n",
       "      <th>Course_Type</th>\n",
       "      <th>Short_Promotion</th>\n",
       "      <th>Public_Holiday</th>\n",
       "      <th>Long_Promotion</th>\n",
       "      <th>User_Traffic</th>\n",
       "      <th>Competition_Metric</th>\n",
       "      <th>Sales</th>\n",
       "    </tr>\n",
       "  </thead>\n",
       "  <tbody>\n",
       "    <tr>\n",
       "      <td>0</td>\n",
       "      <td>1</td>\n",
       "      <td>1</td>\n",
       "      <td>1</td>\n",
       "      <td>0</td>\n",
       "      <td>0</td>\n",
       "      <td>0</td>\n",
       "      <td>0.0</td>\n",
       "      <td>1</td>\n",
       "      <td>11004.0</td>\n",
       "      <td>0.007</td>\n",
       "      <td>81.0</td>\n",
       "    </tr>\n",
       "    <tr>\n",
       "      <td>1</td>\n",
       "      <td>2</td>\n",
       "      <td>2</td>\n",
       "      <td>1</td>\n",
       "      <td>0</td>\n",
       "      <td>0</td>\n",
       "      <td>0</td>\n",
       "      <td>0.0</td>\n",
       "      <td>1</td>\n",
       "      <td>13650.0</td>\n",
       "      <td>0.007</td>\n",
       "      <td>79.0</td>\n",
       "    </tr>\n",
       "    <tr>\n",
       "      <td>2</td>\n",
       "      <td>3</td>\n",
       "      <td>3</td>\n",
       "      <td>1</td>\n",
       "      <td>0</td>\n",
       "      <td>0</td>\n",
       "      <td>0</td>\n",
       "      <td>0.0</td>\n",
       "      <td>1</td>\n",
       "      <td>11655.0</td>\n",
       "      <td>0.007</td>\n",
       "      <td>75.0</td>\n",
       "    </tr>\n",
       "    <tr>\n",
       "      <td>3</td>\n",
       "      <td>4</td>\n",
       "      <td>4</td>\n",
       "      <td>1</td>\n",
       "      <td>0</td>\n",
       "      <td>0</td>\n",
       "      <td>0</td>\n",
       "      <td>0.0</td>\n",
       "      <td>1</td>\n",
       "      <td>12054.0</td>\n",
       "      <td>0.007</td>\n",
       "      <td>80.0</td>\n",
       "    </tr>\n",
       "    <tr>\n",
       "      <td>4</td>\n",
       "      <td>5</td>\n",
       "      <td>5</td>\n",
       "      <td>1</td>\n",
       "      <td>0</td>\n",
       "      <td>0</td>\n",
       "      <td>0</td>\n",
       "      <td>0.0</td>\n",
       "      <td>1</td>\n",
       "      <td>6804.0</td>\n",
       "      <td>0.007</td>\n",
       "      <td>41.0</td>\n",
       "    </tr>\n",
       "  </tbody>\n",
       "</table>\n",
       "</div>"
      ],
      "text/plain": [
       "   ID  Day_No  Course_ID  Course_Domain  Course_Type  Short_Promotion  \\\n",
       "0   1       1          1              0            0                0   \n",
       "1   2       2          1              0            0                0   \n",
       "2   3       3          1              0            0                0   \n",
       "3   4       4          1              0            0                0   \n",
       "4   5       5          1              0            0                0   \n",
       "\n",
       "   Public_Holiday  Long_Promotion  User_Traffic  Competition_Metric  Sales  \n",
       "0             0.0               1       11004.0               0.007   81.0  \n",
       "1             0.0               1       13650.0               0.007   79.0  \n",
       "2             0.0               1       11655.0               0.007   75.0  \n",
       "3             0.0               1       12054.0               0.007   80.0  \n",
       "4             0.0               1        6804.0               0.007   41.0  "
      ]
     },
     "execution_count": 31,
     "metadata": {},
     "output_type": "execute_result"
    }
   ],
   "source": [
    "df.head()"
   ]
  },
  {
   "cell_type": "code",
   "execution_count": 32,
   "metadata": {},
   "outputs": [
    {
     "data": {
      "text/plain": [
       "8"
      ]
     },
     "execution_count": 32,
     "metadata": {},
     "output_type": "execute_result"
    }
   ],
   "source": [
    "scaling_feature=[feature for feature in df.columns if feature not in [\"ID\",\"Day_No\",\"Sales\"] ]\n",
    "len(scaling_feature)"
   ]
  },
  {
   "cell_type": "markdown",
   "metadata": {},
   "source": [
    "# Feature Scaling"
   ]
  },
  {
   "cell_type": "code",
   "execution_count": 33,
   "metadata": {},
   "outputs": [],
   "source": [
    "from sklearn.model_selection import train_test_split\n",
    "X_train,X_test,y_train,y_test=train_test_split(df,df[\"Sales\"],test_size=0.3,random_state=101)"
   ]
  },
  {
   "cell_type": "code",
   "execution_count": 34,
   "metadata": {},
   "outputs": [
    {
     "data": {
      "text/plain": [
       "((358460, 11), (153627, 11))"
      ]
     },
     "execution_count": 34,
     "metadata": {},
     "output_type": "execute_result"
    }
   ],
   "source": [
    "X_train.shape, X_test.shape"
   ]
  },
  {
   "cell_type": "code",
   "execution_count": 35,
   "metadata": {},
   "outputs": [
    {
     "data": {
      "text/plain": [
       "MinMaxScaler(copy=True, feature_range=(0, 1))"
      ]
     },
     "execution_count": 35,
     "metadata": {},
     "output_type": "execute_result"
    }
   ],
   "source": [
    "feature_scale=[feature for feature in df.columns if feature not in [\"ID\",\"Day_No\",\"Sales\"]]\n",
    "\n",
    "from sklearn.preprocessing import MinMaxScaler\n",
    "scaler=MinMaxScaler()\n",
    "scaler.fit(df[feature_scale])"
   ]
  },
  {
   "cell_type": "code",
   "execution_count": 36,
   "metadata": {},
   "outputs": [
    {
     "data": {
      "text/plain": [
       "array([[0.        , 0.        , 0.        , ..., 1.        , 0.37029064,\n",
       "        0.03181818],\n",
       "       [0.        , 0.        , 0.        , ..., 1.        , 0.46071044,\n",
       "        0.03181818],\n",
       "       [0.        , 0.        , 0.        , ..., 1.        , 0.39253678,\n",
       "        0.03181818],\n",
       "       ...,\n",
       "       [1.        , 0.33333333, 0.5       , ..., 1.        , 0.46142806,\n",
       "        0.31818182],\n",
       "       [1.        , 0.33333333, 0.5       , ..., 1.        , 0.29852888,\n",
       "        0.31818182],\n",
       "       [1.        , 0.33333333, 0.5       , ..., 1.        , 0.3853606 ,\n",
       "        0.31818182]])"
      ]
     },
     "execution_count": 36,
     "metadata": {},
     "output_type": "execute_result"
    }
   ],
   "source": [
    "scaler.transform(df[feature_scale])"
   ]
  },
  {
   "cell_type": "code",
   "execution_count": 37,
   "metadata": {},
   "outputs": [],
   "source": [
    "df=pd.concat([df[[\"ID\",\"Day_No\",\"Sales\"]].reset_index(drop=True),\n",
    "                    pd.DataFrame(scaler.transform(df[feature_scale]), columns=feature_scale)],\n",
    "                    axis=1)"
   ]
  },
  {
   "cell_type": "code",
   "execution_count": 38,
   "metadata": {},
   "outputs": [
    {
     "data": {
      "text/html": [
       "<div>\n",
       "<style scoped>\n",
       "    .dataframe tbody tr th:only-of-type {\n",
       "        vertical-align: middle;\n",
       "    }\n",
       "\n",
       "    .dataframe tbody tr th {\n",
       "        vertical-align: top;\n",
       "    }\n",
       "\n",
       "    .dataframe thead th {\n",
       "        text-align: right;\n",
       "    }\n",
       "</style>\n",
       "<table border=\"1\" class=\"dataframe\">\n",
       "  <thead>\n",
       "    <tr style=\"text-align: right;\">\n",
       "      <th></th>\n",
       "      <th>ID</th>\n",
       "      <th>Day_No</th>\n",
       "      <th>Sales</th>\n",
       "      <th>Course_ID</th>\n",
       "      <th>Course_Domain</th>\n",
       "      <th>Course_Type</th>\n",
       "      <th>Short_Promotion</th>\n",
       "      <th>Public_Holiday</th>\n",
       "      <th>Long_Promotion</th>\n",
       "      <th>User_Traffic</th>\n",
       "      <th>Competition_Metric</th>\n",
       "    </tr>\n",
       "  </thead>\n",
       "  <tbody>\n",
       "    <tr>\n",
       "      <td>0</td>\n",
       "      <td>1</td>\n",
       "      <td>1</td>\n",
       "      <td>81.0</td>\n",
       "      <td>0.0</td>\n",
       "      <td>0.0</td>\n",
       "      <td>0.0</td>\n",
       "      <td>0.0</td>\n",
       "      <td>0.0</td>\n",
       "      <td>1.0</td>\n",
       "      <td>0.370291</td>\n",
       "      <td>0.031818</td>\n",
       "    </tr>\n",
       "    <tr>\n",
       "      <td>1</td>\n",
       "      <td>2</td>\n",
       "      <td>2</td>\n",
       "      <td>79.0</td>\n",
       "      <td>0.0</td>\n",
       "      <td>0.0</td>\n",
       "      <td>0.0</td>\n",
       "      <td>0.0</td>\n",
       "      <td>0.0</td>\n",
       "      <td>1.0</td>\n",
       "      <td>0.460710</td>\n",
       "      <td>0.031818</td>\n",
       "    </tr>\n",
       "    <tr>\n",
       "      <td>2</td>\n",
       "      <td>3</td>\n",
       "      <td>3</td>\n",
       "      <td>75.0</td>\n",
       "      <td>0.0</td>\n",
       "      <td>0.0</td>\n",
       "      <td>0.0</td>\n",
       "      <td>0.0</td>\n",
       "      <td>0.0</td>\n",
       "      <td>1.0</td>\n",
       "      <td>0.392537</td>\n",
       "      <td>0.031818</td>\n",
       "    </tr>\n",
       "    <tr>\n",
       "      <td>3</td>\n",
       "      <td>4</td>\n",
       "      <td>4</td>\n",
       "      <td>80.0</td>\n",
       "      <td>0.0</td>\n",
       "      <td>0.0</td>\n",
       "      <td>0.0</td>\n",
       "      <td>0.0</td>\n",
       "      <td>0.0</td>\n",
       "      <td>1.0</td>\n",
       "      <td>0.406172</td>\n",
       "      <td>0.031818</td>\n",
       "    </tr>\n",
       "    <tr>\n",
       "      <td>4</td>\n",
       "      <td>5</td>\n",
       "      <td>5</td>\n",
       "      <td>41.0</td>\n",
       "      <td>0.0</td>\n",
       "      <td>0.0</td>\n",
       "      <td>0.0</td>\n",
       "      <td>0.0</td>\n",
       "      <td>0.0</td>\n",
       "      <td>1.0</td>\n",
       "      <td>0.226767</td>\n",
       "      <td>0.031818</td>\n",
       "    </tr>\n",
       "  </tbody>\n",
       "</table>\n",
       "</div>"
      ],
      "text/plain": [
       "   ID  Day_No  Sales  Course_ID  Course_Domain  Course_Type  Short_Promotion  \\\n",
       "0   1       1   81.0        0.0            0.0          0.0              0.0   \n",
       "1   2       2   79.0        0.0            0.0          0.0              0.0   \n",
       "2   3       3   75.0        0.0            0.0          0.0              0.0   \n",
       "3   4       4   80.0        0.0            0.0          0.0              0.0   \n",
       "4   5       5   41.0        0.0            0.0          0.0              0.0   \n",
       "\n",
       "   Public_Holiday  Long_Promotion  User_Traffic  Competition_Metric  \n",
       "0             0.0             1.0      0.370291            0.031818  \n",
       "1             0.0             1.0      0.460710            0.031818  \n",
       "2             0.0             1.0      0.392537            0.031818  \n",
       "3             0.0             1.0      0.406172            0.031818  \n",
       "4             0.0             1.0      0.226767            0.031818  "
      ]
     },
     "execution_count": 38,
     "metadata": {},
     "output_type": "execute_result"
    }
   ],
   "source": [
    "df.head()"
   ]
  },
  {
   "cell_type": "code",
   "execution_count": null,
   "metadata": {},
   "outputs": [],
   "source": []
  },
  {
   "cell_type": "markdown",
   "metadata": {},
   "source": [
    "# Feature Selection"
   ]
  },
  {
   "cell_type": "code",
   "execution_count": 39,
   "metadata": {},
   "outputs": [],
   "source": [
    "## for feature slection\n",
    "\n",
    "from sklearn.linear_model import Lasso\n",
    "from sklearn.feature_selection import SelectFromModel"
   ]
  },
  {
   "cell_type": "code",
   "execution_count": 40,
   "metadata": {},
   "outputs": [],
   "source": [
    "## Capture the dependent feature\n",
    "y_train=df[[\"Sales\"]]"
   ]
  },
  {
   "cell_type": "code",
   "execution_count": 41,
   "metadata": {},
   "outputs": [],
   "source": [
    "## drop dependent feature from dataset\n",
    "X_train=df.drop([\"ID\",\"Day_No\",\"Sales\"],axis=1)"
   ]
  },
  {
   "cell_type": "code",
   "execution_count": 42,
   "metadata": {},
   "outputs": [
    {
     "data": {
      "text/plain": [
       "SelectFromModel(estimator=Lasso(alpha=0.005, copy_X=True, fit_intercept=True,\n",
       "                                max_iter=1000, normalize=False, positive=False,\n",
       "                                precompute=False, random_state=0,\n",
       "                                selection='cyclic', tol=0.0001,\n",
       "                                warm_start=False),\n",
       "                max_features=None, norm_order=1, prefit=False, threshold=None)"
      ]
     },
     "execution_count": 42,
     "metadata": {},
     "output_type": "execute_result"
    }
   ],
   "source": [
    "feature_sel_model = SelectFromModel(Lasso(alpha=0.005, random_state=0))\n",
    "feature_sel_model.fit(X_train,y_train)"
   ]
  },
  {
   "cell_type": "code",
   "execution_count": 43,
   "metadata": {},
   "outputs": [
    {
     "data": {
      "text/plain": [
       "array([ True,  True,  True,  True, False,  True,  True,  True])"
      ]
     },
     "execution_count": 43,
     "metadata": {},
     "output_type": "execute_result"
    }
   ],
   "source": [
    "feature_sel_model.get_support()"
   ]
  },
  {
   "cell_type": "code",
   "execution_count": 44,
   "metadata": {},
   "outputs": [],
   "source": [
    "selected_feat=X_train.columns[(feature_sel_model.get_support())]"
   ]
  },
  {
   "cell_type": "code",
   "execution_count": 45,
   "metadata": {},
   "outputs": [
    {
     "data": {
      "text/plain": [
       "Index(['Course_ID', 'Course_Domain', 'Course_Type', 'Short_Promotion',\n",
       "       'Long_Promotion', 'User_Traffic', 'Competition_Metric'],\n",
       "      dtype='object')"
      ]
     },
     "execution_count": 45,
     "metadata": {},
     "output_type": "execute_result"
    }
   ],
   "source": [
    "selected_feat"
   ]
  },
  {
   "cell_type": "code",
   "execution_count": 46,
   "metadata": {},
   "outputs": [
    {
     "data": {
      "text/plain": [
       "7"
      ]
     },
     "execution_count": 46,
     "metadata": {},
     "output_type": "execute_result"
    }
   ],
   "source": [
    "len(selected_feat)"
   ]
  },
  {
   "cell_type": "code",
   "execution_count": 47,
   "metadata": {},
   "outputs": [],
   "source": [
    "X_train=X_train[selected_feat]"
   ]
  },
  {
   "cell_type": "code",
   "execution_count": 48,
   "metadata": {},
   "outputs": [
    {
     "data": {
      "text/html": [
       "<div>\n",
       "<style scoped>\n",
       "    .dataframe tbody tr th:only-of-type {\n",
       "        vertical-align: middle;\n",
       "    }\n",
       "\n",
       "    .dataframe tbody tr th {\n",
       "        vertical-align: top;\n",
       "    }\n",
       "\n",
       "    .dataframe thead th {\n",
       "        text-align: right;\n",
       "    }\n",
       "</style>\n",
       "<table border=\"1\" class=\"dataframe\">\n",
       "  <thead>\n",
       "    <tr style=\"text-align: right;\">\n",
       "      <th></th>\n",
       "      <th>Course_ID</th>\n",
       "      <th>Course_Domain</th>\n",
       "      <th>Course_Type</th>\n",
       "      <th>Short_Promotion</th>\n",
       "      <th>Long_Promotion</th>\n",
       "      <th>User_Traffic</th>\n",
       "      <th>Competition_Metric</th>\n",
       "    </tr>\n",
       "  </thead>\n",
       "  <tbody>\n",
       "    <tr>\n",
       "      <td>0</td>\n",
       "      <td>0.0</td>\n",
       "      <td>0.0</td>\n",
       "      <td>0.0</td>\n",
       "      <td>0.0</td>\n",
       "      <td>1.0</td>\n",
       "      <td>0.370291</td>\n",
       "      <td>0.031818</td>\n",
       "    </tr>\n",
       "    <tr>\n",
       "      <td>1</td>\n",
       "      <td>0.0</td>\n",
       "      <td>0.0</td>\n",
       "      <td>0.0</td>\n",
       "      <td>0.0</td>\n",
       "      <td>1.0</td>\n",
       "      <td>0.460710</td>\n",
       "      <td>0.031818</td>\n",
       "    </tr>\n",
       "    <tr>\n",
       "      <td>2</td>\n",
       "      <td>0.0</td>\n",
       "      <td>0.0</td>\n",
       "      <td>0.0</td>\n",
       "      <td>0.0</td>\n",
       "      <td>1.0</td>\n",
       "      <td>0.392537</td>\n",
       "      <td>0.031818</td>\n",
       "    </tr>\n",
       "    <tr>\n",
       "      <td>3</td>\n",
       "      <td>0.0</td>\n",
       "      <td>0.0</td>\n",
       "      <td>0.0</td>\n",
       "      <td>0.0</td>\n",
       "      <td>1.0</td>\n",
       "      <td>0.406172</td>\n",
       "      <td>0.031818</td>\n",
       "    </tr>\n",
       "    <tr>\n",
       "      <td>4</td>\n",
       "      <td>0.0</td>\n",
       "      <td>0.0</td>\n",
       "      <td>0.0</td>\n",
       "      <td>0.0</td>\n",
       "      <td>1.0</td>\n",
       "      <td>0.226767</td>\n",
       "      <td>0.031818</td>\n",
       "    </tr>\n",
       "  </tbody>\n",
       "</table>\n",
       "</div>"
      ],
      "text/plain": [
       "   Course_ID  Course_Domain  Course_Type  Short_Promotion  Long_Promotion  \\\n",
       "0        0.0            0.0          0.0              0.0             1.0   \n",
       "1        0.0            0.0          0.0              0.0             1.0   \n",
       "2        0.0            0.0          0.0              0.0             1.0   \n",
       "3        0.0            0.0          0.0              0.0             1.0   \n",
       "4        0.0            0.0          0.0              0.0             1.0   \n",
       "\n",
       "   User_Traffic  Competition_Metric  \n",
       "0      0.370291            0.031818  \n",
       "1      0.460710            0.031818  \n",
       "2      0.392537            0.031818  \n",
       "3      0.406172            0.031818  \n",
       "4      0.226767            0.031818  "
      ]
     },
     "execution_count": 48,
     "metadata": {},
     "output_type": "execute_result"
    }
   ],
   "source": [
    "X_train.head()"
   ]
  },
  {
   "cell_type": "markdown",
   "metadata": {},
   "source": [
    "INFERENCE\n",
    "-  We need to do Linear Regression for the above data."
   ]
  },
  {
   "cell_type": "markdown",
   "metadata": {},
   "source": [
    "# Regression Models"
   ]
  },
  {
   "cell_type": "markdown",
   "metadata": {},
   "source": [
    "### OLS Regression Model"
   ]
  },
  {
   "cell_type": "code",
   "execution_count": 49,
   "metadata": {},
   "outputs": [],
   "source": [
    "X=X_train\n",
    "y=df[\"Sales\"]"
   ]
  },
  {
   "cell_type": "code",
   "execution_count": 50,
   "metadata": {},
   "outputs": [],
   "source": [
    "from statsmodels.formula.api import ols\n",
    "import statsmodels.api as sm"
   ]
  },
  {
   "cell_type": "code",
   "execution_count": 51,
   "metadata": {},
   "outputs": [
    {
     "name": "stderr",
     "output_type": "stream",
     "text": [
      "C:\\Users\\Kasturi\\AppData\\Local\\Continuum\\anaconda3\\lib\\site-packages\\numpy\\core\\fromnumeric.py:2389: FutureWarning: Method .ptp is deprecated and will be removed in a future version. Use numpy.ptp instead.\n",
      "  return ptp(axis=axis, out=out, **kwargs)\n"
     ]
    },
    {
     "data": {
      "text/html": [
       "<table class=\"simpletable\">\n",
       "<caption>OLS Regression Results</caption>\n",
       "<tr>\n",
       "  <th>Dep. Variable:</th>          <td>Sales</td>      <th>  R-squared:         </th>  <td>   0.797</td>  \n",
       "</tr>\n",
       "<tr>\n",
       "  <th>Model:</th>                   <td>OLS</td>       <th>  Adj. R-squared:    </th>  <td>   0.797</td>  \n",
       "</tr>\n",
       "<tr>\n",
       "  <th>Method:</th>             <td>Least Squares</td>  <th>  F-statistic:       </th>  <td>2.874e+05</td> \n",
       "</tr>\n",
       "<tr>\n",
       "  <th>Date:</th>             <td>Fri, 03 Apr 2020</td> <th>  Prob (F-statistic):</th>   <td>  0.00</td>   \n",
       "</tr>\n",
       "<tr>\n",
       "  <th>Time:</th>                 <td>17:21:43</td>     <th>  Log-Likelihood:    </th> <td>-2.3066e+06</td>\n",
       "</tr>\n",
       "<tr>\n",
       "  <th>No. Observations:</th>      <td>512087</td>      <th>  AIC:               </th>  <td>4.613e+06</td> \n",
       "</tr>\n",
       "<tr>\n",
       "  <th>Df Residuals:</th>          <td>512079</td>      <th>  BIC:               </th>  <td>4.613e+06</td> \n",
       "</tr>\n",
       "<tr>\n",
       "  <th>Df Model:</th>              <td>     7</td>      <th>                     </th>      <td> </td>     \n",
       "</tr>\n",
       "<tr>\n",
       "  <th>Covariance Type:</th>      <td>nonrobust</td>    <th>                     </th>      <td> </td>     \n",
       "</tr>\n",
       "</table>\n",
       "<table class=\"simpletable\">\n",
       "<tr>\n",
       "           <td></td>             <th>coef</th>     <th>std err</th>      <th>t</th>      <th>P>|t|</th>  <th>[0.025</th>    <th>0.975]</th>  \n",
       "</tr>\n",
       "<tr>\n",
       "  <th>const</th>              <td>   -4.6145</td> <td>    0.120</td> <td>  -38.323</td> <td> 0.000</td> <td>   -4.850</td> <td>   -4.378</td>\n",
       "</tr>\n",
       "<tr>\n",
       "  <th>Course_ID</th>          <td>   -1.1908</td> <td>    0.106</td> <td>  -11.233</td> <td> 0.000</td> <td>   -1.399</td> <td>   -0.983</td>\n",
       "</tr>\n",
       "<tr>\n",
       "  <th>Course_Domain</th>      <td>    4.7951</td> <td>    0.122</td> <td>   39.371</td> <td> 0.000</td> <td>    4.556</td> <td>    5.034</td>\n",
       "</tr>\n",
       "<tr>\n",
       "  <th>Course_Type</th>        <td>   15.8840</td> <td>    0.123</td> <td>  128.720</td> <td> 0.000</td> <td>   15.642</td> <td>   16.126</td>\n",
       "</tr>\n",
       "<tr>\n",
       "  <th>Short_Promotion</th>    <td>   18.4163</td> <td>    0.065</td> <td>  283.255</td> <td> 0.000</td> <td>   18.289</td> <td>   18.544</td>\n",
       "</tr>\n",
       "<tr>\n",
       "  <th>Long_Promotion</th>     <td>    9.6329</td> <td>    0.064</td> <td>  151.219</td> <td> 0.000</td> <td>    9.508</td> <td>    9.758</td>\n",
       "</tr>\n",
       "<tr>\n",
       "  <th>User_Traffic</th>       <td>  201.3044</td> <td>    0.162</td> <td> 1241.562</td> <td> 0.000</td> <td>  200.987</td> <td>  201.622</td>\n",
       "</tr>\n",
       "<tr>\n",
       "  <th>Competition_Metric</th> <td>   21.8748</td> <td>    0.100</td> <td>  218.788</td> <td> 0.000</td> <td>   21.679</td> <td>   22.071</td>\n",
       "</tr>\n",
       "</table>\n",
       "<table class=\"simpletable\">\n",
       "<tr>\n",
       "  <th>Omnibus:</th>       <td>17417.890</td> <th>  Durbin-Watson:     </th> <td>   0.443</td> \n",
       "</tr>\n",
       "<tr>\n",
       "  <th>Prob(Omnibus):</th>  <td> 0.000</td>   <th>  Jarque-Bera (JB):  </th> <td>24954.404</td>\n",
       "</tr>\n",
       "<tr>\n",
       "  <th>Skew:</th>           <td> 0.351</td>   <th>  Prob(JB):          </th> <td>    0.00</td> \n",
       "</tr>\n",
       "<tr>\n",
       "  <th>Kurtosis:</th>       <td> 3.822</td>   <th>  Cond. No.          </th> <td>    9.31</td> \n",
       "</tr>\n",
       "</table><br/><br/>Warnings:<br/>[1] Standard Errors assume that the covariance matrix of the errors is correctly specified."
      ],
      "text/plain": [
       "<class 'statsmodels.iolib.summary.Summary'>\n",
       "\"\"\"\n",
       "                            OLS Regression Results                            \n",
       "==============================================================================\n",
       "Dep. Variable:                  Sales   R-squared:                       0.797\n",
       "Model:                            OLS   Adj. R-squared:                  0.797\n",
       "Method:                 Least Squares   F-statistic:                 2.874e+05\n",
       "Date:                Fri, 03 Apr 2020   Prob (F-statistic):               0.00\n",
       "Time:                        17:21:43   Log-Likelihood:            -2.3066e+06\n",
       "No. Observations:              512087   AIC:                         4.613e+06\n",
       "Df Residuals:                  512079   BIC:                         4.613e+06\n",
       "Df Model:                           7                                         \n",
       "Covariance Type:            nonrobust                                         \n",
       "======================================================================================\n",
       "                         coef    std err          t      P>|t|      [0.025      0.975]\n",
       "--------------------------------------------------------------------------------------\n",
       "const                 -4.6145      0.120    -38.323      0.000      -4.850      -4.378\n",
       "Course_ID             -1.1908      0.106    -11.233      0.000      -1.399      -0.983\n",
       "Course_Domain          4.7951      0.122     39.371      0.000       4.556       5.034\n",
       "Course_Type           15.8840      0.123    128.720      0.000      15.642      16.126\n",
       "Short_Promotion       18.4163      0.065    283.255      0.000      18.289      18.544\n",
       "Long_Promotion         9.6329      0.064    151.219      0.000       9.508       9.758\n",
       "User_Traffic         201.3044      0.162   1241.562      0.000     200.987     201.622\n",
       "Competition_Metric    21.8748      0.100    218.788      0.000      21.679      22.071\n",
       "==============================================================================\n",
       "Omnibus:                    17417.890   Durbin-Watson:                   0.443\n",
       "Prob(Omnibus):                  0.000   Jarque-Bera (JB):            24954.404\n",
       "Skew:                           0.351   Prob(JB):                         0.00\n",
       "Kurtosis:                       3.822   Cond. No.                         9.31\n",
       "==============================================================================\n",
       "\n",
       "Warnings:\n",
       "[1] Standard Errors assume that the covariance matrix of the errors is correctly specified.\n",
       "\"\"\""
      ]
     },
     "execution_count": 51,
     "metadata": {},
     "output_type": "execute_result"
    }
   ],
   "source": [
    "Xc=sm.add_constant(X)\n",
    "model=sm.OLS(y,Xc).fit()\n",
    "model.summary()"
   ]
  },
  {
   "cell_type": "code",
   "execution_count": 52,
   "metadata": {},
   "outputs": [
    {
     "data": {
      "text/plain": [
       "0          80.255585\n",
       "1          98.457486\n",
       "2          84.733831\n",
       "3          87.478562\n",
       "4          51.363680\n",
       "             ...    \n",
       "512082     80.423372\n",
       "512083     91.691215\n",
       "512084    113.215685\n",
       "512085     80.423372\n",
       "512086    116.319270\n",
       "Length: 512087, dtype: float64"
      ]
     },
     "execution_count": 52,
     "metadata": {},
     "output_type": "execute_result"
    }
   ],
   "source": [
    "y_pred=model.predict(Xc)\n",
    "y_pred"
   ]
  },
  {
   "cell_type": "code",
   "execution_count": 53,
   "metadata": {},
   "outputs": [
    {
     "data": {
      "text/plain": [
       "Text(0.5, 0, 'y_predict')"
      ]
     },
     "execution_count": 53,
     "metadata": {},
     "output_type": "execute_result"
    },
    {
     "data": {
      "image/png": "[encoded data removed]",
      "text/plain": [
       "<Figure size 432x288 with 1 Axes>"
      ]
     },
     "metadata": {
      "needs_background": "light"
     },
     "output_type": "display_data"
    }
   ],
   "source": [
    "plt.scatter(x=y,y=y_pred)\n",
    "plt.plot(y,y,\"pink\")\n",
    "plt.xlabel(\"y_actual\")\n",
    "plt.xlabel(\"y_predict\")"
   ]
  },
  {
   "cell_type": "markdown",
   "metadata": {},
   "source": [
    "### Linear Regression"
   ]
  },
  {
   "cell_type": "code",
   "execution_count": 54,
   "metadata": {},
   "outputs": [],
   "source": [
    "from sklearn.linear_model import LinearRegression"
   ]
  },
  {
   "cell_type": "code",
   "execution_count": 58,
   "metadata": {},
   "outputs": [
    {
     "data": {
      "text/plain": [
       "['Course_ID',\n",
       " 'Course_Domain',\n",
       " 'Course_Type',\n",
       " 'Short_Promotion',\n",
       " 'Long_Promotion',\n",
       " 'User_Traffic',\n",
       " 'Competition_Metric']"
      ]
     },
     "execution_count": 58,
     "metadata": {},
     "output_type": "execute_result"
    }
   ],
   "source": [
    "cols=list(selected_feat)\n",
    "cols"
   ]
  },
  {
   "cell_type": "code",
   "execution_count": 60,
   "metadata": {},
   "outputs": [],
   "source": [
    "X_train, X_test, y_train, y_test = train_test_split(X[cols], y, test_size=0.30, random_state=111)"
   ]
  },
  {
   "cell_type": "code",
   "execution_count": 61,
   "metadata": {},
   "outputs": [
    {
     "data": {
      "text/plain": [
       "LinearRegression(copy_X=True, fit_intercept=True, n_jobs=None, normalize=False)"
      ]
     },
     "execution_count": 61,
     "metadata": {},
     "output_type": "execute_result"
    }
   ],
   "source": [
    "regressor=LinearRegression()\n",
    "regressor.fit(X_train,y_train)"
   ]
  },
  {
   "cell_type": "code",
   "execution_count": 63,
   "metadata": {},
   "outputs": [
    {
     "data": {
      "text/html": [
       "<div>\n",
       "<style scoped>\n",
       "    .dataframe tbody tr th:only-of-type {\n",
       "        vertical-align: middle;\n",
       "    }\n",
       "\n",
       "    .dataframe tbody tr th {\n",
       "        vertical-align: top;\n",
       "    }\n",
       "\n",
       "    .dataframe thead th {\n",
       "        text-align: right;\n",
       "    }\n",
       "</style>\n",
       "<table border=\"1\" class=\"dataframe\">\n",
       "  <thead>\n",
       "    <tr style=\"text-align: right;\">\n",
       "      <th></th>\n",
       "      <th>Coefficents</th>\n",
       "    </tr>\n",
       "  </thead>\n",
       "  <tbody>\n",
       "    <tr>\n",
       "      <td>Course_ID</td>\n",
       "      <td>-1.277423</td>\n",
       "    </tr>\n",
       "    <tr>\n",
       "      <td>Course_Domain</td>\n",
       "      <td>4.669819</td>\n",
       "    </tr>\n",
       "    <tr>\n",
       "      <td>Course_Type</td>\n",
       "      <td>15.823015</td>\n",
       "    </tr>\n",
       "    <tr>\n",
       "      <td>Short_Promotion</td>\n",
       "      <td>18.388984</td>\n",
       "    </tr>\n",
       "    <tr>\n",
       "      <td>Long_Promotion</td>\n",
       "      <td>9.618754</td>\n",
       "    </tr>\n",
       "    <tr>\n",
       "      <td>User_Traffic</td>\n",
       "      <td>201.384225</td>\n",
       "    </tr>\n",
       "    <tr>\n",
       "      <td>Competition_Metric</td>\n",
       "      <td>21.891027</td>\n",
       "    </tr>\n",
       "  </tbody>\n",
       "</table>\n",
       "</div>"
      ],
      "text/plain": [
       "                    Coefficents\n",
       "Course_ID             -1.277423\n",
       "Course_Domain          4.669819\n",
       "Course_Type           15.823015\n",
       "Short_Promotion       18.388984\n",
       "Long_Promotion         9.618754\n",
       "User_Traffic         201.384225\n",
       "Competition_Metric    21.891027"
      ]
     },
     "execution_count": 63,
     "metadata": {},
     "output_type": "execute_result"
    }
   ],
   "source": [
    "coeff=pd.DataFrame(regressor.coef_,X.columns,columns=[\"Coefficents\"])\n",
    "coeff"
   ]
  },
  {
   "cell_type": "code",
   "execution_count": 64,
   "metadata": {},
   "outputs": [],
   "source": [
    "from sklearn.metrics import r2_score,mean_squared_error"
   ]
  },
  {
   "cell_type": "code",
   "execution_count": 66,
   "metadata": {},
   "outputs": [
    {
     "name": "stdout",
     "output_type": "stream",
     "text": [
      "r-squared for Train: 0.7975468540888976\n",
      "RMSE for Train: 21.84847375722653\n",
      "\n",
      "r-squared for Test: 0.7961039796928958\n",
      "RMSE for Test: 21.9349736636187\n"
     ]
    }
   ],
   "source": [
    "y_train_pred=regressor.predict(X_train)\n",
    "y_test_pred=regressor.predict(X_test)\n",
    "\n",
    "print(\"r-squared for Train:\",r2_score(y_train,y_train_pred))\n",
    "print(\"RMSE for Train:\",np.sqrt(mean_squared_error(y_train,y_train_pred)))\n",
    "print()\n",
    "print(\"r-squared for Test:\",r2_score(y_test,y_test_pred))\n",
    "print(\"RMSE for Test:\",np.sqrt(mean_squared_error(y_test,y_test_pred)))"
   ]
  },
  {
   "cell_type": "code",
   "execution_count": 70,
   "metadata": {},
   "outputs": [
    {
     "data": {
      "text/html": [
       "<div>\n",
       "<style scoped>\n",
       "    .dataframe tbody tr th:only-of-type {\n",
       "        vertical-align: middle;\n",
       "    }\n",
       "\n",
       "    .dataframe tbody tr th {\n",
       "        vertical-align: top;\n",
       "    }\n",
       "\n",
       "    .dataframe thead th {\n",
       "        text-align: right;\n",
       "    }\n",
       "</style>\n",
       "<table border=\"1\" class=\"dataframe\">\n",
       "  <thead>\n",
       "    <tr style=\"text-align: right;\">\n",
       "      <th></th>\n",
       "      <th>Actual</th>\n",
       "      <th>Predicted</th>\n",
       "      <th>Error</th>\n",
       "    </tr>\n",
       "  </thead>\n",
       "  <tbody>\n",
       "    <tr>\n",
       "      <td>509841</td>\n",
       "      <td>220.0</td>\n",
       "      <td>154.529930</td>\n",
       "      <td>65.470070</td>\n",
       "    </tr>\n",
       "    <tr>\n",
       "      <td>28854</td>\n",
       "      <td>171.0</td>\n",
       "      <td>156.206467</td>\n",
       "      <td>14.793533</td>\n",
       "    </tr>\n",
       "    <tr>\n",
       "      <td>190072</td>\n",
       "      <td>96.0</td>\n",
       "      <td>82.298010</td>\n",
       "      <td>13.701990</td>\n",
       "    </tr>\n",
       "    <tr>\n",
       "      <td>490067</td>\n",
       "      <td>77.0</td>\n",
       "      <td>93.659293</td>\n",
       "      <td>-16.659293</td>\n",
       "    </tr>\n",
       "    <tr>\n",
       "      <td>503553</td>\n",
       "      <td>99.0</td>\n",
       "      <td>100.001635</td>\n",
       "      <td>-1.001635</td>\n",
       "    </tr>\n",
       "    <tr>\n",
       "      <td>11980</td>\n",
       "      <td>100.0</td>\n",
       "      <td>87.108927</td>\n",
       "      <td>12.891073</td>\n",
       "    </tr>\n",
       "    <tr>\n",
       "      <td>133816</td>\n",
       "      <td>239.0</td>\n",
       "      <td>192.128158</td>\n",
       "      <td>46.871842</td>\n",
       "    </tr>\n",
       "    <tr>\n",
       "      <td>175468</td>\n",
       "      <td>87.0</td>\n",
       "      <td>99.331403</td>\n",
       "      <td>-12.331403</td>\n",
       "    </tr>\n",
       "    <tr>\n",
       "      <td>345923</td>\n",
       "      <td>153.0</td>\n",
       "      <td>141.808499</td>\n",
       "      <td>11.191501</td>\n",
       "    </tr>\n",
       "    <tr>\n",
       "      <td>251083</td>\n",
       "      <td>75.0</td>\n",
       "      <td>72.707989</td>\n",
       "      <td>2.292011</td>\n",
       "    </tr>\n",
       "    <tr>\n",
       "      <td>269347</td>\n",
       "      <td>70.0</td>\n",
       "      <td>71.842020</td>\n",
       "      <td>-1.842020</td>\n",
       "    </tr>\n",
       "    <tr>\n",
       "      <td>18308</td>\n",
       "      <td>106.0</td>\n",
       "      <td>128.462472</td>\n",
       "      <td>-22.462472</td>\n",
       "    </tr>\n",
       "    <tr>\n",
       "      <td>437307</td>\n",
       "      <td>125.0</td>\n",
       "      <td>116.490223</td>\n",
       "      <td>8.509777</td>\n",
       "    </tr>\n",
       "    <tr>\n",
       "      <td>79642</td>\n",
       "      <td>80.0</td>\n",
       "      <td>115.175653</td>\n",
       "      <td>-35.175653</td>\n",
       "    </tr>\n",
       "    <tr>\n",
       "      <td>179427</td>\n",
       "      <td>107.0</td>\n",
       "      <td>120.284032</td>\n",
       "      <td>-13.284032</td>\n",
       "    </tr>\n",
       "    <tr>\n",
       "      <td>505341</td>\n",
       "      <td>87.0</td>\n",
       "      <td>111.765075</td>\n",
       "      <td>-24.765075</td>\n",
       "    </tr>\n",
       "    <tr>\n",
       "      <td>102726</td>\n",
       "      <td>75.0</td>\n",
       "      <td>69.092116</td>\n",
       "      <td>5.907884</td>\n",
       "    </tr>\n",
       "    <tr>\n",
       "      <td>405033</td>\n",
       "      <td>118.0</td>\n",
       "      <td>90.773219</td>\n",
       "      <td>27.226781</td>\n",
       "    </tr>\n",
       "    <tr>\n",
       "      <td>253643</td>\n",
       "      <td>147.0</td>\n",
       "      <td>144.484822</td>\n",
       "      <td>2.515178</td>\n",
       "    </tr>\n",
       "    <tr>\n",
       "      <td>441050</td>\n",
       "      <td>68.0</td>\n",
       "      <td>66.569047</td>\n",
       "      <td>1.430953</td>\n",
       "    </tr>\n",
       "  </tbody>\n",
       "</table>\n",
       "</div>"
      ],
      "text/plain": [
       "        Actual   Predicted      Error\n",
       "509841   220.0  154.529930  65.470070\n",
       "28854    171.0  156.206467  14.793533\n",
       "190072    96.0   82.298010  13.701990\n",
       "490067    77.0   93.659293 -16.659293\n",
       "503553    99.0  100.001635  -1.001635\n",
       "11980    100.0   87.108927  12.891073\n",
       "133816   239.0  192.128158  46.871842\n",
       "175468    87.0   99.331403 -12.331403\n",
       "345923   153.0  141.808499  11.191501\n",
       "251083    75.0   72.707989   2.292011\n",
       "269347    70.0   71.842020  -1.842020\n",
       "18308    106.0  128.462472 -22.462472\n",
       "437307   125.0  116.490223   8.509777\n",
       "79642     80.0  115.175653 -35.175653\n",
       "179427   107.0  120.284032 -13.284032\n",
       "505341    87.0  111.765075 -24.765075\n",
       "102726    75.0   69.092116   5.907884\n",
       "405033   118.0   90.773219  27.226781\n",
       "253643   147.0  144.484822   2.515178\n",
       "441050    68.0   66.569047   1.430953"
      ]
     },
     "execution_count": 70,
     "metadata": {},
     "output_type": "execute_result"
    }
   ],
   "source": [
    "df_act_pred=pd.DataFrame({\"Actual\":y_test,\"Predicted\":y_test_pred,\"Error\":y_test-y_test_pred})\n",
    "df_act_pred.head(20)"
   ]
  },
  {
   "cell_type": "code",
   "execution_count": 76,
   "metadata": {},
   "outputs": [],
   "source": [
    "df_act_pred_graph=df_act_pred.head(10)"
   ]
  },
  {
   "cell_type": "code",
   "execution_count": 78,
   "metadata": {},
   "outputs": [
    {
     "data": {
      "text/plain": [
       "<matplotlib.axes._subplots.AxesSubplot at 0x22cc4d88ac8>"
      ]
     },
     "execution_count": 78,
     "metadata": {},
     "output_type": "execute_result"
    },
    {
     "data": {
      "image/png": "[encoded data removed]",
      "text/plain": [
       "<Figure size 432x288 with 1 Axes>"
      ]
     },
     "metadata": {
      "needs_background": "light"
     },
     "output_type": "display_data"
    }
   ],
   "source": [
    "df_act_pred_graph.plot(kind=\"bar\")"
   ]
  },
  {
   "cell_type": "code",
   "execution_count": 79,
   "metadata": {},
   "outputs": [
    {
     "data": {
      "text/plain": [
       "-4.573709137992708"
      ]
     },
     "execution_count": 79,
     "metadata": {},
     "output_type": "execute_result"
    }
   ],
   "source": [
    "regressor.intercept_"
   ]
  },
  {
   "cell_type": "code",
   "execution_count": 81,
   "metadata": {},
   "outputs": [],
   "source": [
    "Error=list(y_test-y_test_pred)"
   ]
  },
  {
   "cell_type": "code",
   "execution_count": 82,
   "metadata": {},
   "outputs": [
    {
     "data": {
      "text/plain": [
       "8784.6298032477"
      ]
     },
     "execution_count": 82,
     "metadata": {},
     "output_type": "execute_result"
    }
   ],
   "source": [
    "sum(Error)"
   ]
  },
  {
   "cell_type": "code",
   "execution_count": 83,
   "metadata": {},
   "outputs": [
    {
     "data": {
      "text/plain": [
       "93.72635596910669"
      ]
     },
     "execution_count": 83,
     "metadata": {},
     "output_type": "execute_result"
    }
   ],
   "source": [
    "8784.6298032477**.5"
   ]
  },
  {
   "cell_type": "code",
   "execution_count": null,
   "metadata": {},
   "outputs": [],
   "source": []
  }
 ],
 "metadata": {
  "kernelspec": {
   "display_name": "Python 3",
   "language": "python",
   "name": "python3"
  },
  "language_info": {
   "codemirror_mode": {
    "name": "ipython",
    "version": 3
   },
   "file_extension": ".py",
   "mimetype": "text/x-python",
   "name": "python",
   "nbconvert_exporter": "python",
   "pygments_lexer": "ipython3",
   "version": "3.7.4"
  }
 },
 "nbformat": 4,
 "nbformat_minor": 2
}
